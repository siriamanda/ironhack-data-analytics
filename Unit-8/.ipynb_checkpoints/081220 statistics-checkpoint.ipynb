{
 "cells": [
  {
   "cell_type": "markdown",
   "metadata": {
    "id": "64TpG_15PjGm"
   },
   "source": [
    "# Inferential Statistics"
   ]
  },
  {
   "cell_type": "markdown",
   "metadata": {
    "id": "LNDnKcO7P284"
   },
   "source": [
    "## Library loading"
   ]
  },
  {
   "cell_type": "code",
   "execution_count": null,
   "metadata": {
    "executionInfo": {
     "elapsed": 1702,
     "status": "ok",
     "timestamp": 1605600553799,
     "user": {
      "displayName": "Ignacio Soteras",
      "photoUrl": "",
      "userId": "02050793736257155229"
     },
     "user_tz": -60
    },
    "id": "izr9tAHQP2h7"
   },
   "outputs": [],
   "source": [
    "import pandas as pd\n",
    "import numpy as np\n",
    "pd.set_option('display.max_columns', None)\n",
    "import warnings\n",
    "warnings.filterwarnings('ignore')\n",
    "import matplotlib.pyplot as plt\n",
    "import seaborn as sns \n",
    "from scipy import stats"
   ]
  },
  {
   "cell_type": "markdown",
   "metadata": {
    "id": "wmjHye95DZkV"
   },
   "source": [
    "## Hypothesis testing"
   ]
  },
  {
   "cell_type": "markdown",
   "metadata": {
    "id": "8DuoMmAOLWYS"
   },
   "source": [
    "We want to test if our the **sample mean** is not equal to the **population mean** = 80.94. We also know that our **sample** has a size of 25 individuals.\n",
    "\n",
    "$t = \\frac{(\\bar{X}-\\mu_{0})}{\\hat{\\sigma}/\\sqrt{n}}$\n",
    "\n",
    "where:\n",
    "\n",
    "* $\\bar{X}$ is the **sample mean**\n",
    "* $\\mu_{0}$ is the **population mean**\n",
    "* $\\hat{\\sigma}$ is the **sample standard deviation**\n",
    "* $n$ is the number of measures in our sample"
   ]
  },
  {
   "cell_type": "code",
   "execution_count": null,
   "metadata": {
    "colab": {
     "base_uri": "https://localhost:8080/"
    },
    "executionInfo": {
     "elapsed": 689,
     "status": "ok",
     "timestamp": 1605612731747,
     "user": {
      "displayName": "Ignacio Soteras",
      "photoUrl": "",
      "userId": "02050793736257155229"
     },
     "user_tz": -60
    },
    "id": "UzOQzuSaDcnm",
    "outputId": "d20847cc-3930-4957-ae3c-e55b354eefba"
   },
   "outputs": [],
   "source": [
    "#Example 1 \n",
    "\n",
    "# Calculating T statistic for one sample t test\n",
    "\n",
    "import math\n",
    "\n",
    "sample_mean = 80.94\n",
    "pop_mean = 85\n",
    "sample_std = 11.6\n",
    "n = 25\n",
    "statistic = (sample_mean - pop_mean)/(sample_std/math.sqrt(n))\n",
    "print(\"Statistic is: \", statistic)"
   ]
  },
  {
   "cell_type": "markdown",
   "metadata": {},
   "source": [
    "The critical region is defined by a critical value which is symmetrical on either side of the Y axis.\n",
    "\n",
    "We use the significance level value, alpha, to check the critical value using a z-table. \n",
    "\n",
    "You can find the Z table here on this link [https://www.math.arizona.edu/~rsims/ma464/standardnormaltable.pdf]. \n",
    "\n",
    "Since this is a two tailed test, we will use alpha/2 ie 0.025 and see that the critical value is -1.96 (on the left hand side of the Y axis).   \n",
    "\n",
    "Now we can compare the calculated statistic and the critical value to see if the null hypothesis is rejected or not. \n",
    "\n",
    "In this case the statistic is calculated to be -1.75 and the critical value is -1.96, hence we are not in the rejection region. Hence we fail to reject the null hypothesis."
   ]
  },
  {
   "cell_type": "code",
   "execution_count": null,
   "metadata": {},
   "outputs": [],
   "source": [
    "# 2 sample t test \n",
    "\n",
    "sample_mean1 = 105.5\n",
    "sample_std1 = 20.1\n",
    "n1 = 34\n",
    "sample_mean2 = 90.9\n",
    "sample_std2 = 12.2\n",
    "n2 = 29\n",
    "\n",
    "pooled_sample_std = math.sqrt(((n1-1)*sample_std1**2 + (n2-1)*sample_std2**2)/(n1+n2-2))\n",
    "statistic = (sample_mean1-sample_mean2)/(pooled_sample_std*math.sqrt((1/n1)+(1/n2)))\n",
    "print(\"T Statistic is: \", statistic)"
   ]
  },
  {
   "cell_type": "code",
   "execution_count": null,
   "metadata": {},
   "outputs": [],
   "source": [
    "# Using python to find the p value and critical value\n",
    "\n",
    "from scipy.stats import t\n",
    "\n",
    "print(\"P value is: \", 1- t.cdf(statistic,n1+n2-2))\n",
    "print(\"Critical Value of z is: \", t.ppf(0.025, n1+n2-2)) #alpha is 0.05"
   ]
  },
  {
   "cell_type": "markdown",
   "metadata": {},
   "source": [
    "In this case, since the test statistic is more than the absolute value of \"critical value\", it is in the rejection region. Hence we reject the null hypothesis.\n",
    "\n",
    "Also by looking at the p value directly, we can reject the null hypothesis as it is less than 0.05"
   ]
  },
  {
   "cell_type": "code",
   "execution_count": null,
   "metadata": {},
   "outputs": [],
   "source": [
    "#using python to conduct ANOVA \n",
    "\n",
    "import statsmodels.api as sm\n",
    "from statsmodels.formula.api import ols\n",
    "\n",
    "data = pd.read_excel('anova_class_example_data.xlsx', sheet_name='data_collected')\n",
    "data.head()\n",
    "\n",
    "model = ols('Percent_increase_in_sales ~ C(Display_design)',data=data).fit()\n",
    "table = sm.stats.anova_lm(model)\n",
    "print(table)"
   ]
  },
  {
   "cell_type": "markdown",
   "metadata": {},
   "source": [
    "P value is very low \"PR(>F)\"- ie probability of observing F statistics greater than some value.\n",
    "\n",
    "P value = 0.000000002882\n",
    "\n",
    "Thus we can reject the null hypothesis "
   ]
  },
  {
   "cell_type": "code",
   "execution_count": null,
   "metadata": {},
   "outputs": [],
   "source": []
  }
 ],
 "metadata": {
  "colab": {
   "authorship_tag": "ABX9TyMlOaCC6SP6x6XBf1sC/Jb6",
   "name": "Morning.ipynb",
   "provenance": []
  },
  "kernelspec": {
   "display_name": "Python 3",
   "language": "python",
   "name": "python3"
  },
  "language_info": {
   "codemirror_mode": {
    "name": "ipython",
    "version": 3
   },
   "file_extension": ".py",
   "mimetype": "text/x-python",
   "name": "python",
   "nbconvert_exporter": "python",
   "pygments_lexer": "ipython3",
   "version": "3.8.3"
  }
 },
 "nbformat": 4,
 "nbformat_minor": 1
}
