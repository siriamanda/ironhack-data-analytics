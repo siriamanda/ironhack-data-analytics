{
 "cells": [
  {
   "cell_type": "markdown",
   "metadata": {},
   "source": [
    "Instructions\n",
    "\n",
    "It is assumed that the mean systolic blood pressure is μ = 120 mm Hg. \n",
    "\n",
    "In the Honolulu Heart Study, a sample of n = 100 people had an average systolic blood pressure of 130.1 mm Hg with a standard deviation of 21.21 mm Hg. \n",
    "\n",
    "Is the group significantly different (with respect to systolic blood pressure!) from the regular population?\n",
    "\n",
    "Set up the hypothesis test.\n",
    "\n",
    "Write down all the steps followed for setting up the test.\n",
    "\n",
    "Calculate the test statistic by hand and also code it in Python. It should be 4.76190. We will take a look at how to make decisions based on this calculated value.\n",
    "\n",
    "If you finished the previous question, please go through the code for \n",
    "principal_component_analysis_example provided in the files_for_lab folder ."
   ]
  },
  {
   "cell_type": "code",
   "execution_count": 1,
   "metadata": {},
   "outputs": [],
   "source": [
    "import math\n",
    "from scipy import stats"
   ]
  },
  {
   "cell_type": "markdown",
   "metadata": {},
   "source": [
    "H0: There is no significant difference in the mean blood pressure between the people in the Honolulu Heart Study and the regular population"
   ]
  },
  {
   "cell_type": "code",
   "execution_count": 2,
   "metadata": {},
   "outputs": [],
   "source": [
    "n = 100\n",
    "pop_mean = 120\n",
    "sample_mean = 130.1\n",
    "sample_std = 21.21\n",
    "\n",
    "statistic = (sample_mean - pop_mean) / (sample_std / math.sqrt(n))"
   ]
  },
  {
   "cell_type": "code",
   "execution_count": 3,
   "metadata": {},
   "outputs": [
    {
     "name": "stdout",
     "output_type": "stream",
     "text": [
      " The test statistic is:  4.761904761904759\n"
     ]
    }
   ],
   "source": [
    "print(f' The test statistic is: ', statistic)"
   ]
  },
  {
   "cell_type": "markdown",
   "metadata": {},
   "source": [
    "At a 95% signicicance level (alpha = 0.05) we will reject the null hypothesis if the test statistic is below -1.98 or above 1.98\n",
    "\n",
    "Since 4.76 > 1.98 we can reject the null hypothesis\n",
    "\n",
    "Answer: At a 95% confidence level we make the assumption that there is a difference  in the mean blood pressure between the people in the Honolulu Heart Study and the regular population\n"
   ]
  },
  {
   "cell_type": "code",
   "execution_count": null,
   "metadata": {},
   "outputs": [],
   "source": []
  }
 ],
 "metadata": {
  "kernelspec": {
   "display_name": "Python 3",
   "language": "python",
   "name": "python3"
  },
  "language_info": {
   "codemirror_mode": {
    "name": "ipython",
    "version": 3
   },
   "file_extension": ".py",
   "mimetype": "text/x-python",
   "name": "python",
   "nbconvert_exporter": "python",
   "pygments_lexer": "ipython3",
   "version": "3.7.6"
  }
 },
 "nbformat": 4,
 "nbformat_minor": 4
}
