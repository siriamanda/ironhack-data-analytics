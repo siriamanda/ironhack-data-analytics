{
 "cells": [
  {
   "cell_type": "markdown",
   "metadata": {
    "id": "nKXbJBDawYZu"
   },
   "source": [
    "# Lesson 1 Key Concepts"
   ]
  },
  {
   "cell_type": "markdown",
   "metadata": {
    "id": "cmbU5xlvgeXJ"
   },
   "source": [
    "## Importing libraries"
   ]
  },
  {
   "cell_type": "code",
   "execution_count": 2,
   "metadata": {
    "executionInfo": {
     "elapsed": 1601,
     "status": "ok",
     "timestamp": 1603701742392,
     "user": {
      "displayName": "Ignacio Soteras",
      "photoUrl": "",
      "userId": "02050793736257155229"
     },
     "user_tz": -60
    },
    "id": "gWGsI-x5ctNi"
   },
   "outputs": [],
   "source": [
    "import pandas as pd\n",
    "import numpy as np\n",
    "import datetime\n",
    "import warnings\n",
    "\n",
    "warnings.filterwarnings('ignore')\n",
    "warnings.filterwarnings(\"ignore\", message=\"numpy.ufunc size changed\")\n",
    "\n",
    "import matplotlib.pyplot as plt\n",
    "import seaborn as sns\n",
    "sns.set_style(\"whitegrid\")\n",
    "\n",
    "%matplotlib inline\n",
    "\n",
    "pd.set_option('display.max_columns', None)"
   ]
  },
  {
   "cell_type": "markdown",
   "metadata": {
    "id": "s9TRn9PXgVpd"
   },
   "source": [
    "## Importing data"
   ]
  },
  {
   "cell_type": "code",
   "execution_count": 4,
   "metadata": {
    "executionInfo": {
     "elapsed": 849,
     "status": "ok",
     "timestamp": 1603706139423,
     "user": {
      "displayName": "Ignacio Soteras",
      "photoUrl": "",
      "userId": "02050793736257155229"
     },
     "user_tz": -60
    },
    "id": "y3Fxe8ePfCud"
   },
   "outputs": [],
   "source": [
    "data = pd.read_csv('unit4.csv') "
   ]
  },
  {
   "cell_type": "code",
   "execution_count": 5,
   "metadata": {
    "colab": {
     "base_uri": "https://localhost:8080/",
     "height": 215
    },
    "executionInfo": {
     "elapsed": 601,
     "status": "ok",
     "timestamp": 1603706142232,
     "user": {
      "displayName": "Ignacio Soteras",
      "photoUrl": "",
      "userId": "02050793736257155229"
     },
     "user_tz": -60
    },
    "id": "TNQ1je7Y3Q92",
    "outputId": "5c04bcd2-e46f-4148-d161-e58cdbf836f9"
   },
   "outputs": [
    {
     "data": {
      "text/html": [
       "<div>\n",
       "<style scoped>\n",
       "    .dataframe tbody tr th:only-of-type {\n",
       "        vertical-align: middle;\n",
       "    }\n",
       "\n",
       "    .dataframe tbody tr th {\n",
       "        vertical-align: top;\n",
       "    }\n",
       "\n",
       "    .dataframe thead th {\n",
       "        text-align: right;\n",
       "    }\n",
       "</style>\n",
       "<table border=\"1\" class=\"dataframe\">\n",
       "  <thead>\n",
       "    <tr style=\"text-align: right;\">\n",
       "      <th></th>\n",
       "      <th>STATE</th>\n",
       "      <th>PVASTATE</th>\n",
       "      <th>DOB</th>\n",
       "      <th>MDMAUD</th>\n",
       "      <th>RECP3</th>\n",
       "      <th>GENDER</th>\n",
       "      <th>DOMAIN</th>\n",
       "      <th>INCOME</th>\n",
       "      <th>HOMEOWNR</th>\n",
       "      <th>HV1</th>\n",
       "      <th>HV2</th>\n",
       "      <th>HV3</th>\n",
       "      <th>HV4</th>\n",
       "      <th>IC1</th>\n",
       "      <th>IC2</th>\n",
       "      <th>IC3</th>\n",
       "      <th>IC4</th>\n",
       "      <th>IC5</th>\n",
       "      <th>VETERANS</th>\n",
       "      <th>NUMPROM</th>\n",
       "      <th>CARDPROM</th>\n",
       "      <th>CARDPM12</th>\n",
       "      <th>NUMPRM12</th>\n",
       "      <th>MAXADATE</th>\n",
       "      <th>RFA_2</th>\n",
       "      <th>NGIFTALL</th>\n",
       "      <th>TIMELAG</th>\n",
       "      <th>AVGGIFT</th>\n",
       "    </tr>\n",
       "  </thead>\n",
       "  <tbody>\n",
       "    <tr>\n",
       "      <th>0</th>\n",
       "      <td>IL</td>\n",
       "      <td></td>\n",
       "      <td>3712</td>\n",
       "      <td>XXXX</td>\n",
       "      <td></td>\n",
       "      <td>F</td>\n",
       "      <td>T2</td>\n",
       "      <td>NaN</td>\n",
       "      <td></td>\n",
       "      <td>479</td>\n",
       "      <td>635</td>\n",
       "      <td>3</td>\n",
       "      <td>2</td>\n",
       "      <td>307</td>\n",
       "      <td>318</td>\n",
       "      <td>349</td>\n",
       "      <td>378</td>\n",
       "      <td>12883</td>\n",
       "      <td></td>\n",
       "      <td>74</td>\n",
       "      <td>27</td>\n",
       "      <td>6</td>\n",
       "      <td>14</td>\n",
       "      <td>9702</td>\n",
       "      <td>L4E</td>\n",
       "      <td>31</td>\n",
       "      <td>4.0</td>\n",
       "      <td>7.741935</td>\n",
       "    </tr>\n",
       "    <tr>\n",
       "      <th>1</th>\n",
       "      <td>CA</td>\n",
       "      <td></td>\n",
       "      <td>5202</td>\n",
       "      <td>XXXX</td>\n",
       "      <td></td>\n",
       "      <td>M</td>\n",
       "      <td>S1</td>\n",
       "      <td>6.0</td>\n",
       "      <td>H</td>\n",
       "      <td>5468</td>\n",
       "      <td>5218</td>\n",
       "      <td>12</td>\n",
       "      <td>10</td>\n",
       "      <td>1088</td>\n",
       "      <td>1096</td>\n",
       "      <td>1026</td>\n",
       "      <td>1037</td>\n",
       "      <td>36175</td>\n",
       "      <td></td>\n",
       "      <td>32</td>\n",
       "      <td>12</td>\n",
       "      <td>6</td>\n",
       "      <td>13</td>\n",
       "      <td>9702</td>\n",
       "      <td>L2G</td>\n",
       "      <td>3</td>\n",
       "      <td>18.0</td>\n",
       "      <td>15.666667</td>\n",
       "    </tr>\n",
       "    <tr>\n",
       "      <th>2</th>\n",
       "      <td>NC</td>\n",
       "      <td></td>\n",
       "      <td>0</td>\n",
       "      <td>XXXX</td>\n",
       "      <td></td>\n",
       "      <td>M</td>\n",
       "      <td>R2</td>\n",
       "      <td>3.0</td>\n",
       "      <td>U</td>\n",
       "      <td>497</td>\n",
       "      <td>546</td>\n",
       "      <td>2</td>\n",
       "      <td>1</td>\n",
       "      <td>251</td>\n",
       "      <td>292</td>\n",
       "      <td>292</td>\n",
       "      <td>340</td>\n",
       "      <td>11576</td>\n",
       "      <td></td>\n",
       "      <td>63</td>\n",
       "      <td>26</td>\n",
       "      <td>6</td>\n",
       "      <td>14</td>\n",
       "      <td>9702</td>\n",
       "      <td>L4E</td>\n",
       "      <td>27</td>\n",
       "      <td>12.0</td>\n",
       "      <td>7.481481</td>\n",
       "    </tr>\n",
       "    <tr>\n",
       "      <th>3</th>\n",
       "      <td>CA</td>\n",
       "      <td></td>\n",
       "      <td>2801</td>\n",
       "      <td>XXXX</td>\n",
       "      <td></td>\n",
       "      <td>F</td>\n",
       "      <td>R2</td>\n",
       "      <td>1.0</td>\n",
       "      <td>U</td>\n",
       "      <td>1000</td>\n",
       "      <td>1263</td>\n",
       "      <td>2</td>\n",
       "      <td>1</td>\n",
       "      <td>386</td>\n",
       "      <td>388</td>\n",
       "      <td>396</td>\n",
       "      <td>423</td>\n",
       "      <td>15130</td>\n",
       "      <td></td>\n",
       "      <td>66</td>\n",
       "      <td>27</td>\n",
       "      <td>6</td>\n",
       "      <td>14</td>\n",
       "      <td>9702</td>\n",
       "      <td>L4E</td>\n",
       "      <td>16</td>\n",
       "      <td>9.0</td>\n",
       "      <td>6.812500</td>\n",
       "    </tr>\n",
       "    <tr>\n",
       "      <th>4</th>\n",
       "      <td>FL</td>\n",
       "      <td></td>\n",
       "      <td>2001</td>\n",
       "      <td>XXXX</td>\n",
       "      <td>X</td>\n",
       "      <td>F</td>\n",
       "      <td>S2</td>\n",
       "      <td>3.0</td>\n",
       "      <td>H</td>\n",
       "      <td>576</td>\n",
       "      <td>594</td>\n",
       "      <td>4</td>\n",
       "      <td>3</td>\n",
       "      <td>240</td>\n",
       "      <td>250</td>\n",
       "      <td>293</td>\n",
       "      <td>321</td>\n",
       "      <td>9836</td>\n",
       "      <td></td>\n",
       "      <td>113</td>\n",
       "      <td>43</td>\n",
       "      <td>10</td>\n",
       "      <td>25</td>\n",
       "      <td>9702</td>\n",
       "      <td>L2F</td>\n",
       "      <td>37</td>\n",
       "      <td>14.0</td>\n",
       "      <td>6.864865</td>\n",
       "    </tr>\n",
       "  </tbody>\n",
       "</table>\n",
       "</div>"
      ],
      "text/plain": [
       "  STATE PVASTATE   DOB MDMAUD RECP3 GENDER DOMAIN  INCOME HOMEOWNR   HV1  \\\n",
       "0    IL           3712   XXXX            F     T2     NaN            479   \n",
       "1    CA           5202   XXXX            M     S1     6.0        H  5468   \n",
       "2    NC              0   XXXX            M     R2     3.0        U   497   \n",
       "3    CA           2801   XXXX            F     R2     1.0        U  1000   \n",
       "4    FL           2001   XXXX     X      F     S2     3.0        H   576   \n",
       "\n",
       "    HV2  HV3  HV4   IC1   IC2   IC3   IC4    IC5 VETERANS  NUMPROM  CARDPROM  \\\n",
       "0   635    3    2   307   318   349   378  12883                74        27   \n",
       "1  5218   12   10  1088  1096  1026  1037  36175                32        12   \n",
       "2   546    2    1   251   292   292   340  11576                63        26   \n",
       "3  1263    2    1   386   388   396   423  15130                66        27   \n",
       "4   594    4    3   240   250   293   321   9836               113        43   \n",
       "\n",
       "   CARDPM12  NUMPRM12  MAXADATE RFA_2  NGIFTALL  TIMELAG    AVGGIFT  \n",
       "0         6        14      9702   L4E        31      4.0   7.741935  \n",
       "1         6        13      9702   L2G         3     18.0  15.666667  \n",
       "2         6        14      9702   L4E        27     12.0   7.481481  \n",
       "3         6        14      9702   L4E        16      9.0   6.812500  \n",
       "4        10        25      9702   L2F        37     14.0   6.864865  "
      ]
     },
     "execution_count": 5,
     "metadata": {},
     "output_type": "execute_result"
    }
   ],
   "source": [
    "data.head()"
   ]
  },
  {
   "cell_type": "code",
   "execution_count": 6,
   "metadata": {
    "colab": {
     "base_uri": "https://localhost:8080/",
     "height": 34
    },
    "executionInfo": {
     "elapsed": 605,
     "status": "ok",
     "timestamp": 1603706143941,
     "user": {
      "displayName": "Ignacio Soteras",
      "photoUrl": "",
      "userId": "02050793736257155229"
     },
     "user_tz": -60
    },
    "id": "0_rLC5xe3TPZ",
    "outputId": "a77ce282-9250-443c-b567-608aad9e3754"
   },
   "outputs": [
    {
     "data": {
      "text/plain": [
       "(90569, 28)"
      ]
     },
     "execution_count": 6,
     "metadata": {},
     "output_type": "execute_result"
    }
   ],
   "source": [
    "data.shape"
   ]
  },
  {
   "cell_type": "markdown",
   "metadata": {
    "id": "RMA0c6Bfriwp"
   },
   "source": [
    "## Checking data types"
   ]
  },
  {
   "cell_type": "code",
   "execution_count": 16,
   "metadata": {
    "colab": {
     "base_uri": "https://localhost:8080/",
     "height": 605
    },
    "executionInfo": {
     "elapsed": 629,
     "status": "ok",
     "timestamp": 1603706148713,
     "user": {
      "displayName": "Ignacio Soteras",
      "photoUrl": "",
      "userId": "02050793736257155229"
     },
     "user_tz": -60
    },
    "id": "aVe-wEskrlw-",
    "outputId": "debc4c15-f2a8-4fc0-d1ca-f3e313f71da1"
   },
   "outputs": [
    {
     "name": "stdout",
     "output_type": "stream",
     "text": [
      "<class 'pandas.core.frame.DataFrame'>\n",
      "RangeIndex: 90569 entries, 0 to 90568\n",
      "Data columns (total 28 columns):\n",
      " #   Column    Non-Null Count  Dtype  \n",
      "---  ------    --------------  -----  \n",
      " 0   STATE     90569 non-null  object \n",
      " 1   PVASTATE  90569 non-null  object \n",
      " 2   DOB       90569 non-null  int64  \n",
      " 3   MDMAUD    90569 non-null  object \n",
      " 4   RECP3     90569 non-null  object \n",
      " 5   GENDER    90569 non-null  object \n",
      " 6   DOMAIN    90569 non-null  object \n",
      " 7   INCOME    70386 non-null  float64\n",
      " 8   HOMEOWNR  90569 non-null  object \n",
      " 9   HV1       90569 non-null  int64  \n",
      " 10  HV2       90569 non-null  int64  \n",
      " 11  HV3       90569 non-null  int64  \n",
      " 12  HV4       90569 non-null  int64  \n",
      " 13  IC1       90569 non-null  int64  \n",
      " 14  IC2       90569 non-null  int64  \n",
      " 15  IC3       90569 non-null  int64  \n",
      " 16  IC4       90569 non-null  int64  \n",
      " 17  IC5       90569 non-null  int64  \n",
      " 18  VETERANS  90569 non-null  object \n",
      " 19  NUMPROM   90569 non-null  int64  \n",
      " 20  CARDPROM  90569 non-null  int64  \n",
      " 21  CARDPM12  90569 non-null  int64  \n",
      " 22  NUMPRM12  90569 non-null  int64  \n",
      " 23  MAXADATE  90569 non-null  int64  \n",
      " 24  RFA_2     90569 non-null  object \n",
      " 25  NGIFTALL  90569 non-null  int64  \n",
      " 26  TIMELAG   80916 non-null  float64\n",
      " 27  AVGGIFT   90569 non-null  float64\n",
      "dtypes: float64(3), int64(16), object(9)\n",
      "memory usage: 19.3+ MB\n"
     ]
    }
   ],
   "source": [
    "data.info()"
   ]
  },
  {
   "cell_type": "markdown",
   "metadata": {
    "id": "L6WZgCCek4zm"
   },
   "source": [
    "## Checking for null values"
   ]
  },
  {
   "cell_type": "code",
   "execution_count": 17,
   "metadata": {
    "colab": {
     "base_uri": "https://localhost:8080/",
     "height": 876
    },
    "executionInfo": {
     "elapsed": 636,
     "status": "ok",
     "timestamp": 1603706151509,
     "user": {
      "displayName": "Ignacio Soteras",
      "photoUrl": "",
      "userId": "02050793736257155229"
     },
     "user_tz": -60
    },
    "id": "etjuldy-k8J6",
    "outputId": "5aeda8f4-2f69-4e33-dc4e-20981d569a67"
   },
   "outputs": [
    {
     "data": {
      "text/html": [
       "<div>\n",
       "<style scoped>\n",
       "    .dataframe tbody tr th:only-of-type {\n",
       "        vertical-align: middle;\n",
       "    }\n",
       "\n",
       "    .dataframe tbody tr th {\n",
       "        vertical-align: top;\n",
       "    }\n",
       "\n",
       "    .dataframe thead th {\n",
       "        text-align: right;\n",
       "    }\n",
       "</style>\n",
       "<table border=\"1\" class=\"dataframe\">\n",
       "  <thead>\n",
       "    <tr style=\"text-align: right;\">\n",
       "      <th></th>\n",
       "      <th>column_name</th>\n",
       "      <th>Percentage Null Values</th>\n",
       "    </tr>\n",
       "  </thead>\n",
       "  <tbody>\n",
       "    <tr>\n",
       "      <th>7</th>\n",
       "      <td>INCOME</td>\n",
       "      <td>0.222847</td>\n",
       "    </tr>\n",
       "    <tr>\n",
       "      <th>26</th>\n",
       "      <td>TIMELAG</td>\n",
       "      <td>0.106582</td>\n",
       "    </tr>\n",
       "    <tr>\n",
       "      <th>0</th>\n",
       "      <td>STATE</td>\n",
       "      <td>0.000000</td>\n",
       "    </tr>\n",
       "    <tr>\n",
       "      <th>15</th>\n",
       "      <td>IC3</td>\n",
       "      <td>0.000000</td>\n",
       "    </tr>\n",
       "    <tr>\n",
       "      <th>25</th>\n",
       "      <td>NGIFTALL</td>\n",
       "      <td>0.000000</td>\n",
       "    </tr>\n",
       "    <tr>\n",
       "      <th>24</th>\n",
       "      <td>RFA_2</td>\n",
       "      <td>0.000000</td>\n",
       "    </tr>\n",
       "    <tr>\n",
       "      <th>23</th>\n",
       "      <td>MAXADATE</td>\n",
       "      <td>0.000000</td>\n",
       "    </tr>\n",
       "    <tr>\n",
       "      <th>22</th>\n",
       "      <td>NUMPRM12</td>\n",
       "      <td>0.000000</td>\n",
       "    </tr>\n",
       "    <tr>\n",
       "      <th>21</th>\n",
       "      <td>CARDPM12</td>\n",
       "      <td>0.000000</td>\n",
       "    </tr>\n",
       "    <tr>\n",
       "      <th>20</th>\n",
       "      <td>CARDPROM</td>\n",
       "      <td>0.000000</td>\n",
       "    </tr>\n",
       "    <tr>\n",
       "      <th>19</th>\n",
       "      <td>NUMPROM</td>\n",
       "      <td>0.000000</td>\n",
       "    </tr>\n",
       "    <tr>\n",
       "      <th>18</th>\n",
       "      <td>VETERANS</td>\n",
       "      <td>0.000000</td>\n",
       "    </tr>\n",
       "    <tr>\n",
       "      <th>17</th>\n",
       "      <td>IC5</td>\n",
       "      <td>0.000000</td>\n",
       "    </tr>\n",
       "    <tr>\n",
       "      <th>16</th>\n",
       "      <td>IC4</td>\n",
       "      <td>0.000000</td>\n",
       "    </tr>\n",
       "    <tr>\n",
       "      <th>14</th>\n",
       "      <td>IC2</td>\n",
       "      <td>0.000000</td>\n",
       "    </tr>\n",
       "    <tr>\n",
       "      <th>1</th>\n",
       "      <td>PVASTATE</td>\n",
       "      <td>0.000000</td>\n",
       "    </tr>\n",
       "    <tr>\n",
       "      <th>13</th>\n",
       "      <td>IC1</td>\n",
       "      <td>0.000000</td>\n",
       "    </tr>\n",
       "    <tr>\n",
       "      <th>12</th>\n",
       "      <td>HV4</td>\n",
       "      <td>0.000000</td>\n",
       "    </tr>\n",
       "    <tr>\n",
       "      <th>11</th>\n",
       "      <td>HV3</td>\n",
       "      <td>0.000000</td>\n",
       "    </tr>\n",
       "    <tr>\n",
       "      <th>10</th>\n",
       "      <td>HV2</td>\n",
       "      <td>0.000000</td>\n",
       "    </tr>\n",
       "    <tr>\n",
       "      <th>9</th>\n",
       "      <td>HV1</td>\n",
       "      <td>0.000000</td>\n",
       "    </tr>\n",
       "    <tr>\n",
       "      <th>8</th>\n",
       "      <td>HOMEOWNR</td>\n",
       "      <td>0.000000</td>\n",
       "    </tr>\n",
       "    <tr>\n",
       "      <th>6</th>\n",
       "      <td>DOMAIN</td>\n",
       "      <td>0.000000</td>\n",
       "    </tr>\n",
       "    <tr>\n",
       "      <th>5</th>\n",
       "      <td>GENDER</td>\n",
       "      <td>0.000000</td>\n",
       "    </tr>\n",
       "    <tr>\n",
       "      <th>4</th>\n",
       "      <td>RECP3</td>\n",
       "      <td>0.000000</td>\n",
       "    </tr>\n",
       "    <tr>\n",
       "      <th>3</th>\n",
       "      <td>MDMAUD</td>\n",
       "      <td>0.000000</td>\n",
       "    </tr>\n",
       "    <tr>\n",
       "      <th>2</th>\n",
       "      <td>DOB</td>\n",
       "      <td>0.000000</td>\n",
       "    </tr>\n",
       "    <tr>\n",
       "      <th>27</th>\n",
       "      <td>AVGGIFT</td>\n",
       "      <td>0.000000</td>\n",
       "    </tr>\n",
       "  </tbody>\n",
       "</table>\n",
       "</div>"
      ],
      "text/plain": [
       "   column_name  Percentage Null Values\n",
       "7       INCOME                0.222847\n",
       "26     TIMELAG                0.106582\n",
       "0        STATE                0.000000\n",
       "15         IC3                0.000000\n",
       "25    NGIFTALL                0.000000\n",
       "24       RFA_2                0.000000\n",
       "23    MAXADATE                0.000000\n",
       "22    NUMPRM12                0.000000\n",
       "21    CARDPM12                0.000000\n",
       "20    CARDPROM                0.000000\n",
       "19     NUMPROM                0.000000\n",
       "18    VETERANS                0.000000\n",
       "17         IC5                0.000000\n",
       "16         IC4                0.000000\n",
       "14         IC2                0.000000\n",
       "1     PVASTATE                0.000000\n",
       "13         IC1                0.000000\n",
       "12         HV4                0.000000\n",
       "11         HV3                0.000000\n",
       "10         HV2                0.000000\n",
       "9          HV1                0.000000\n",
       "8     HOMEOWNR                0.000000\n",
       "6       DOMAIN                0.000000\n",
       "5       GENDER                0.000000\n",
       "4        RECP3                0.000000\n",
       "3       MDMAUD                0.000000\n",
       "2          DOB                0.000000\n",
       "27     AVGGIFT                0.000000"
      ]
     },
     "execution_count": 17,
     "metadata": {},
     "output_type": "execute_result"
    }
   ],
   "source": [
    "nulls = pd.DataFrame(data.isna().sum()/len(data))\n",
    "nulls= nulls.reset_index()\n",
    "nulls.columns = ['column_name', 'Percentage Null Values']\n",
    "nulls.sort_values(by='Percentage Null Values', ascending = False)"
   ]
  },
  {
   "cell_type": "markdown",
   "metadata": {
    "id": "J8z91yHVq8hM"
   },
   "source": [
    "## Checking the numerical values"
   ]
  },
  {
   "cell_type": "code",
   "execution_count": 10,
   "metadata": {
    "colab": {
     "base_uri": "https://localhost:8080/",
     "height": 215
    },
    "executionInfo": {
     "elapsed": 584,
     "status": "ok",
     "timestamp": 1603706154514,
     "user": {
      "displayName": "Ignacio Soteras",
      "photoUrl": "",
      "userId": "02050793736257155229"
     },
     "user_tz": -60
    },
    "id": "92RPfIjurDOw",
    "outputId": "49cc370a-c149-4182-964b-417ee1978cac"
   },
   "outputs": [
    {
     "data": {
      "text/html": [
       "<div>\n",
       "<style scoped>\n",
       "    .dataframe tbody tr th:only-of-type {\n",
       "        vertical-align: middle;\n",
       "    }\n",
       "\n",
       "    .dataframe tbody tr th {\n",
       "        vertical-align: top;\n",
       "    }\n",
       "\n",
       "    .dataframe thead th {\n",
       "        text-align: right;\n",
       "    }\n",
       "</style>\n",
       "<table border=\"1\" class=\"dataframe\">\n",
       "  <thead>\n",
       "    <tr style=\"text-align: right;\">\n",
       "      <th></th>\n",
       "      <th>DOB</th>\n",
       "      <th>INCOME</th>\n",
       "      <th>HV1</th>\n",
       "      <th>HV2</th>\n",
       "      <th>HV3</th>\n",
       "      <th>HV4</th>\n",
       "      <th>IC1</th>\n",
       "      <th>IC2</th>\n",
       "      <th>IC3</th>\n",
       "      <th>IC4</th>\n",
       "      <th>IC5</th>\n",
       "      <th>NUMPROM</th>\n",
       "      <th>CARDPROM</th>\n",
       "      <th>CARDPM12</th>\n",
       "      <th>NUMPRM12</th>\n",
       "      <th>MAXADATE</th>\n",
       "      <th>NGIFTALL</th>\n",
       "      <th>TIMELAG</th>\n",
       "      <th>AVGGIFT</th>\n",
       "    </tr>\n",
       "  </thead>\n",
       "  <tbody>\n",
       "    <tr>\n",
       "      <th>0</th>\n",
       "      <td>3712</td>\n",
       "      <td>NaN</td>\n",
       "      <td>479</td>\n",
       "      <td>635</td>\n",
       "      <td>3</td>\n",
       "      <td>2</td>\n",
       "      <td>307</td>\n",
       "      <td>318</td>\n",
       "      <td>349</td>\n",
       "      <td>378</td>\n",
       "      <td>12883</td>\n",
       "      <td>74</td>\n",
       "      <td>27</td>\n",
       "      <td>6</td>\n",
       "      <td>14</td>\n",
       "      <td>9702</td>\n",
       "      <td>31</td>\n",
       "      <td>4.0</td>\n",
       "      <td>7.741935</td>\n",
       "    </tr>\n",
       "    <tr>\n",
       "      <th>1</th>\n",
       "      <td>5202</td>\n",
       "      <td>6.0</td>\n",
       "      <td>5468</td>\n",
       "      <td>5218</td>\n",
       "      <td>12</td>\n",
       "      <td>10</td>\n",
       "      <td>1088</td>\n",
       "      <td>1096</td>\n",
       "      <td>1026</td>\n",
       "      <td>1037</td>\n",
       "      <td>36175</td>\n",
       "      <td>32</td>\n",
       "      <td>12</td>\n",
       "      <td>6</td>\n",
       "      <td>13</td>\n",
       "      <td>9702</td>\n",
       "      <td>3</td>\n",
       "      <td>18.0</td>\n",
       "      <td>15.666667</td>\n",
       "    </tr>\n",
       "    <tr>\n",
       "      <th>2</th>\n",
       "      <td>0</td>\n",
       "      <td>3.0</td>\n",
       "      <td>497</td>\n",
       "      <td>546</td>\n",
       "      <td>2</td>\n",
       "      <td>1</td>\n",
       "      <td>251</td>\n",
       "      <td>292</td>\n",
       "      <td>292</td>\n",
       "      <td>340</td>\n",
       "      <td>11576</td>\n",
       "      <td>63</td>\n",
       "      <td>26</td>\n",
       "      <td>6</td>\n",
       "      <td>14</td>\n",
       "      <td>9702</td>\n",
       "      <td>27</td>\n",
       "      <td>12.0</td>\n",
       "      <td>7.481481</td>\n",
       "    </tr>\n",
       "    <tr>\n",
       "      <th>3</th>\n",
       "      <td>2801</td>\n",
       "      <td>1.0</td>\n",
       "      <td>1000</td>\n",
       "      <td>1263</td>\n",
       "      <td>2</td>\n",
       "      <td>1</td>\n",
       "      <td>386</td>\n",
       "      <td>388</td>\n",
       "      <td>396</td>\n",
       "      <td>423</td>\n",
       "      <td>15130</td>\n",
       "      <td>66</td>\n",
       "      <td>27</td>\n",
       "      <td>6</td>\n",
       "      <td>14</td>\n",
       "      <td>9702</td>\n",
       "      <td>16</td>\n",
       "      <td>9.0</td>\n",
       "      <td>6.812500</td>\n",
       "    </tr>\n",
       "    <tr>\n",
       "      <th>4</th>\n",
       "      <td>2001</td>\n",
       "      <td>3.0</td>\n",
       "      <td>576</td>\n",
       "      <td>594</td>\n",
       "      <td>4</td>\n",
       "      <td>3</td>\n",
       "      <td>240</td>\n",
       "      <td>250</td>\n",
       "      <td>293</td>\n",
       "      <td>321</td>\n",
       "      <td>9836</td>\n",
       "      <td>113</td>\n",
       "      <td>43</td>\n",
       "      <td>10</td>\n",
       "      <td>25</td>\n",
       "      <td>9702</td>\n",
       "      <td>37</td>\n",
       "      <td>14.0</td>\n",
       "      <td>6.864865</td>\n",
       "    </tr>\n",
       "  </tbody>\n",
       "</table>\n",
       "</div>"
      ],
      "text/plain": [
       "    DOB  INCOME   HV1   HV2  HV3  HV4   IC1   IC2   IC3   IC4    IC5  NUMPROM  \\\n",
       "0  3712     NaN   479   635    3    2   307   318   349   378  12883       74   \n",
       "1  5202     6.0  5468  5218   12   10  1088  1096  1026  1037  36175       32   \n",
       "2     0     3.0   497   546    2    1   251   292   292   340  11576       63   \n",
       "3  2801     1.0  1000  1263    2    1   386   388   396   423  15130       66   \n",
       "4  2001     3.0   576   594    4    3   240   250   293   321   9836      113   \n",
       "\n",
       "   CARDPROM  CARDPM12  NUMPRM12  MAXADATE  NGIFTALL  TIMELAG    AVGGIFT  \n",
       "0        27         6        14      9702        31      4.0   7.741935  \n",
       "1        12         6        13      9702         3     18.0  15.666667  \n",
       "2        26         6        14      9702        27     12.0   7.481481  \n",
       "3        27         6        14      9702        16      9.0   6.812500  \n",
       "4        43        10        25      9702        37     14.0   6.864865  "
      ]
     },
     "execution_count": 10,
     "metadata": {},
     "output_type": "execute_result"
    }
   ],
   "source": [
    "numericals = data.select_dtypes(np.number)\n",
    "numericals.head()"
   ]
  },
  {
   "cell_type": "code",
   "execution_count": 11,
   "metadata": {},
   "outputs": [
    {
     "data": {
      "image/png": "[encoded data removed]",
      "text/plain": [
       "<Figure size 1152x1440 with 20 Axes>"
      ]
     },
     "metadata": {
      "needs_background": "light"
     },
     "output_type": "display_data"
    }
   ],
   "source": [
    "numericals.hist(figsize=(16, 20), bins=50, xlabelsize=8, ylabelsize=8); \n",
    "# ; avoid having the matplotlib extra information"
   ]
  },
  {
   "cell_type": "markdown",
   "metadata": {
    "id": "cmeKQz5rsi_8"
   },
   "source": [
    "## Checking the **income's** histogram"
   ]
  },
  {
   "cell_type": "code",
   "execution_count": null,
   "metadata": {
    "colab": {
     "base_uri": "https://localhost:8080/",
     "height": 296
    },
    "executionInfo": {
     "elapsed": 909,
     "status": "ok",
     "timestamp": 1603706157181,
     "user": {
      "displayName": "Ignacio Soteras",
      "photoUrl": "",
      "userId": "02050793736257155229"
     },
     "user_tz": -60
    },
    "id": "jYD4hIQmsgg2",
    "outputId": "da81844c-945c-4478-abbf-fc0ae5ba27c3"
   },
   "outputs": [],
   "source": [
    "sns.histplot(data['INCOME'])"
   ]
  },
  {
   "cell_type": "markdown",
   "metadata": {
    "id": "r9DPn2A3sJKy"
   },
   "source": [
    "*   The INCOME might be an important factor in predicting the gift value, so even though it has a lot of null values, we will not drop the column.\n",
    "\n",
    "*   We will later on try a more precise method to replace the null values, instead of simply replacing them by a constant value, mean or median.\n",
    "\n",
    "*   We will use a similar method for the column TIMELAG .\n",
    "\n",
    "*   Before going into our class activity for replacing nulls in other (less critical/ less diverse) columns - 4.01.1, lets do some more EDA"
   ]
  },
  {
   "cell_type": "code",
   "execution_count": 8,
   "metadata": {},
   "outputs": [
    {
     "name": "stdout",
     "output_type": "stream",
     "text": [
      "count    90569.000000\n",
      "mean      2724.442789\n",
      "std       2136.453823\n",
      "min          0.000000\n",
      "25%        112.000000\n",
      "50%       2610.000000\n",
      "75%       4601.000000\n",
      "max       9710.000000\n",
      "Name: DOB, dtype: float64\n"
     ]
    },
    {
     "data": {
      "image/png": "[encoded data removed]",
      "text/plain": [
       "<Figure size 648x576 with 1 Axes>"
      ]
     },
     "metadata": {
      "needs_background": "light"
     },
     "output_type": "display_data"
    }
   ],
   "source": [
    "# other EDA techniques or charts we might use?\n",
    "print(data['DOB'].describe())\n",
    "plt.figure(figsize=(9, 8))\n",
    "sns.distplot(data['DOB'], color='g', bins=100, hist_kws={'alpha': 0.4});"
   ]
  },
  {
   "cell_type": "code",
   "execution_count": 13,
   "metadata": {},
   "outputs": [
    {
     "name": "stdout",
     "output_type": "stream",
     "text": [
      "               DOB    INCOME       HV1       HV2       HV3       HV4  \\\n",
      "DOB       1.000000  0.237885  0.003048  0.000896  0.049892  0.043548   \n",
      "INCOME    0.237885  1.000000  0.320257  0.330719  0.333951  0.317027   \n",
      "HV1       0.003048  0.320257  1.000000  0.993351  0.743331  0.726073   \n",
      "HV2       0.000896  0.330719  0.993351  1.000000  0.747282  0.730050   \n",
      "HV3       0.049892  0.333951  0.743331  0.747282  1.000000  0.941192   \n",
      "HV4       0.043548  0.317027  0.726073  0.730050  0.941192  1.000000   \n",
      "IC1       0.098596  0.421833  0.674112  0.681722  0.746354  0.678339   \n",
      "IC2       0.076935  0.410843  0.712827  0.721610  0.719644  0.671142   \n",
      "IC3       0.090978  0.436721  0.704212  0.719277  0.758692  0.701371   \n",
      "IC4       0.071483  0.423992  0.723701  0.740637  0.729092  0.688482   \n",
      "IC5       0.019176  0.352449  0.725149  0.739876  0.643973  0.607090   \n",
      "NUMPROM  -0.091475 -0.079350 -0.028515 -0.029011 -0.036257 -0.035886   \n",
      "CARDPROM -0.078215 -0.080421 -0.039905 -0.040946 -0.046405 -0.046106   \n",
      "CARDPM12  0.021242 -0.004260  0.011944  0.011819  0.005747  0.008116   \n",
      "NUMPRM12 -0.050024 -0.022085  0.021386  0.022546  0.012890  0.014636   \n",
      "MAXADATE  0.066944  0.004838 -0.012661 -0.013959 -0.015430 -0.014893   \n",
      "NGIFTALL -0.122438 -0.125189 -0.061114 -0.062618 -0.062472 -0.060662   \n",
      "TIMELAG   0.020114  0.025488  0.017014  0.017883  0.012515  0.013059   \n",
      "AVGGIFT   0.020624  0.115147  0.099967  0.102086  0.085160  0.082829   \n",
      "\n",
      "               IC1       IC2       IC3       IC4       IC5   NUMPROM  \\\n",
      "DOB       0.098596  0.076935  0.090978  0.071483  0.019176 -0.091475   \n",
      "INCOME    0.421833  0.410843  0.436721  0.423992  0.352449 -0.079350   \n",
      "HV1       0.674112  0.712827  0.704212  0.723701  0.725149 -0.028515   \n",
      "HV2       0.681722  0.721610  0.719277  0.740637  0.739876 -0.029011   \n",
      "HV3       0.746354  0.719644  0.758692  0.729092  0.643973 -0.036257   \n",
      "HV4       0.678339  0.671142  0.701371  0.688482  0.607090 -0.035886   \n",
      "IC1       1.000000  0.951175  0.975360  0.929769  0.805491 -0.027508   \n",
      "IC2       0.951175  1.000000  0.955173  0.973696  0.873875 -0.020158   \n",
      "IC3       0.975360  0.955173  1.000000  0.971342  0.839980 -0.026578   \n",
      "IC4       0.929769  0.973696  0.971342  1.000000  0.882997 -0.018057   \n",
      "IC5       0.805491  0.873875  0.839980  0.882997  1.000000 -0.013029   \n",
      "NUMPROM  -0.027508 -0.020158 -0.026578 -0.018057 -0.013029  1.000000   \n",
      "CARDPROM -0.035314 -0.028905 -0.035150 -0.027588 -0.023671  0.949394   \n",
      "CARDPM12  0.006929  0.009153  0.006079  0.008358  0.009764  0.401135   \n",
      "NUMPRM12  0.011291  0.016525  0.012705  0.018109  0.024077  0.510867   \n",
      "MAXADATE -0.011900 -0.012017 -0.014334 -0.014210 -0.017497  0.060674   \n",
      "NGIFTALL -0.063875 -0.058706 -0.065675 -0.058687 -0.052207  0.795174   \n",
      "TIMELAG   0.021362  0.024058  0.024087  0.025518  0.021887  0.013489   \n",
      "AVGGIFT   0.083434  0.087900  0.086453  0.088880  0.097252 -0.140556   \n",
      "\n",
      "          CARDPROM  CARDPM12  NUMPRM12  MAXADATE  NGIFTALL   TIMELAG   AVGGIFT  \n",
      "DOB      -0.078215  0.021242 -0.050024  0.066944 -0.122438  0.020114  0.020624  \n",
      "INCOME   -0.080421 -0.004260 -0.022085  0.004838 -0.125189  0.025488  0.115147  \n",
      "HV1      -0.039905  0.011944  0.021386 -0.012661 -0.061114  0.017014  0.099967  \n",
      "HV2      -0.040946  0.011819  0.022546 -0.013959 -0.062618  0.017883  0.102086  \n",
      "HV3      -0.046405  0.005747  0.012890 -0.015430 -0.062472  0.012515  0.085160  \n",
      "HV4      -0.046106  0.008116  0.014636 -0.014893 -0.060662  0.013059  0.082829  \n",
      "IC1      -0.035314  0.006929  0.011291 -0.011900 -0.063875  0.021362  0.083434  \n",
      "IC2      -0.028905  0.009153  0.016525 -0.012017 -0.058706  0.024058  0.087900  \n",
      "IC3      -0.035150  0.006079  0.012705 -0.014334 -0.065675  0.024087  0.086453  \n",
      "IC4      -0.027588  0.008358  0.018109 -0.014210 -0.058687  0.025518  0.088880  \n",
      "IC5      -0.023671  0.009764  0.024077 -0.017497 -0.052207  0.021887  0.097252  \n",
      "NUMPROM   0.949394  0.401135  0.510867  0.060674  0.795174  0.013489 -0.140556  \n",
      "CARDPROM  1.000000  0.406091  0.320666  0.053511  0.776598  0.021338 -0.189318  \n",
      "CARDPM12  0.406091  1.000000  0.607144  0.166267  0.240020 -0.044329 -0.014228  \n",
      "NUMPRM12  0.320666  0.607144  1.000000  0.111649  0.302507 -0.029601  0.088064  \n",
      "MAXADATE  0.053511  0.166267  0.111649  1.000000 -0.000578  0.001404 -0.000938  \n",
      "NGIFTALL  0.776598  0.240020  0.302507 -0.000578  1.000000 -0.109979 -0.256253  \n",
      "TIMELAG   0.021338 -0.044329 -0.029601  0.001404 -0.109979  1.000000  0.075476  \n",
      "AVGGIFT  -0.189318 -0.014228  0.088064 -0.000938 -0.256253  0.075476  1.000000  \n"
     ]
    }
   ],
   "source": [
    "#what about correlation? how do we build a correlation matrix? \n",
    "\n",
    "corrMatrix = numericals.corr()\n",
    "print (corrMatrix)\n",
    "#obv this is overwhelming with too many columns. \n",
    "#how could we subset a smaller list and then correlate?\n"
   ]
  },
  {
   "cell_type": "code",
   "execution_count": 15,
   "metadata": {},
   "outputs": [
    {
     "data": {
      "image/png": "[encoded data removed]",
      "text/plain": [
       "<Figure size 432x288 with 2 Axes>"
      ]
     },
     "metadata": {
      "needs_background": "light"
     },
     "output_type": "display_data"
    }
   ],
   "source": [
    "sns.heatmap(corrMatrix, annot=True)\n",
    "plt.show()"
   ]
  },
  {
   "cell_type": "markdown",
   "metadata": {
    "id": "uCSn3CBmt2um"
   },
   "source": [
    "# Activity: Dealing with missing values.\n"
   ]
  },
  {
   "cell_type": "markdown",
   "metadata": {
    "id": "GfRghez1vBj9"
   },
   "source": [
    "Possible approaches for NULLs reminder: \n",
    "\n",
    " A) delete rows\n",
    " \n",
    "Pros:\n",
    "\n",
    "Cons:\n",
    "\n",
    "B) replace with median/mean/mode \n",
    "\n",
    "Pros:\n",
    "\n",
    "Cons:\n",
    "\n",
    "C) replace with a specific value (for categories) eg 'not reported'\n",
    "\n",
    "Pros:\n",
    "\n",
    "Cons: \n",
    "\n",
    "D) use ML to predict missing values \n",
    "\n",
    "Pros:\n",
    "\n",
    "Cons: \n",
    "\n",
    "E) use algorithms eg KNN or random forest to fill missing values\n",
    "Pros:\n",
    "\n",
    "Cons: \n",
    "\n"
   ]
  },
  {
   "cell_type": "markdown",
   "metadata": {
    "id": "lNQaBpm-ua47"
   },
   "source": [
    "**Drop:**\n",
    "\n",
    "Let's consider the **gender** column. \n",
    "\n",
    "*   Can we guess in somehow what is the missing gender? **NO**. \n",
    "*   Can this column have any possible value compatible with a missing value? **NO**\n",
    "\n",
    "Therefore, we are forced to drop the corresponding rows."
   ]
  },
  {
   "cell_type": "code",
   "execution_count": null,
   "metadata": {
    "colab": {
     "base_uri": "https://localhost:8080/",
     "height": 151
    },
    "executionInfo": {
     "elapsed": 565,
     "status": "ok",
     "timestamp": 1603706160400,
     "user": {
      "displayName": "Ignacio Soteras",
      "photoUrl": "",
      "userId": "02050793736257155229"
     },
     "user_tz": -60
    },
    "id": "0fgCiovl6DCO",
    "outputId": "7854f9a0-3280-4c3a-b4e1-124ff5307ce3"
   },
   "outputs": [],
   "source": [
    "data['GENDER'].value_counts()"
   ]
  },
  {
   "cell_type": "code",
   "execution_count": null,
   "metadata": {
    "colab": {
     "base_uri": "https://localhost:8080/",
     "height": 422
    },
    "executionInfo": {
     "elapsed": 572,
     "status": "ok",
     "timestamp": 1603706161825,
     "user": {
      "displayName": "Ignacio Soteras",
      "photoUrl": "",
      "userId": "02050793736257155229"
     },
     "user_tz": -60
    },
    "id": "vOh7R9jr62_I",
    "outputId": "ddc483e0-540a-4c20-9365-7859b9c7252e"
   },
   "outputs": [],
   "source": [
    "to_drop = data[~data['GENDER'].isin(['F','M'])].index.tolist()\n",
    "#data = data[data['GENDER'].isin(['F','M'])]\n",
    "data.drop(to_drop, inplace = True)\n",
    "data.reset_index(drop=True)"
   ]
  },
  {
   "cell_type": "code",
   "execution_count": null,
   "metadata": {
    "colab": {
     "base_uri": "https://localhost:8080/",
     "height": 67
    },
    "executionInfo": {
     "elapsed": 605,
     "status": "ok",
     "timestamp": 1603706164537,
     "user": {
      "displayName": "Ignacio Soteras",
      "photoUrl": "",
      "userId": "02050793736257155229"
     },
     "user_tz": -60
    },
    "id": "rulMfxdw8r4g",
    "outputId": "59420f60-d4e3-4983-afe8-f8ca6fe01cc7"
   },
   "outputs": [],
   "source": [
    "data['GENDER'].value_counts()"
   ]
  },
  {
   "cell_type": "markdown",
   "metadata": {
    "id": "Oq7KjJhWuxLH"
   },
   "source": [
    "**Replace:**\n",
    "\n",
    "If we have some other information about that tells us we can do this, even if it is not the missing information. \n",
    "\n",
    "For example, if the data follow an approximately normal distribution, we might want to substitute the missing values with the mean. You always need to have something that \"tells you\" how you can replace the data.\n",
    "\n",
    "Let's consider column **HOMEOWNR**. \n",
    "\n",
    "*   Can we guess the value? **NO**\n",
    "*   Can this column have any possible value compatible with a missing value? **YES**: 'U' = 'unknown'."
   ]
  },
  {
   "cell_type": "code",
   "execution_count": null,
   "metadata": {
    "colab": {
     "base_uri": "https://localhost:8080/",
     "height": 84
    },
    "executionInfo": {
     "elapsed": 534,
     "status": "ok",
     "timestamp": 1603706166114,
     "user": {
      "displayName": "Ignacio Soteras",
      "photoUrl": "",
      "userId": "02050793736257155229"
     },
     "user_tz": -60
    },
    "id": "eLpfkiH180De",
    "outputId": "c51d4119-3632-440b-8056-5a90e12ce0fd"
   },
   "outputs": [],
   "source": [
    "data['HOMEOWNR'].value_counts()"
   ]
  },
  {
   "cell_type": "code",
   "execution_count": null,
   "metadata": {
    "colab": {
     "base_uri": "https://localhost:8080/",
     "height": 34
    },
    "executionInfo": {
     "elapsed": 688,
     "status": "ok",
     "timestamp": 1603706167204,
     "user": {
      "displayName": "Ignacio Soteras",
      "photoUrl": "",
      "userId": "02050793736257155229"
     },
     "user_tz": -60
    },
    "id": "uYoMXJn1IpD4",
    "outputId": "8a3b2966-db5e-4c2d-f9e8-1e0ee4dff0ef"
   },
   "outputs": [],
   "source": [
    "np.unique(data['HOMEOWNR']).tolist()"
   ]
  },
  {
   "cell_type": "code",
   "execution_count": null,
   "metadata": {
    "executionInfo": {
     "elapsed": 367,
     "status": "ok",
     "timestamp": 1603706167850,
     "user": {
      "displayName": "Ignacio Soteras",
      "photoUrl": "",
      "userId": "02050793736257155229"
     },
     "user_tz": -60
    },
    "id": "n_e8APOawN_Z"
   },
   "outputs": [],
   "source": [
    "data['HOMEOWNR'] = np.where(data['HOMEOWNR'] == ' ','U',data['HOMEOWNR'])"
   ]
  },
  {
   "cell_type": "code",
   "execution_count": null,
   "metadata": {
    "colab": {
     "base_uri": "https://localhost:8080/",
     "height": 215
    },
    "executionInfo": {
     "elapsed": 601,
     "status": "ok",
     "timestamp": 1603706169035,
     "user": {
      "displayName": "Ignacio Soteras",
      "photoUrl": "",
      "userId": "02050793736257155229"
     },
     "user_tz": -60
    },
    "id": "PowgahY_4Y_5",
    "outputId": "5ae99ab6-fdeb-4371-8019-c1b69fbbcb5b"
   },
   "outputs": [],
   "source": [
    "data.head()"
   ]
  },
  {
   "cell_type": "markdown",
   "metadata": {
    "id": "gUjGXlUQwwYf"
   },
   "source": [
    "# Lesson 2 Key Concepts"
   ]
  },
  {
   "cell_type": "markdown",
   "metadata": {
    "id": "xGDqb2gy13JS"
   },
   "source": [
    "## Interpolation"
   ]
  },
  {
   "cell_type": "markdown",
   "metadata": {
    "id": "jbfNseNa1ipQ"
   },
   "source": [
    "Let's see which kind interpolation between two consecutive missing values for the **'INCOME'** column is best.\n",
    "\n",
    "First **LOOK AT YOUR DATA!!!**"
   ]
  },
  {
   "cell_type": "code",
   "execution_count": null,
   "metadata": {
    "colab": {
     "base_uri": "https://localhost:8080/",
     "height": 195
    },
    "executionInfo": {
     "elapsed": 583,
     "status": "ok",
     "timestamp": 1603706171625,
     "user": {
      "displayName": "Ignacio Soteras",
      "photoUrl": "",
      "userId": "02050793736257155229"
     },
     "user_tz": -60
    },
    "id": "q65pKzf32-lX",
    "outputId": "7297fbe6-ca18-4606-f072-14d0becae755"
   },
   "outputs": [],
   "source": [
    "data[['INCOME']].head()"
   ]
  },
  {
   "cell_type": "code",
   "execution_count": null,
   "metadata": {
    "colab": {
     "base_uri": "https://localhost:8080/",
     "height": 296
    },
    "executionInfo": {
     "elapsed": 1175,
     "status": "ok",
     "timestamp": 1603706174174,
     "user": {
      "displayName": "Ignacio Soteras",
      "photoUrl": "",
      "userId": "02050793736257155229"
     },
     "user_tz": -60
    },
    "id": "7gKcBbgn1ea4",
    "outputId": "0c6677a1-9b78-453a-a72a-f7472865ac6b"
   },
   "outputs": [],
   "source": [
    "sns.histplot(data['INCOME'])"
   ]
  },
  {
   "cell_type": "markdown",
   "metadata": {
    "id": "DADy6-M7Ihr3"
   },
   "source": [
    "Let's try first with linear interpolation"
   ]
  },
  {
   "cell_type": "code",
   "execution_count": null,
   "metadata": {
    "colab": {
     "base_uri": "https://localhost:8080/",
     "height": 296
    },
    "executionInfo": {
     "elapsed": 1104,
     "status": "ok",
     "timestamp": 1603706176018,
     "user": {
      "displayName": "Ignacio Soteras",
      "photoUrl": "",
      "userId": "02050793736257155229"
     },
     "user_tz": -60
    },
    "id": "vKk3X_wXF7xW",
    "outputId": "db95050e-4af0-41dc-a33f-1246ce6097ec"
   },
   "outputs": [],
   "source": [
    "new_income_data_linear = data['INCOME'].interpolate(method='linear')\n",
    "sns.histplot(new_income_data_linear)"
   ]
  },
  {
   "cell_type": "markdown",
   "metadata": {
    "id": "MG4qldlMJoZr"
   },
   "source": [
    "Akima¡s interpolation"
   ]
  },
  {
   "cell_type": "code",
   "execution_count": null,
   "metadata": {
    "colab": {
     "base_uri": "https://localhost:8080/",
     "height": 296
    },
    "executionInfo": {
     "elapsed": 1182,
     "status": "ok",
     "timestamp": 1603706178118,
     "user": {
      "displayName": "Ignacio Soteras",
      "photoUrl": "",
      "userId": "02050793736257155229"
     },
     "user_tz": -60
    },
    "id": "BNOlgZ79JRtk",
    "outputId": "6a2b789e-b020-4ca6-c56e-7f0008bfbf3e"
   },
   "outputs": [],
   "source": [
    "new_income_data_akima = data['INCOME'].interpolate(method='akima')\n",
    "sns.histplot(new_income_data_akima)"
   ]
  },
  {
   "cell_type": "markdown",
   "metadata": {
    "id": "85VqmA0iJuFO"
   },
   "source": [
    "Polynomial order 3."
   ]
  },
  {
   "cell_type": "code",
   "execution_count": null,
   "metadata": {
    "colab": {
     "base_uri": "https://localhost:8080/",
     "height": 296
    },
    "executionInfo": {
     "elapsed": 1258,
     "status": "ok",
     "timestamp": 1603706181256,
     "user": {
      "displayName": "Ignacio Soteras",
      "photoUrl": "",
      "userId": "02050793736257155229"
     },
     "user_tz": -60
    },
    "id": "e47C9K3sJsr7",
    "outputId": "cfa5a2bd-17a1-4b80-8c16-725d23d443c5"
   },
   "outputs": [],
   "source": [
    "new_income_data_poly = data['INCOME'].interpolate(method='polynomial', order=3)\n",
    "sns.histplot(new_income_data_poly)"
   ]
  },
  {
   "cell_type": "markdown",
   "metadata": {
    "id": "qdfuoyCjKGH0"
   },
   "source": [
    "Imputing with the mean"
   ]
  },
  {
   "cell_type": "code",
   "execution_count": null,
   "metadata": {
    "colab": {
     "base_uri": "https://localhost:8080/",
     "height": 296
    },
    "executionInfo": {
     "elapsed": 1182,
     "status": "ok",
     "timestamp": 1603706183358,
     "user": {
      "displayName": "Ignacio Soteras",
      "photoUrl": "",
      "userId": "02050793736257155229"
     },
     "user_tz": -60
    },
    "id": "hIQHgDIfKI4Y",
    "outputId": "4337b29c-1b77-422e-b263-886195949aaf"
   },
   "outputs": [],
   "source": [
    "# Testing interpolation method with mean and median methods\n",
    "points2 = data['INCOME'].fillna(np.mean(data['INCOME']))\n",
    "sns.histplot(points2)"
   ]
  },
  {
   "cell_type": "markdown",
   "metadata": {
    "id": "mgO-s8nSL4-F"
   },
   "source": [
    "Does it makes sense at all?"
   ]
  },
  {
   "cell_type": "markdown",
   "metadata": {
    "id": "_ELG2UtmKfq3"
   },
   "source": [
    "# Activity: Using linear regression to impute missing values.\n",
    "\n",
    "You already know how to predict a numerical ammount. Therefore, you can use other columns in order to predict the missing values of the column of you interest. Use 'HV1' and 'IC1' columns to predict the missing values of 'INCOME'.\n",
    "\n",
    "**Hint**: For sake of simplicity, when you have NaN s, you work with them as if they were a test set."
   ]
  },
  {
   "cell_type": "code",
   "execution_count": null,
   "metadata": {
    "colab": {
     "base_uri": "https://localhost:8080/",
     "height": 215
    },
    "executionInfo": {
     "elapsed": 605,
     "status": "ok",
     "timestamp": 1603706195983,
     "user": {
      "displayName": "Ignacio Soteras",
      "photoUrl": "",
      "userId": "02050793736257155229"
     },
     "user_tz": -60
    },
    "id": "fPSjfB9lKrGf",
    "outputId": "b6829b81-122a-41be-9d38-93d8b48bb581"
   },
   "outputs": [],
   "source": [
    "from sklearn.linear_model import LinearRegression\n",
    "\n",
    "X = data[~data.INCOME.isnull()][['HV1', 'IC1']]\n",
    "y = data[~data.INCOME.isnull()]['INCOME']\n",
    "\n",
    "X_nulls = data[data.INCOME.isnull()][['HV1', 'IC1']]\n",
    "\n",
    "model = LinearRegression().fit(X,y)\n",
    "income_pred = model.predict(X_nulls)\n",
    "\n",
    "data[data.INCOME.isnull()]['INCOME'] = np.round(income_pred) # Income values are integers, therefore, we need to round!\n",
    "data.head()"
   ]
  },
  {
   "cell_type": "markdown",
   "metadata": {
    "id": "SRbdTeFxMErB"
   },
   "source": [
    "# Lesson 3 Key Concepts"
   ]
  },
  {
   "cell_type": "markdown",
   "metadata": {
    "id": "EUF28bZY-8r_"
   },
   "source": [
    "Let's explore now the column 'TIMELAG'"
   ]
  },
  {
   "cell_type": "code",
   "execution_count": null,
   "metadata": {
    "colab": {
     "base_uri": "https://localhost:8080/",
     "height": 298
    },
    "executionInfo": {
     "elapsed": 7471,
     "status": "ok",
     "timestamp": 1603707367434,
     "user": {
      "displayName": "Ignacio Soteras",
      "photoUrl": "",
      "userId": "02050793736257155229"
     },
     "user_tz": -60
    },
    "id": "sWgdNFNr_EEQ",
    "outputId": "b8ba9199-623f-43ec-b965-cc11c52c121f"
   },
   "outputs": [],
   "source": [
    "sns.histplot(data['TIMELAG'])"
   ]
  },
  {
   "cell_type": "code",
   "execution_count": null,
   "metadata": {
    "colab": {
     "base_uri": "https://localhost:8080/",
     "height": 296
    },
    "executionInfo": {
     "elapsed": 845,
     "status": "ok",
     "timestamp": 1603707387352,
     "user": {
      "displayName": "Ignacio Soteras",
      "photoUrl": "",
      "userId": "02050793736257155229"
     },
     "user_tz": -60
    },
    "id": "OR696tayDPN6",
    "outputId": "662792a8-c735-4e96-99b3-1e2503db60dc"
   },
   "outputs": [],
   "source": [
    "sns.boxplot(x=data['TIMELAG'])"
   ]
  },
  {
   "cell_type": "code",
   "execution_count": null,
   "metadata": {
    "colab": {
     "base_uri": "https://localhost:8080/",
     "height": 296
    },
    "executionInfo": {
     "elapsed": 1645,
     "status": "ok",
     "timestamp": 1603707403302,
     "user": {
      "displayName": "Ignacio Soteras",
      "photoUrl": "",
      "userId": "02050793736257155229"
     },
     "user_tz": -60
    },
    "id": "YPIAHi9SBMOR",
    "outputId": "92f439ca-b3ed-49da-adbb-68a433965a36"
   },
   "outputs": [],
   "source": [
    "ax = sns.distplot(data['TIMELAG'])\n",
    "ax2 = ax.twinx()\n",
    "sns.boxplot(x=data['TIMELAG'], ax=ax2)\n",
    "ax2.set(ylim=(-.5, 10))"
   ]
  },
  {
   "cell_type": "markdown",
   "metadata": {
    "id": "2u7EpwNqDc4V"
   },
   "source": [
    "Let's try some transformations to see if we can improve the distribution."
   ]
  },
  {
   "cell_type": "code",
   "execution_count": null,
   "metadata": {
    "executionInfo": {
     "elapsed": 796,
     "status": "ok",
     "timestamp": 1603707480838,
     "user": {
      "displayName": "Ignacio Soteras",
      "photoUrl": "",
      "userId": "02050793736257155229"
     },
     "user_tz": -60
    },
    "id": "e4Rf6RFHDj_1"
   },
   "outputs": [],
   "source": [
    "def log_transfom_clean_(x):\n",
    "    if np.isfinite(x) and x!=0: # If the value is finite and != 0...\n",
    "        return np.log(x)\n",
    "    else:\n",
    "        return np.NAN # We are returning NaNs so that we can replace them later\n",
    "\n",
    "def sqrt_transfom_clean_(x):\n",
    "    if np.isfinite(x) and x>=0:\n",
    "        return np.sqrt(x)\n",
    "    else:\n",
    "        return np.NAN # We are returning NaNs so that we can replace them later"
   ]
  },
  {
   "cell_type": "code",
   "execution_count": null,
   "metadata": {
    "colab": {
     "base_uri": "https://localhost:8080/",
     "height": 513
    },
    "executionInfo": {
     "elapsed": 1656,
     "status": "ok",
     "timestamp": 1603707496196,
     "user": {
      "displayName": "Ignacio Soteras",
      "photoUrl": "",
      "userId": "02050793736257155229"
     },
     "user_tz": -60
    },
    "id": "MT21pwjjD2QF",
    "outputId": "9200619a-e953-4900-dfe4-742d88944b6d"
   },
   "outputs": [],
   "source": [
    "# Using the functions to check the distribution of transformed data\n",
    "pd.Series(map(log_transfom_clean_, data['TIMELAG'])).hist()\n",
    "plt.show()\n",
    "\n",
    "pd.Series(map(sqrt_transfom_clean_, data['TIMELAG'])).hist()\n",
    "plt.show()"
   ]
  },
  {
   "cell_type": "markdown",
   "metadata": {
    "id": "zt6bTPfzEDeX"
   },
   "source": [
    "As it can be seen in the figure, the logaritmic transformation works better than the sqrt. \n",
    "\n",
    "This could be expected given the extreme skewness of the data.\n",
    "\n",
    "We could also us Box-Cox transformation, but probably the resulting distribution will be similar (alothough not the same, and even more, better). However, tihs is an illustrative example of how to proceed."
   ]
  },
  {
   "cell_type": "markdown",
   "metadata": {
    "id": "yq_UtZaEEnFN"
   },
   "source": [
    "Let's assume that we don't know about Box-Cox and we want to apply the logaritmic transformation to the **'TIMELAG'** column."
   ]
  },
  {
   "cell_type": "code",
   "execution_count": null,
   "metadata": {
    "executionInfo": {
     "elapsed": 598,
     "status": "ok",
     "timestamp": 1603707569226,
     "user": {
      "displayName": "Ignacio Soteras",
      "photoUrl": "",
      "userId": "02050793736257155229"
     },
     "user_tz": -60
    },
    "id": "1HaBWtNNEk1W"
   },
   "outputs": [],
   "source": [
    "data['TIMELAG'] = list(map(log_transfom_clean_, data['TIMELAG']))"
   ]
  },
  {
   "cell_type": "markdown",
   "metadata": {
    "id": "736QWo20FJWm"
   },
   "source": [
    "Remember that our function, ignored the'0' and infinite values. The may want to replace them the mean of the NEW distribution."
   ]
  },
  {
   "cell_type": "code",
   "execution_count": null,
   "metadata": {
    "colab": {
     "base_uri": "https://localhost:8080/",
     "height": 279
    },
    "executionInfo": {
     "elapsed": 1675,
     "status": "ok",
     "timestamp": 1603707605930,
     "user": {
      "displayName": "Ignacio Soteras",
      "photoUrl": "",
      "userId": "02050793736257155229"
     },
     "user_tz": -60
    },
    "id": "TTqQDwQZFMf1",
    "outputId": "d36879c7-b219-44a3-9a1b-c42fb8dc736e"
   },
   "outputs": [],
   "source": [
    "data['TIMELAG'] = data['TIMELAG'].fillna(np.mean(data['TIMELAG']))\n",
    "sns.distplot(data['TIMELAG'])\n",
    "plt.show()"
   ]
  },
  {
   "cell_type": "markdown",
   "metadata": {
    "id": "gf2LUCQ8FWVt"
   },
   "source": [
    "It's not perfectly Gaussian but we improved it a lot."
   ]
  },
  {
   "cell_type": "markdown",
   "metadata": {
    "id": "BONawT_EFrv0"
   },
   "source": [
    "# Activity: Logarithmic transformation.\n",
    "\n",
    "A logarithmic scale is common to visualize exponential data as they are the inverse function of each other, so the result would be a linear visualization. This is needed because we visualize exponential functions properly otherwise. As an example, you can see some corona virus visualizations, like [this one] (https://education-team-2020.s3-eu-west-1.amazonaws.com/data-analytics/4.1-COVID-Logarithmicvslinear.png). Check the log transform with the IC n columns."
   ]
  },
  {
   "cell_type": "code",
   "execution_count": null,
   "metadata": {
    "colab": {
     "base_uri": "https://localhost:8080/",
     "height": 582
    },
    "executionInfo": {
     "elapsed": 1723,
     "status": "error",
     "timestamp": 1603708154528,
     "user": {
      "displayName": "Ignacio Soteras",
      "photoUrl": "",
      "userId": "02050793736257155229"
     },
     "user_tz": -60
    },
    "id": "ZbB7NuuEGQd4",
    "outputId": "5cbf2fcc-f8cc-434c-beb7-f6aa3364dc39"
   },
   "outputs": [],
   "source": [
    "sns.distplot(data['IC1'])\n",
    "sns.distplot(np.log(data['IC1']))"
   ]
  },
  {
   "cell_type": "code",
   "execution_count": null,
   "metadata": {
    "colab": {
     "base_uri": "https://localhost:8080/",
     "height": 168
    },
    "executionInfo": {
     "elapsed": 577,
     "status": "ok",
     "timestamp": 1603708174416,
     "user": {
      "displayName": "Ignacio Soteras",
      "photoUrl": "",
      "userId": "02050793736257155229"
     },
     "user_tz": -60
    },
    "id": "QLQZBL98bcen",
    "outputId": "8afef681-f3cc-4373-c25a-eb8b7e023807"
   },
   "outputs": [],
   "source": [
    "data['IC1'].describe()"
   ]
  },
  {
   "cell_type": "code",
   "execution_count": null,
   "metadata": {
    "colab": {
     "base_uri": "https://localhost:8080/",
     "height": 296
    },
    "executionInfo": {
     "elapsed": 2494,
     "status": "ok",
     "timestamp": 1603708236541,
     "user": {
      "displayName": "Ignacio Soteras",
      "photoUrl": "",
      "userId": "02050793736257155229"
     },
     "user_tz": -60
    },
    "id": "SAgvZ4IGbtsV",
    "outputId": "6a83c76f-d61b-4b0b-8664-7eec12753a76"
   },
   "outputs": [],
   "source": [
    "fig,axes=plt.subplots(1,2)\n",
    "sns.distplot(data['IC1'], ax=axes[0], axlabel='IC1')\n",
    "sns.distplot(np.log(data['IC1']+1), ax=axes[1], axlabel='log(IC1+1)')"
   ]
  },
  {
   "cell_type": "code",
   "execution_count": null,
   "metadata": {
    "colab": {
     "base_uri": "https://localhost:8080/",
     "height": 299
    },
    "executionInfo": {
     "elapsed": 2523,
     "status": "ok",
     "timestamp": 1603708249952,
     "user": {
      "displayName": "Ignacio Soteras",
      "photoUrl": "",
      "userId": "02050793736257155229"
     },
     "user_tz": -60
    },
    "id": "22Ne5C71Xtlc",
    "outputId": "215e277c-1e6f-44f0-a282-b4943aeeec14"
   },
   "outputs": [],
   "source": [
    "fig,axes=plt.subplots(1,2)\n",
    "sns.distplot(data['IC2'], ax=axes[0], axlabel='IC2')\n",
    "sns.distplot(np.log(data['IC2']+1), ax=axes[1], axlabel='log(IC2+1)')"
   ]
  },
  {
   "cell_type": "code",
   "execution_count": null,
   "metadata": {
    "colab": {
     "base_uri": "https://localhost:8080/",
     "height": 296
    },
    "executionInfo": {
     "elapsed": 2472,
     "status": "ok",
     "timestamp": 1603708255501,
     "user": {
      "displayName": "Ignacio Soteras",
      "photoUrl": "",
      "userId": "02050793736257155229"
     },
     "user_tz": -60
    },
    "id": "42B8HYsDXxUj",
    "outputId": "2bdff1bc-6d0a-424c-ea34-34be9d8cd679"
   },
   "outputs": [],
   "source": [
    "fig,axes=plt.subplots(1,2)\n",
    "sns.distplot(data['IC3'], ax=axes[0], axlabel = 'IC3')\n",
    "sns.distplot(np.log(data['IC3']+1), ax=axes[1], axlabel = 'log(IC3+1)')"
   ]
  },
  {
   "cell_type": "code",
   "execution_count": null,
   "metadata": {
    "colab": {
     "base_uri": "https://localhost:8080/",
     "height": 296
    },
    "executionInfo": {
     "elapsed": 2429,
     "status": "ok",
     "timestamp": 1603708263188,
     "user": {
      "displayName": "Ignacio Soteras",
      "photoUrl": "",
      "userId": "02050793736257155229"
     },
     "user_tz": -60
    },
    "id": "eSlA7KwEX0V7",
    "outputId": "ada13912-830f-4dab-8e4a-040ed80410a0"
   },
   "outputs": [],
   "source": [
    "fig,axes=plt.subplots(1,2)\n",
    "sns.distplot(data['IC4'], ax=axes[0], axlabel = 'IC4')\n",
    "sns.distplot(np.log(data['IC4']+1), ax=axes[1], axlabel = 'log(IC4+1)')"
   ]
  },
  {
   "cell_type": "markdown",
   "metadata": {
    "id": "0PyQqPvFZyh3"
   },
   "source": [
    "# Lesson 4 Key Concepts"
   ]
  },
  {
   "cell_type": "markdown",
   "metadata": {
    "id": "S5Xr3-MGZ8tO"
   },
   "source": [
    "Even after using the transformation, there is still some skewness in the column TIMELAG . We will remove the outliers only from the right side of the distribution plot."
   ]
  },
  {
   "cell_type": "code",
   "execution_count": null,
   "metadata": {
    "colab": {
     "base_uri": "https://localhost:8080/",
     "height": 296
    },
    "executionInfo": {
     "elapsed": 1584,
     "status": "ok",
     "timestamp": 1603708331804,
     "user": {
      "displayName": "Ignacio Soteras",
      "photoUrl": "",
      "userId": "02050793736257155229"
     },
     "user_tz": -60
    },
    "id": "Js3BfhS4bC5y",
    "outputId": "dba417cd-3162-474d-fde9-ea3d272e98d9"
   },
   "outputs": [],
   "source": [
    "sns.distplot(data['TIMELAG'])"
   ]
  },
  {
   "cell_type": "markdown",
   "metadata": {
    "id": "pq1asbgXaNHc"
   },
   "source": [
    "Let's start knowing how many values will be removed if we decide to drop all the values beyond the upper wisker."
   ]
  },
  {
   "cell_type": "code",
   "execution_count": null,
   "metadata": {
    "colab": {
     "base_uri": "https://localhost:8080/",
     "height": 50
    },
    "executionInfo": {
     "elapsed": 706,
     "status": "ok",
     "timestamp": 1603708430633,
     "user": {
      "displayName": "Ignacio Soteras",
      "photoUrl": "",
      "userId": "02050793736257155229"
     },
     "user_tz": -60
    },
    "id": "83nMRpqBaGKt",
    "outputId": "8410366a-8334-4c99-ea31-db1c2259ed28"
   },
   "outputs": [],
   "source": [
    "iqr = np.percentile(data['TIMELAG'],75) - np.percentile(data['TIMELAG'],25)\n",
    "upper_limit = np.percentile(data['TIMELAG'],75) + 1.5*iqr\n",
    "print(\"The upper wisker is at: %4.2f\" % upper_limit)\n",
    "outliers = data[data['TIMELAG'] > upper_limit].index.tolist()\n",
    "print(\"The number of points outise the upper wisker is: \",len(outliers))"
   ]
  },
  {
   "cell_type": "markdown",
   "metadata": {
    "id": "-2gg1cE6bhXP"
   },
   "source": [
    "## Filtering outliers"
   ]
  },
  {
   "cell_type": "markdown",
   "metadata": {
    "id": "uhf6vSIqbt9D"
   },
   "source": [
    "Let's explore two different ways to drop outliers."
   ]
  },
  {
   "cell_type": "markdown",
   "metadata": {
    "id": "y-EDHR_tbzQB"
   },
   "source": [
    "### Filter function. filter(lambda_function, column)"
   ]
  },
  {
   "cell_type": "code",
   "execution_count": null,
   "metadata": {
    "colab": {
     "base_uri": "https://localhost:8080/",
     "height": 34
    },
    "executionInfo": {
     "elapsed": 621,
     "status": "ok",
     "timestamp": 1603708496901,
     "user": {
      "displayName": "Ignacio Soteras",
      "photoUrl": "",
      "userId": "02050793736257155229"
     },
     "user_tz": -60
    },
    "id": "bBVAWwpQb2eC",
    "outputId": "318362df-d7ca-4ae7-b4df-334a866dc89f"
   },
   "outputs": [],
   "source": [
    "points = list(filter(lambda x: x < upper_limit, data['TIMELAG']))\n",
    "len(points)"
   ]
  },
  {
   "cell_type": "markdown",
   "metadata": {
    "id": "0acfZ48LcIJu"
   },
   "source": [
    "### Panda's approach"
   ]
  },
  {
   "cell_type": "code",
   "execution_count": null,
   "metadata": {
    "colab": {
     "base_uri": "https://localhost:8080/",
     "height": 279
    },
    "executionInfo": {
     "elapsed": 1455,
     "status": "ok",
     "timestamp": 1603708513382,
     "user": {
      "displayName": "Ignacio Soteras",
      "photoUrl": "",
      "userId": "02050793736257155229"
     },
     "user_tz": -60
    },
    "id": "0L0Or7eRcN5K",
    "outputId": "690b443e-aec1-439f-865c-54eca1c7f160"
   },
   "outputs": [],
   "source": [
    "data = data[data['TIMELAG'] < upper_limit]\n",
    "sns.distplot(data['TIMELAG'])\n",
    "plt.show()"
   ]
  },
  {
   "cell_type": "markdown",
   "metadata": {
    "id": "SFy4dolLce_9"
   },
   "source": [
    "# Activity:\n",
    "\n",
    "Let's learn how the following functions work::\n",
    "\n",
    "*   Map\n",
    "*   Filter\n",
    "*   Reduce"
   ]
  },
  {
   "cell_type": "markdown",
   "metadata": {
    "id": "pcQ-3tfYc7j0"
   },
   "source": [
    "## Map\n",
    "\n",
    "This function, applies another given function to every element of a set.\n",
    "It works **elementwise**."
   ]
  },
  {
   "cell_type": "code",
   "execution_count": null,
   "metadata": {
    "colab": {
     "base_uri": "https://localhost:8080/",
     "height": 269
    },
    "executionInfo": {
     "elapsed": 728,
     "status": "ok",
     "timestamp": 1603708632646,
     "user": {
      "displayName": "Ignacio Soteras",
      "photoUrl": "",
      "userId": "02050793736257155229"
     },
     "user_tz": -60
    },
    "id": "4uu_2kxbdKAW",
    "outputId": "c96f5e67-f5a2-484c-940d-4cee9edb7f09"
   },
   "outputs": [],
   "source": [
    "list(map(str,range(15)))"
   ]
  },
  {
   "cell_type": "markdown",
   "metadata": {
    "id": "HCq4RX54dcIw"
   },
   "source": [
    "## Filter\n",
    "\n",
    "This other function also works elementwise but it returns the elements which met a condition."
   ]
  },
  {
   "cell_type": "code",
   "execution_count": null,
   "metadata": {
    "colab": {
     "base_uri": "https://localhost:8080/",
     "height": 34
    },
    "executionInfo": {
     "elapsed": 567,
     "status": "ok",
     "timestamp": 1603708677611,
     "user": {
      "displayName": "Ignacio Soteras",
      "photoUrl": "",
      "userId": "02050793736257155229"
     },
     "user_tz": -60
    },
    "id": "1evkh_6Wd9Nv",
    "outputId": "54dbf4ae-590f-4348-e402-7c21c599481f"
   },
   "outputs": [],
   "source": [
    "list(filter(lambda x: x %2 == 0,range(15)))"
   ]
  },
  {
   "cell_type": "markdown",
   "metadata": {
    "id": "fqkYFNhceShb"
   },
   "source": [
    "## Reduce\n",
    "\n",
    "This other function performs some computation on a list and returns the output of that computation applied all over the list. Is **NOT ELEMENTWISE**"
   ]
  },
  {
   "cell_type": "code",
   "execution_count": null,
   "metadata": {
    "colab": {
     "base_uri": "https://localhost:8080/",
     "height": 50
    },
    "executionInfo": {
     "elapsed": 643,
     "status": "ok",
     "timestamp": 1603708718000,
     "user": {
      "displayName": "Ignacio Soteras",
      "photoUrl": "",
      "userId": "02050793736257155229"
     },
     "user_tz": -60
    },
    "id": "6IWxP5_megCc",
    "outputId": "37da5144-e130-4ec8-ec68-f8230c17a98c"
   },
   "outputs": [],
   "source": [
    "from functools import reduce\n",
    "\n",
    "lst = list(range(6))\n",
    "print(\"The list is: \",lst)\n",
    "print(\"The result of appliying the reduce over the list is: \",reduce(lambda a,b: a+b,lst))"
   ]
  },
  {
   "cell_type": "code",
   "execution_count": null,
   "metadata": {
    "colab": {
     "base_uri": "https://localhost:8080/",
     "height": 34
    },
    "executionInfo": {
     "elapsed": 593,
     "status": "ok",
     "timestamp": 1603708756945,
     "user": {
      "displayName": "Ignacio Soteras",
      "photoUrl": "",
      "userId": "02050793736257155229"
     },
     "user_tz": -60
    },
    "id": "pvpbOKEAfY4S",
    "outputId": "d498301a-72bd-4cc8-d1d7-a5600c2250ad"
   },
   "outputs": [],
   "source": [
    "sum(lst)"
   ]
  }
 ],
 "metadata": {
  "colab": {
   "authorship_tag": "ABX9TyPlGffL6zU6chgPK9FDLA1n",
   "name": "Lesson 1-4 Key Concepts.ipynb",
   "provenance": [],
   "toc_visible": true
  },
  "kernelspec": {
   "display_name": "Python 3",
   "language": "python",
   "name": "python3"
  },
  "language_info": {
   "codemirror_mode": {
    "name": "ipython",
    "version": 3
   },
   "file_extension": ".py",
   "mimetype": "text/x-python",
   "name": "python",
   "nbconvert_exporter": "python",
   "pygments_lexer": "ipython3",
   "version": "3.7.6"
  }
 },
 "nbformat": 4,
 "nbformat_minor": 1
}
