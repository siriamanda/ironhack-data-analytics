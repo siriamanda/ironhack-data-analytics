{
 "cells": [
  {
   "cell_type": "code",
   "execution_count": 1,
   "metadata": {},
   "outputs": [
    {
     "name": "stdout",
     "output_type": "stream",
     "text": [
      "Collecting twitter\n",
      "  Downloading twitter-1.18.0-py2.py3-none-any.whl (54 kB)\n",
      "\u001b[K     |████████████████████████████████| 54 kB 1.9 MB/s eta 0:00:01\n",
      "\u001b[?25hInstalling collected packages: twitter\n",
      "Successfully installed twitter-1.18.0\n"
     ]
    }
   ],
   "source": [
    "!pip install twitter"
   ]
  },
  {
   "cell_type": "code",
   "execution_count": 8,
   "metadata": {},
   "outputs": [
    {
     "name": "stdout",
     "output_type": "stream",
     "text": [
      "Collecting tweepy\n",
      "  Downloading tweepy-3.9.0-py2.py3-none-any.whl (30 kB)\n",
      "Requirement already satisfied: requests[socks]>=2.11.1 in /Users/siriamanda/opt/anaconda3/lib/python3.7/site-packages (from tweepy) (2.22.0)\n",
      "Requirement already satisfied: six>=1.10.0 in /Users/siriamanda/opt/anaconda3/lib/python3.7/site-packages (from tweepy) (1.14.0)\n",
      "Collecting requests-oauthlib>=0.7.0\n",
      "  Downloading requests_oauthlib-1.3.0-py2.py3-none-any.whl (23 kB)\n",
      "Requirement already satisfied: certifi>=2017.4.17 in /Users/siriamanda/opt/anaconda3/lib/python3.7/site-packages (from requests[socks]>=2.11.1->tweepy) (2019.11.28)\n",
      "Requirement already satisfied: chardet<3.1.0,>=3.0.2 in /Users/siriamanda/opt/anaconda3/lib/python3.7/site-packages (from requests[socks]>=2.11.1->tweepy) (3.0.4)\n",
      "Requirement already satisfied: urllib3!=1.25.0,!=1.25.1,<1.26,>=1.21.1 in /Users/siriamanda/opt/anaconda3/lib/python3.7/site-packages (from requests[socks]>=2.11.1->tweepy) (1.25.8)\n",
      "Requirement already satisfied: idna<2.9,>=2.5 in /Users/siriamanda/opt/anaconda3/lib/python3.7/site-packages (from requests[socks]>=2.11.1->tweepy) (2.8)\n",
      "Requirement already satisfied: PySocks!=1.5.7,>=1.5.6; extra == \"socks\" in /Users/siriamanda/opt/anaconda3/lib/python3.7/site-packages (from requests[socks]>=2.11.1->tweepy) (1.7.1)\n",
      "Collecting oauthlib>=3.0.0\n",
      "  Downloading oauthlib-3.1.0-py2.py3-none-any.whl (147 kB)\n",
      "\u001b[K     |████████████████████████████████| 147 kB 2.0 MB/s eta 0:00:01\n",
      "\u001b[?25hInstalling collected packages: oauthlib, requests-oauthlib, tweepy\n",
      "Successfully installed oauthlib-3.1.0 requests-oauthlib-1.3.0 tweepy-3.9.0\n",
      "Note: you may need to restart the kernel to use updated packages.\n"
     ]
    }
   ],
   "source": [
    "pip install tweepy"
   ]
  },
  {
   "cell_type": "code",
   "execution_count": 17,
   "metadata": {},
   "outputs": [],
   "source": [
    "from tweepy import OAuthHandler\n",
    "from tweepy.streaming import StreamListener\n",
    "import tweepy\n",
    "import json\n",
    "import pandas as pd\n",
    "import csv\n",
    "import re\n",
    "# from textblob import TextBlob\n",
    "import string\n",
    "# import preprocessor as p\n",
    "import os\n",
    "import time"
   ]
  },
  {
   "cell_type": "code",
   "execution_count": 13,
   "metadata": {},
   "outputs": [],
   "source": [
    "consumer_key = \"t4V1Nddx7jQD7hlWodhQ5KX16\"\n",
    "consumer_secret = \"c6Ngm9NbFqlGeBI7xd2zGlwfIL8C3rTt3fGewuqxrIUa9GGzEe\"\n",
    "access_token = \"918932966-dwt9mjdZVT1GjQvr4gYC1HLzZkWgc7GLPI016uoh\"\n",
    "access_token_secret = \"0U1RSX2ufBjtU9NEoZGMUs15b5Xm9oyU9IZDMsMPmGZvW\"\n",
    "\n",
    "auth = tweepy. OAuthHandler ( consumer_key, consumer_secret )\n",
    "auth. set_access_token ( access_token, access_token_secret )\n",
    "\n",
    "api = tweepy. API ( auth )"
   ]
  },
  {
   "cell_type": "code",
   "execution_count": 14,
   "metadata": {},
   "outputs": [
    {
     "name": "stdout",
     "output_type": "stream",
     "text": [
      "\"Our 4-day workweek has been a hallmark for us in 2020 - it started as a way to provide some space for teammates an… https://t.co/uPsGK38Hni\n",
      "\n",
      "support → Berlin-based producer Danielle Nicole / dN \n",
      "https://t.co/Lx97q0BWLM\n",
      "\n",
      "If you're expecting everyone who was friends with an abuser to post a public statement about it prepare to be disappointed...\n",
      "\n",
      "RT @ReutersUK: Britain to compensate against severe COVID-19 vaccine side-effects https://t.co/hncsV5sfkn https://t.co/yzDDkHgVBM\n",
      "\n",
      "\"Zombies\" Are For Amateurs: The Negative EBITDA Vampires Are On A Rampage https://t.co/15Hle6jFaJ\n",
      "\n",
      "Great question here: \"How can you make yourself appealing after a career transition?\"\n",
      "\n",
      "Nicole answers here:\n",
      "https://t.co/jMfSMDfsWN\n",
      "\n",
      "\"A lot of the guys that I respected didn’t like my music. They’d go, ‘Archie Shepp is a nice guy but I can’t stand… https://t.co/19SMKP4pf8\n",
      "\n",
      "tax the rich is trending, so here's renowned economist thomas piketty explaining why that's essential\n",
      "\n",
      "https://t.co/l3Ra6mLvAt\n",
      "\n",
      "Minimalism is clearly not his thing - Isao Tomita hovering in a glass pyramid 30 meters above the #Danube controlli… https://t.co/lDZbxVtAqK\n",
      "\n",
      "THEY NEED LIBS TO OWN!!! https://t.co/gLRg5Vifhd\n",
      "\n"
     ]
    }
   ],
   "source": [
    "# Test printing the 10 first tweets from the home page\n",
    "\n",
    "home_tweets = api. home_timeline ( count = 10 )\n",
    "for tweet in home_tweets:\n",
    "    print ( tweet.text )\n",
    "    print ( \"\" )"
   ]
  },
  {
   "cell_type": "code",
   "execution_count": null,
   "metadata": {},
   "outputs": [],
   "source": []
  }
 ],
 "metadata": {
  "kernelspec": {
   "display_name": "Python 3",
   "language": "python",
   "name": "python3"
  },
  "language_info": {
   "codemirror_mode": {
    "name": "ipython",
    "version": 3
   },
   "file_extension": ".py",
   "mimetype": "text/x-python",
   "name": "python",
   "nbconvert_exporter": "python",
   "pygments_lexer": "ipython3",
   "version": "3.7.6"
  }
 },
 "nbformat": 4,
 "nbformat_minor": 4
}
