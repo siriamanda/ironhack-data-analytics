{
 "cells": [
  {
   "cell_type": "markdown",
   "metadata": {},
   "source": [
    "# Verbal expressions"
   ]
  },
  {
   "cell_type": "code",
   "execution_count": 1,
   "metadata": {},
   "outputs": [
    {
     "name": "stdout",
     "output_type": "stream",
     "text": [
      "Collecting VerbalExpressions\n",
      "  Downloading VerbalExpressions-0.0.2.tar.gz (3.1 kB)\n",
      "Building wheels for collected packages: VerbalExpressions\n",
      "  Building wheel for VerbalExpressions (setup.py) ... \u001b[?25ldone\n",
      "\u001b[?25h  Created wheel for VerbalExpressions: filename=VerbalExpressions-0.0.2-py3-none-any.whl size=3145 sha256=699b3b7ca2a735efcc7a614bdc92118ed91968d9f0a0177810acb66ee72d26bd\n",
      "  Stored in directory: /Users/siriamanda/Library/Caches/pip/wheels/ed/3b/4e/026dae4fca83a1a352009c05366872883ac94cc2d2da20d63a\n",
      "Successfully built VerbalExpressions\n",
      "Installing collected packages: VerbalExpressions\n",
      "Successfully installed VerbalExpressions-0.0.2\n",
      "Note: you may need to restart the kernel to use updated packages.\n"
     ]
    }
   ],
   "source": [
    "pip install VerbalExpressions\n"
   ]
  },
  {
   "cell_type": "code",
   "execution_count": null,
   "metadata": {},
   "outputs": [],
   "source": [
    "from verbalexpressions import VerEx\n",
    "verbal_expression = VerEx()"
   ]
  },
  {
   "cell_type": "code",
   "execution_count": 3,
   "metadata": {},
   "outputs": [],
   "source": [
    "# Alternative to regex\n",
    "\n",
    "#pattern = (verbal_expression.\n",
    "#            start_of_line().\n",
    "#            find('http').\n",
    "#            maybe('s').\n",
    "#            find('://').\n",
    "#            maybe('www.').\n",
    "#            anything_but(' ').\n",
    "#            end_of_line())"
   ]
  },
  {
   "cell_type": "code",
   "execution_count": null,
   "metadata": {},
   "outputs": [],
   "source": [
    "https://github.com/VerbalExpressions/PythonVerbalExpressions"
   ]
  }
 ],
 "metadata": {
  "kernelspec": {
   "display_name": "Python 3",
   "language": "python",
   "name": "python3"
  },
  "language_info": {
   "codemirror_mode": {
    "name": "ipython",
    "version": 3
   },
   "file_extension": ".py",
   "mimetype": "text/x-python",
   "name": "python",
   "nbconvert_exporter": "python",
   "pygments_lexer": "ipython3",
   "version": "3.7.6"
  }
 },
 "nbformat": 4,
 "nbformat_minor": 4
}
