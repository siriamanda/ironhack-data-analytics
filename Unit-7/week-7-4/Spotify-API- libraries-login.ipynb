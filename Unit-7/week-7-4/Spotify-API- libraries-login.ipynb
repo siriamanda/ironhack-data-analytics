{
 "cells": [
  {
   "cell_type": "markdown",
   "metadata": {},
   "source": [
    "# Spotify API"
   ]
  },
  {
   "cell_type": "markdown",
   "metadata": {},
   "source": [
    "Link to Spotipy: https://pypi.org/project/spotipy/\n",
    "Github: https://github.com/plamere/spotipy/tree/master/examples"
   ]
  },
  {
   "cell_type": "code",
   "execution_count": 1,
   "metadata": {},
   "outputs": [],
   "source": [
    "# Import the Spotipy libraries\n",
    "\n",
    "import spotipy\n",
    "from spotipy.oauth2 import SpotifyClientCredentials"
   ]
  },
  {
   "cell_type": "code",
   "execution_count": 2,
   "metadata": {},
   "outputs": [],
   "source": [
    "# Login\n",
    "\n",
    "sp = spotipy.Spotify(auth_manager = SpotifyClientCredentials(client_id = \"70ba1646808648e381bffbc7d2837484\",\n",
    "                    client_secret = \"428fca605c6c4876af3f43aa845f16d1\"))\n"
   ]
  },
  {
   "cell_type": "code",
   "execution_count": 6,
   "metadata": {},
   "outputs": [
    {
     "name": "stdout",
     "output_type": "stream",
     "text": [
      "Spotify client_id: ········\n",
      "Spotify client_secret: ········\n"
     ]
    }
   ],
   "source": [
    "# Using getpass\n",
    "\n",
    "import getpass\n",
    "client_id = getpass.getpass(prompt=\"Spotify client_id: \")\n",
    "client_secret = getpass.getpass(prompt=\"Spotify client_secret: \")\n",
    "#Initialize SpotiPy with user credentials\n",
    "sp = spotipy.Spotify(auth_manager=SpotifyClientCredentials(\n",
    "    client_id=client_id,\n",
    "    client_secret=client_secret)\n",
    "                    )"
   ]
  },
  {
   "cell_type": "code",
   "execution_count": 7,
   "metadata": {},
   "outputs": [],
   "source": [
    "#Initialize SpotiPy with user credentials\n",
    "sp = spotipy.Spotify(auth_manager = SpotifyClientCredentials(\n",
    "    client_id = client_id,\n",
    "    client_secret = client_secret)\n",
    "                    )"
   ]
  },
  {
   "cell_type": "code",
   "execution_count": null,
   "metadata": {},
   "outputs": [],
   "source": []
  }
 ],
 "metadata": {
  "kernelspec": {
   "display_name": "Python 3",
   "language": "python",
   "name": "python3"
  },
  "language_info": {
   "codemirror_mode": {
    "name": "ipython",
    "version": 3
   },
   "file_extension": ".py",
   "mimetype": "text/x-python",
   "name": "python",
   "nbconvert_exporter": "python",
   "pygments_lexer": "ipython3",
   "version": "3.7.6"
  }
 },
 "nbformat": 4,
 "nbformat_minor": 4
}
