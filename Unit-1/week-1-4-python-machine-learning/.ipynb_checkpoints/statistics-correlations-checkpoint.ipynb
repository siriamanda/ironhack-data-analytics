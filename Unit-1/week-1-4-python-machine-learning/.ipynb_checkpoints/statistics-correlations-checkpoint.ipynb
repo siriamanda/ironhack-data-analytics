{
 "cells": [
  {
   "cell_type": "code",
   "execution_count": 1,
   "metadata": {},
   "outputs": [],
   "source": [
    "import numpy as np\n",
    "import pandas as pd\n",
    "import matplotlib.pyplot as plt\n",
    "import seaborn as sns\n",
    "%matplotlib inline"
   ]
  },
  {
   "cell_type": "code",
   "execution_count": 2,
   "metadata": {},
   "outputs": [],
   "source": [
    "data = pd.read_csv('/Users/siriamanda/Desktop/Ironhack/data-analytics/week-1-4/merged_clean_ver1.csv')"
   ]
  },
  {
   "cell_type": "code",
   "execution_count": 3,
   "metadata": {},
   "outputs": [
    {
     "data": {
      "text/plain": [
       "<matplotlib.collections.PathCollection at 0x7f974d01ed90>"
      ]
     },
     "execution_count": 3,
     "metadata": {},
     "output_type": "execute_result"
    },
    {
     "data": {
      "image/png": "[encoded data removed]",
      "text/plain": [
       "<Figure size 432x288 with 1 Axes>"
      ]
     },
     "metadata": {
      "needs_background": "light"
     },
     "output_type": "display_data"
    }
   ],
   "source": [
    "plt.scatter(x = data['ic2'], y = data['ic3'])"
   ]
  },
  {
   "cell_type": "code",
   "execution_count": 4,
   "metadata": {},
   "outputs": [],
   "source": [
    "# Scipy module for statistical functions\n",
    "\n",
    "import scipy.stats as stats"
   ]
  },
  {
   "cell_type": "code",
   "execution_count": 6,
   "metadata": {},
   "outputs": [
    {
     "data": {
      "text/plain": [
       "(0.9535853403294168, 0.0)"
      ]
     },
     "execution_count": 6,
     "metadata": {},
     "output_type": "execute_result"
    }
   ],
   "source": [
    "# Need to clean data before this stage\n",
    "\n",
    "x = data['ic2']\n",
    "y = data['ic3']\n",
    "stats.pearsonr(x, y)       # Gives the correlation coefficioent and the p-value"
   ]
  },
  {
   "cell_type": "code",
   "execution_count": 8,
   "metadata": {},
   "outputs": [
    {
     "data": {
      "text/plain": [
       "0.9535853403294169"
      ]
     },
     "execution_count": 8,
     "metadata": {},
     "output_type": "execute_result"
    }
   ],
   "source": [
    "x.corr(y)         # the pandas implementation of the correlation"
   ]
  },
  {
   "cell_type": "code",
   "execution_count": 11,
   "metadata": {},
   "outputs": [
    {
     "data": {
      "text/plain": [
       "SpearmanrResult(correlation=0.9510617375454639, pvalue=0.0)"
      ]
     },
     "execution_count": 11,
     "metadata": {},
     "output_type": "execute_result"
    }
   ],
   "source": [
    "# if the p-value is less than 0.05 we can reject the null hypothesis\n",
    "\n",
    "stats.spearmanr(x, y)"
   ]
  },
  {
   "cell_type": "code",
   "execution_count": 12,
   "metadata": {},
   "outputs": [
    {
     "data": {
      "text/plain": [
       "KendalltauResult(correlation=0.8254641303546064, pvalue=0.0)"
      ]
     },
     "execution_count": 12,
     "metadata": {},
     "output_type": "execute_result"
    }
   ],
   "source": [
    "stats.kendalltau(x, y)"
   ]
  },
  {
   "cell_type": "code",
   "execution_count": 14,
   "metadata": {},
   "outputs": [
    {
     "data": {
      "text/html": [
       "<div>\n",
       "<style scoped>\n",
       "    .dataframe tbody tr th:only-of-type {\n",
       "        vertical-align: middle;\n",
       "    }\n",
       "\n",
       "    .dataframe tbody tr th {\n",
       "        vertical-align: top;\n",
       "    }\n",
       "\n",
       "    .dataframe thead th {\n",
       "        text-align: right;\n",
       "    }\n",
       "</style>\n",
       "<table border=\"1\" class=\"dataframe\">\n",
       "  <thead>\n",
       "    <tr style=\"text-align: right;\">\n",
       "      <th></th>\n",
       "      <th>Unnamed: 0</th>\n",
       "      <th>median_home_val</th>\n",
       "      <th>median_household_income</th>\n",
       "      <th>ic2</th>\n",
       "      <th>ic3</th>\n",
       "      <th>ic4</th>\n",
       "      <th>ic5</th>\n",
       "      <th>avggift</th>\n",
       "      <th>target_d</th>\n",
       "    </tr>\n",
       "  </thead>\n",
       "  <tbody>\n",
       "    <tr>\n",
       "      <th>Unnamed: 0</th>\n",
       "      <td>1.000000</td>\n",
       "      <td>-0.011188</td>\n",
       "      <td>-0.000243</td>\n",
       "      <td>0.000287</td>\n",
       "      <td>0.001897</td>\n",
       "      <td>0.002687</td>\n",
       "      <td>0.010295</td>\n",
       "      <td>0.010340</td>\n",
       "      <td>0.019956</td>\n",
       "    </tr>\n",
       "    <tr>\n",
       "      <th>median_home_val</th>\n",
       "      <td>-0.011188</td>\n",
       "      <td>1.000000</td>\n",
       "      <td>0.707209</td>\n",
       "      <td>0.743318</td>\n",
       "      <td>0.734526</td>\n",
       "      <td>0.748761</td>\n",
       "      <td>0.745223</td>\n",
       "      <td>0.138966</td>\n",
       "      <td>0.116805</td>\n",
       "    </tr>\n",
       "    <tr>\n",
       "      <th>median_household_income</th>\n",
       "      <td>-0.000243</td>\n",
       "      <td>0.707209</td>\n",
       "      <td>1.000000</td>\n",
       "      <td>0.951409</td>\n",
       "      <td>0.974777</td>\n",
       "      <td>0.928980</td>\n",
       "      <td>0.805221</td>\n",
       "      <td>0.120445</td>\n",
       "      <td>0.113246</td>\n",
       "    </tr>\n",
       "    <tr>\n",
       "      <th>ic2</th>\n",
       "      <td>0.000287</td>\n",
       "      <td>0.743318</td>\n",
       "      <td>0.951409</td>\n",
       "      <td>1.000000</td>\n",
       "      <td>0.953585</td>\n",
       "      <td>0.971498</td>\n",
       "      <td>0.874783</td>\n",
       "      <td>0.136096</td>\n",
       "      <td>0.129964</td>\n",
       "    </tr>\n",
       "    <tr>\n",
       "      <th>ic3</th>\n",
       "      <td>0.001897</td>\n",
       "      <td>0.734526</td>\n",
       "      <td>0.974777</td>\n",
       "      <td>0.953585</td>\n",
       "      <td>1.000000</td>\n",
       "      <td>0.971909</td>\n",
       "      <td>0.827514</td>\n",
       "      <td>0.125438</td>\n",
       "      <td>0.121965</td>\n",
       "    </tr>\n",
       "    <tr>\n",
       "      <th>ic4</th>\n",
       "      <td>0.002687</td>\n",
       "      <td>0.748761</td>\n",
       "      <td>0.928980</td>\n",
       "      <td>0.971498</td>\n",
       "      <td>0.971909</td>\n",
       "      <td>1.000000</td>\n",
       "      <td>0.868411</td>\n",
       "      <td>0.132438</td>\n",
       "      <td>0.131260</td>\n",
       "    </tr>\n",
       "    <tr>\n",
       "      <th>ic5</th>\n",
       "      <td>0.010295</td>\n",
       "      <td>0.745223</td>\n",
       "      <td>0.805221</td>\n",
       "      <td>0.874783</td>\n",
       "      <td>0.827514</td>\n",
       "      <td>0.868411</td>\n",
       "      <td>1.000000</td>\n",
       "      <td>0.141580</td>\n",
       "      <td>0.137878</td>\n",
       "    </tr>\n",
       "    <tr>\n",
       "      <th>avggift</th>\n",
       "      <td>0.010340</td>\n",
       "      <td>0.138966</td>\n",
       "      <td>0.120445</td>\n",
       "      <td>0.136096</td>\n",
       "      <td>0.125438</td>\n",
       "      <td>0.132438</td>\n",
       "      <td>0.141580</td>\n",
       "      <td>1.000000</td>\n",
       "      <td>0.487595</td>\n",
       "    </tr>\n",
       "    <tr>\n",
       "      <th>target_d</th>\n",
       "      <td>0.019956</td>\n",
       "      <td>0.116805</td>\n",
       "      <td>0.113246</td>\n",
       "      <td>0.129964</td>\n",
       "      <td>0.121965</td>\n",
       "      <td>0.131260</td>\n",
       "      <td>0.137878</td>\n",
       "      <td>0.487595</td>\n",
       "      <td>1.000000</td>\n",
       "    </tr>\n",
       "  </tbody>\n",
       "</table>\n",
       "</div>"
      ],
      "text/plain": [
       "                         Unnamed: 0  median_home_val  median_household_income  \\\n",
       "Unnamed: 0                 1.000000        -0.011188                -0.000243   \n",
       "median_home_val           -0.011188         1.000000                 0.707209   \n",
       "median_household_income   -0.000243         0.707209                 1.000000   \n",
       "ic2                        0.000287         0.743318                 0.951409   \n",
       "ic3                        0.001897         0.734526                 0.974777   \n",
       "ic4                        0.002687         0.748761                 0.928980   \n",
       "ic5                        0.010295         0.745223                 0.805221   \n",
       "avggift                    0.010340         0.138966                 0.120445   \n",
       "target_d                   0.019956         0.116805                 0.113246   \n",
       "\n",
       "                              ic2       ic3       ic4       ic5   avggift  \\\n",
       "Unnamed: 0               0.000287  0.001897  0.002687  0.010295  0.010340   \n",
       "median_home_val          0.743318  0.734526  0.748761  0.745223  0.138966   \n",
       "median_household_income  0.951409  0.974777  0.928980  0.805221  0.120445   \n",
       "ic2                      1.000000  0.953585  0.971498  0.874783  0.136096   \n",
       "ic3                      0.953585  1.000000  0.971909  0.827514  0.125438   \n",
       "ic4                      0.971498  0.971909  1.000000  0.868411  0.132438   \n",
       "ic5                      0.874783  0.827514  0.868411  1.000000  0.141580   \n",
       "avggift                  0.136096  0.125438  0.132438  0.141580  1.000000   \n",
       "target_d                 0.129964  0.121965  0.131260  0.137878  0.487595   \n",
       "\n",
       "                         target_d  \n",
       "Unnamed: 0               0.019956  \n",
       "median_home_val          0.116805  \n",
       "median_household_income  0.113246  \n",
       "ic2                      0.129964  \n",
       "ic3                      0.121965  \n",
       "ic4                      0.131260  \n",
       "ic5                      0.137878  \n",
       "avggift                  0.487595  \n",
       "target_d                 1.000000  "
      ]
     },
     "execution_count": 14,
     "metadata": {},
     "output_type": "execute_result"
    }
   ],
   "source": [
    "# Correlations matrix\n",
    "# Take all of the columns and look for correlations\n",
    "\n",
    "corr_data = data.drop(['id', 'state', 'gender'], axis = 1)\n",
    "correlations_matrix = corr_data.corr()\n",
    "\n",
    "correlations_matrix\n",
    "\n",
    "# Check that thematrix is working - the value is '1' diagonally "
   ]
  },
  {
   "cell_type": "code",
   "execution_count": 15,
   "metadata": {},
   "outputs": [
    {
     "data": {
      "text/plain": [
       "<matplotlib.axes._subplots.AxesSubplot at 0x7f974fa79610>"
      ]
     },
     "execution_count": 15,
     "metadata": {},
     "output_type": "execute_result"
    },
    {
     "data": {
      "image/png": "[encoded data removed]",
      "text/plain": [
       "<Figure size 432x288 with 2 Axes>"
      ]
     },
     "metadata": {
      "needs_background": "light"
     },
     "output_type": "display_data"
    }
   ],
   "source": [
    "sns.heatmap(correlations_matrix, annot = True)"
   ]
  },
  {
   "cell_type": "code",
   "execution_count": null,
   "metadata": {},
   "outputs": [],
   "source": []
  }
 ],
 "metadata": {
  "kernelspec": {
   "display_name": "Python 3",
   "language": "python",
   "name": "python3"
  },
  "language_info": {
   "codemirror_mode": {
    "name": "ipython",
    "version": 3
   },
   "file_extension": ".py",
   "mimetype": "text/x-python",
   "name": "python",
   "nbconvert_exporter": "python",
   "pygments_lexer": "ipython3",
   "version": "3.7.6"
  }
 },
 "nbformat": 4,
 "nbformat_minor": 4
}
