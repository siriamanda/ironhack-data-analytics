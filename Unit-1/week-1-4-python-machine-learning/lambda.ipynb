{
 "cells": [
  {
   "cell_type": "code",
   "execution_count": null,
   "metadata": {},
   "outputs": [],
   "source": [
    "# Lambda is an anonymous maths function\n",
    "# Allows to create a temporary function\n",
    "# It can be useful to add a comment 'I created this function to do x...'\n",
    "# Faster was to define a short function\n",
    "\n",
    "# Syntax: name of function = lambda <user input var1,2,3,4>, <what should python do with this>"
   ]
  },
  {
   "cell_type": "code",
   "execution_count": null,
   "metadata": {},
   "outputs": [],
   "source": [
    "sqroot = lambda\n",
    "<user input var1,2,3>\n",
    "<what should python do with this>\n",
    "# I just created this function to do x ..."
   ]
  },
  {
   "cell_type": "code",
   "execution_count": null,
   "metadata": {},
   "outputs": [],
   "source": [
    "y = lambda x: x + 2"
   ]
  },
  {
   "cell_type": "code",
   "execution_count": null,
   "metadata": {},
   "outputs": [],
   "source": [
    "y(2)"
   ]
  },
  {
   "cell_type": "code",
   "execution_count": null,
   "metadata": {},
   "outputs": [],
   "source": [
    "square = lambda x: x * x"
   ]
  },
  {
   "cell_type": "code",
   "execution_count": null,
   "metadata": {},
   "outputs": [],
   "source": [
    "square(4)"
   ]
  },
  {
   "cell_type": "code",
   "execution_count": null,
   "metadata": {},
   "outputs": [],
   "source": [
    "addition = lambda x,y: x + y\n",
    "addition(1,3)"
   ]
  },
  {
   "cell_type": "code",
   "execution_count": null,
   "metadata": {},
   "outputs": [],
   "source": [
    "lst = [1,2,3,4,5,6,7,8,9,10]\n",
    "new_list = []\n",
    "for item in lst:\n",
    "    new_list.append(square(item))\n",
    "new_list"
   ]
  },
  {
   "cell_type": "code",
   "execution_count": null,
   "metadata": {},
   "outputs": [],
   "source": [
    "new_list = [square(item) for item in lst]      # list comprehension\n",
    "new_list"
   ]
  },
  {
   "cell_type": "code",
   "execution_count": null,
   "metadata": {},
   "outputs": [],
   "source": [
    "new_list1 = []\n",
    "for item in lst:\n",
    "    if item %2 ==0:\n",
    "        new_list1.append(square(item))\n",
    "new_list1"
   ]
  },
  {
   "cell_type": "code",
   "execution_count": null,
   "metadata": {},
   "outputs": [],
   "source": [
    "new_list1 = [square(item) for item in lst if item%2 == 0 ]\n",
    "new_list1"
   ]
  },
  {
   "cell_type": "code",
   "execution_count": 33,
   "metadata": {},
   "outputs": [
    {
     "data": {
      "text/plain": [
       "[1, 8, 27, 64, 125, 216, 343, 512, 1000]"
      ]
     },
     "execution_count": 33,
     "metadata": {},
     "output_type": "execute_result"
    }
   ],
   "source": [
    "# Define a list as lst = [1,2,3,4,5,6,7,8,10]. \n",
    "# Write a lambda expression to find the cube of a number. \n",
    "# Use that lambda expression to find the cube of every number in the list. \n",
    "# Define a list comprehension for this question.\n",
    "\n",
    "numbers = [1,2,3,4,5,6,7,8,10]\n",
    "cubed_numbers = []\n",
    "\n",
    "cube = lambda x: x * x * x\n",
    "\n",
    "for item in numbers:\n",
    "    cubed_numbers.append(cube(item))\n",
    "cubed_numbers"
   ]
  },
  {
   "cell_type": "code",
   "execution_count": 35,
   "metadata": {},
   "outputs": [
    {
     "data": {
      "text/plain": [
       "[1, 8, 27, 64, 125, 216, 343, 512, 1000]"
      ]
     },
     "execution_count": 35,
     "metadata": {},
     "output_type": "execute_result"
    }
   ],
   "source": [
    "# list comprehension\n",
    "\n",
    "cubed_numbers = [cube(item) for item in numbers]\n",
    "cubed_numbers"
   ]
  },
  {
   "cell_type": "code",
   "execution_count": 36,
   "metadata": {},
   "outputs": [
    {
     "data": {
      "text/plain": [
       "6"
      ]
     },
     "execution_count": 36,
     "metadata": {},
     "output_type": "execute_result"
    }
   ],
   "source": [
    "# Create a simple lambda expression to add three numbers. \n",
    "# Take those three numbers as input from the user. \n",
    "# \"(Since you will accept only numbers as valid inputs, check this example to see how to do it.)\n",
    "\n",
    "addition = lambda x,y,z: x + y + 3\n",
    "\n",
    "addition(1,2,3)"
   ]
  },
  {
   "cell_type": "code",
   "execution_count": 38,
   "metadata": {},
   "outputs": [],
   "source": [
    "# map is a function with two variables, that can process iteratively without a loop\n",
    "# the map function has two arguments the name of the function, the sequence it should be applied to\n",
    "\n",
    "# Example: data.columns = list(map(lambda x: x.lower(), data.columns))"
   ]
  },
  {
   "cell_type": "code",
   "execution_count": null,
   "metadata": {},
   "outputs": [],
   "source": [
    "# Looking \n",
    "\n",
    "# data['gender'] = list(map(lambda x: x.upper), data['gender'])\n"
   ]
  }
 ],
 "metadata": {
  "kernelspec": {
   "display_name": "Python 3",
   "language": "python",
   "name": "python3"
  },
  "language_info": {
   "codemirror_mode": {
    "name": "ipython",
    "version": 3
   },
   "file_extension": ".py",
   "mimetype": "text/x-python",
   "name": "python",
   "nbconvert_exporter": "python",
   "pygments_lexer": "ipython3",
   "version": "3.7.6"
  }
 },
 "nbformat": 4,
 "nbformat_minor": 4
}
