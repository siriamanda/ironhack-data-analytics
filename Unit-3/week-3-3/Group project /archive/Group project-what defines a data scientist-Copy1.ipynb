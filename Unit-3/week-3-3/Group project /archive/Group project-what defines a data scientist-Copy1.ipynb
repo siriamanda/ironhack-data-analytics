{
 "cells": [
  {
   "cell_type": "code",
   "execution_count": 1,
   "metadata": {},
   "outputs": [],
   "source": [
    "import pandas as pd\n",
    "import numpy as np\n",
    "import re\n",
    "from matplotlib import pyplot as plt\n",
    "import itertools\n",
    "plt.style.use('ggplot')"
   ]
  },
  {
   "cell_type": "code",
   "execution_count": 2,
   "metadata": {},
   "outputs": [],
   "source": [
    "alldata = pd.read_csv('alldata.csv')"
   ]
  },
  {
   "cell_type": "code",
   "execution_count": 3,
   "metadata": {},
   "outputs": [
    {
     "data": {
      "text/html": [
       "<div>\n",
       "<style scoped>\n",
       "    .dataframe tbody tr th:only-of-type {\n",
       "        vertical-align: middle;\n",
       "    }\n",
       "\n",
       "    .dataframe tbody tr th {\n",
       "        vertical-align: top;\n",
       "    }\n",
       "\n",
       "    .dataframe thead th {\n",
       "        text-align: right;\n",
       "    }\n",
       "</style>\n",
       "<table border=\"1\" class=\"dataframe\">\n",
       "  <thead>\n",
       "    <tr style=\"text-align: right;\">\n",
       "      <th></th>\n",
       "      <th>position</th>\n",
       "      <th>company</th>\n",
       "      <th>description</th>\n",
       "      <th>reviews</th>\n",
       "      <th>location</th>\n",
       "    </tr>\n",
       "  </thead>\n",
       "  <tbody>\n",
       "    <tr>\n",
       "      <th>0</th>\n",
       "      <td>Development Director</td>\n",
       "      <td>ALS TDI</td>\n",
       "      <td>Development Director\\nALS Therapy Development ...</td>\n",
       "      <td>NaN</td>\n",
       "      <td>Atlanta, GA 30301</td>\n",
       "    </tr>\n",
       "    <tr>\n",
       "      <th>1</th>\n",
       "      <td>An Ostentatiously-Excitable Principal Research...</td>\n",
       "      <td>The Hexagon Lavish</td>\n",
       "      <td>Job Description\\n\\n\"The road that leads to acc...</td>\n",
       "      <td>NaN</td>\n",
       "      <td>Atlanta, GA</td>\n",
       "    </tr>\n",
       "    <tr>\n",
       "      <th>2</th>\n",
       "      <td>Data Scientist</td>\n",
       "      <td>Xpert Staffing</td>\n",
       "      <td>Growing company located in the Atlanta, GA are...</td>\n",
       "      <td>NaN</td>\n",
       "      <td>Atlanta, GA</td>\n",
       "    </tr>\n",
       "    <tr>\n",
       "      <th>3</th>\n",
       "      <td>Data Analyst</td>\n",
       "      <td>Operation HOPE</td>\n",
       "      <td>DEPARTMENT: Program OperationsPOSITION LOCATIO...</td>\n",
       "      <td>44.0</td>\n",
       "      <td>Atlanta, GA 30303</td>\n",
       "    </tr>\n",
       "    <tr>\n",
       "      <th>4</th>\n",
       "      <td>Assistant Professor -TT - Signal Processing &amp; ...</td>\n",
       "      <td>Emory University</td>\n",
       "      <td>DESCRIPTION\\nThe Emory University Department o...</td>\n",
       "      <td>550.0</td>\n",
       "      <td>Atlanta, GA</td>\n",
       "    </tr>\n",
       "    <tr>\n",
       "      <th>5</th>\n",
       "      <td>Manager of Data Engineering</td>\n",
       "      <td>McKinsey &amp; Company</td>\n",
       "      <td>Qualifications\\nBachelor’s degree in Computer ...</td>\n",
       "      <td>385.0</td>\n",
       "      <td>Atlanta, GA 30318</td>\n",
       "    </tr>\n",
       "    <tr>\n",
       "      <th>6</th>\n",
       "      <td>Product Specialist - Periscope, New Ventures</td>\n",
       "      <td>McKinsey &amp; Company</td>\n",
       "      <td>Qualifications\\nBachelor’s degree\\n5-7 years o...</td>\n",
       "      <td>385.0</td>\n",
       "      <td>Atlanta, GA 30318</td>\n",
       "    </tr>\n",
       "    <tr>\n",
       "      <th>7</th>\n",
       "      <td>Junior to Mid-level Engineer, Geologist or Env...</td>\n",
       "      <td>Wood</td>\n",
       "      <td>Overview / Responsibilities\\nWood Environment ...</td>\n",
       "      <td>899.0</td>\n",
       "      <td>Atlanta, GA</td>\n",
       "    </tr>\n",
       "    <tr>\n",
       "      <th>8</th>\n",
       "      <td>Analyst - CIB Credit Research</td>\n",
       "      <td>SunTrust</td>\n",
       "      <td>Works closely with senior CIB professionals. P...</td>\n",
       "      <td>3343.0</td>\n",
       "      <td>Atlanta, GA</td>\n",
       "    </tr>\n",
       "    <tr>\n",
       "      <th>9</th>\n",
       "      <td>Senior Associate - Cognitive Data Scientist Na...</td>\n",
       "      <td>KPMG</td>\n",
       "      <td>Known for being a great place to work and buil...</td>\n",
       "      <td>4494.0</td>\n",
       "      <td>Atlanta, GA 30338</td>\n",
       "    </tr>\n",
       "  </tbody>\n",
       "</table>\n",
       "</div>"
      ],
      "text/plain": [
       "                                            position             company  \\\n",
       "0                               Development Director             ALS TDI   \n",
       "1  An Ostentatiously-Excitable Principal Research...  The Hexagon Lavish   \n",
       "2                                     Data Scientist      Xpert Staffing   \n",
       "3                                       Data Analyst      Operation HOPE   \n",
       "4  Assistant Professor -TT - Signal Processing & ...    Emory University   \n",
       "5                        Manager of Data Engineering  McKinsey & Company   \n",
       "6       Product Specialist - Periscope, New Ventures  McKinsey & Company   \n",
       "7  Junior to Mid-level Engineer, Geologist or Env...                Wood   \n",
       "8                      Analyst - CIB Credit Research            SunTrust   \n",
       "9  Senior Associate - Cognitive Data Scientist Na...                KPMG   \n",
       "\n",
       "                                         description  reviews  \\\n",
       "0  Development Director\\nALS Therapy Development ...      NaN   \n",
       "1  Job Description\\n\\n\"The road that leads to acc...      NaN   \n",
       "2  Growing company located in the Atlanta, GA are...      NaN   \n",
       "3  DEPARTMENT: Program OperationsPOSITION LOCATIO...     44.0   \n",
       "4  DESCRIPTION\\nThe Emory University Department o...    550.0   \n",
       "5  Qualifications\\nBachelor’s degree in Computer ...    385.0   \n",
       "6  Qualifications\\nBachelor’s degree\\n5-7 years o...    385.0   \n",
       "7  Overview / Responsibilities\\nWood Environment ...    899.0   \n",
       "8  Works closely with senior CIB professionals. P...   3343.0   \n",
       "9  Known for being a great place to work and buil...   4494.0   \n",
       "\n",
       "             location  \n",
       "0  Atlanta, GA 30301   \n",
       "1         Atlanta, GA  \n",
       "2         Atlanta, GA  \n",
       "3  Atlanta, GA 30303   \n",
       "4         Atlanta, GA  \n",
       "5  Atlanta, GA 30318   \n",
       "6  Atlanta, GA 30318   \n",
       "7         Atlanta, GA  \n",
       "8         Atlanta, GA  \n",
       "9   Atlanta, GA 30338  "
      ]
     },
     "execution_count": 3,
     "metadata": {},
     "output_type": "execute_result"
    }
   ],
   "source": [
    "alldata.head(10)"
   ]
  },
  {
   "cell_type": "code",
   "execution_count": 4,
   "metadata": {},
   "outputs": [],
   "source": [
    "# Null values\n",
    "\n",
    "alldata['reviews'] = alldata['reviews'].fillna(0) #replace null values with 0.\n",
    "alldata = alldata.dropna(axis=0, how = 'any') #remove rows with all null values\n"
   ]
  },
  {
   "cell_type": "code",
   "execution_count": 5,
   "metadata": {},
   "outputs": [
    {
     "data": {
      "text/plain": [
       "0"
      ]
     },
     "execution_count": 5,
     "metadata": {},
     "output_type": "execute_result"
    }
   ],
   "source": [
    "sum(alldata.isnull().any(axis=1)) # check if the removal of null's is successful"
   ]
  },
  {
   "cell_type": "code",
   "execution_count": 6,
   "metadata": {},
   "outputs": [
    {
     "data": {
      "text/plain": [
       "position        object\n",
       "company         object\n",
       "description     object\n",
       "reviews        float64\n",
       "location        object\n",
       "dtype: object"
      ]
     },
     "execution_count": 6,
     "metadata": {},
     "output_type": "execute_result"
    }
   ],
   "source": [
    "alldata.dtypes"
   ]
  },
  {
   "cell_type": "code",
   "execution_count": 7,
   "metadata": {},
   "outputs": [
    {
     "data": {
      "text/plain": [
       "count               6953\n",
       "unique              5242\n",
       "top       Data Scientist\n",
       "freq                 351\n",
       "Name: position, dtype: object"
      ]
     },
     "execution_count": 7,
     "metadata": {},
     "output_type": "execute_result"
    }
   ],
   "source": [
    "alldata['position'].describe()"
   ]
  },
  {
   "cell_type": "code",
   "execution_count": 8,
   "metadata": {},
   "outputs": [
    {
     "data": {
      "text/plain": [
       "count                                                  6953\n",
       "unique                                                 6708\n",
       "top       Note: By applying to this position your applic...\n",
       "freq                                                      9\n",
       "Name: description, dtype: object"
      ]
     },
     "execution_count": 8,
     "metadata": {},
     "output_type": "execute_result"
    }
   ],
   "source": [
    "alldata['description'].describe()"
   ]
  },
  {
   "cell_type": "code",
   "execution_count": 9,
   "metadata": {},
   "outputs": [
    {
     "data": {
      "text/plain": [
       "Data Scientist                                                                         351\n",
       "Senior Data Scientist                                                                   96\n",
       "Research Analyst                                                                        64\n",
       "Data Engineer                                                                           60\n",
       "Machine Learning Engineer                                                               56\n",
       "                                                                                      ... \n",
       "Principal Embedded Software Engineer - LabVIEW (664114) Security Clearance Required      1\n",
       "Senior Software Engineer- Backend                                                        1\n",
       "Corporate Compliance Manager                                                             1\n",
       "Scientist - Flavor                                                                       1\n",
       "Postdoctoral Scientist (Pulmonary)                                                       1\n",
       "Name: position, Length: 5242, dtype: int64"
      ]
     },
     "execution_count": 9,
     "metadata": {},
     "output_type": "execute_result"
    }
   ],
   "source": [
    "alldata['position'].value_counts()"
   ]
  },
  {
   "cell_type": "code",
   "execution_count": 10,
   "metadata": {},
   "outputs": [
    {
     "data": {
      "text/plain": [
       "Amazon.com                        358\n",
       "Ball Aerospace                    187\n",
       "Microsoft                         137\n",
       "Google                            134\n",
       "NYU Langone Health                 77\n",
       "                                 ... \n",
       "C. R. Bard                          1\n",
       "Bombfell, Inc.                      1\n",
       "Domino Data Lab                     1\n",
       "Samsung NEXT                        1\n",
       "COMPTROLLER OF PUBLIC ACCOUNTS      1\n",
       "Name: company, Length: 2213, dtype: int64"
      ]
     },
     "execution_count": 10,
     "metadata": {},
     "output_type": "execute_result"
    }
   ],
   "source": [
    "alldata['company'].value_counts()"
   ]
  },
  {
   "cell_type": "code",
   "execution_count": 11,
   "metadata": {},
   "outputs": [
    {
     "data": {
      "text/plain": [
       "0.0        1627\n",
       "25902.0     224\n",
       "108.0       193\n",
       "2.0         191\n",
       "5.0         138\n",
       "           ... \n",
       "1366.0        1\n",
       "6868.0        1\n",
       "21949.0       1\n",
       "290.0         1\n",
       "2409.0        1\n",
       "Name: reviews, Length: 561, dtype: int64"
      ]
     },
     "execution_count": 11,
     "metadata": {},
     "output_type": "execute_result"
    }
   ],
   "source": [
    "alldata['reviews'].value_counts()"
   ]
  },
  {
   "cell_type": "code",
   "execution_count": 12,
   "metadata": {},
   "outputs": [],
   "source": [
    "import numpy as np \n",
    "import pandas as pd \n",
    "import seaborn as sns\n",
    "import re\n",
    "from collections import defaultdict"
   ]
  },
  {
   "cell_type": "code",
   "execution_count": 13,
   "metadata": {},
   "outputs": [],
   "source": [
    "# Reduce dataset to position and description\n",
    "\n",
    "alldata = alldata[[\"position\",\"description\"]]"
   ]
  },
  {
   "cell_type": "code",
   "execution_count": 14,
   "metadata": {},
   "outputs": [
    {
     "data": {
      "text/html": [
       "<div>\n",
       "<style scoped>\n",
       "    .dataframe tbody tr th:only-of-type {\n",
       "        vertical-align: middle;\n",
       "    }\n",
       "\n",
       "    .dataframe tbody tr th {\n",
       "        vertical-align: top;\n",
       "    }\n",
       "\n",
       "    .dataframe thead th {\n",
       "        text-align: right;\n",
       "    }\n",
       "</style>\n",
       "<table border=\"1\" class=\"dataframe\">\n",
       "  <thead>\n",
       "    <tr style=\"text-align: right;\">\n",
       "      <th></th>\n",
       "      <th>position</th>\n",
       "      <th>description</th>\n",
       "    </tr>\n",
       "  </thead>\n",
       "  <tbody>\n",
       "    <tr>\n",
       "      <th>0</th>\n",
       "      <td>Development Director</td>\n",
       "      <td>Development Director\\nALS Therapy Development ...</td>\n",
       "    </tr>\n",
       "    <tr>\n",
       "      <th>1</th>\n",
       "      <td>An Ostentatiously-Excitable Principal Research...</td>\n",
       "      <td>Job Description\\n\\n\"The road that leads to acc...</td>\n",
       "    </tr>\n",
       "    <tr>\n",
       "      <th>2</th>\n",
       "      <td>Data Scientist</td>\n",
       "      <td>Growing company located in the Atlanta, GA are...</td>\n",
       "    </tr>\n",
       "    <tr>\n",
       "      <th>3</th>\n",
       "      <td>Data Analyst</td>\n",
       "      <td>DEPARTMENT: Program OperationsPOSITION LOCATIO...</td>\n",
       "    </tr>\n",
       "    <tr>\n",
       "      <th>4</th>\n",
       "      <td>Assistant Professor -TT - Signal Processing &amp; ...</td>\n",
       "      <td>DESCRIPTION\\nThe Emory University Department o...</td>\n",
       "    </tr>\n",
       "  </tbody>\n",
       "</table>\n",
       "</div>"
      ],
      "text/plain": [
       "                                            position  \\\n",
       "0                               Development Director   \n",
       "1  An Ostentatiously-Excitable Principal Research...   \n",
       "2                                     Data Scientist   \n",
       "3                                       Data Analyst   \n",
       "4  Assistant Professor -TT - Signal Processing & ...   \n",
       "\n",
       "                                         description  \n",
       "0  Development Director\\nALS Therapy Development ...  \n",
       "1  Job Description\\n\\n\"The road that leads to acc...  \n",
       "2  Growing company located in the Atlanta, GA are...  \n",
       "3  DEPARTMENT: Program OperationsPOSITION LOCATIO...  \n",
       "4  DESCRIPTION\\nThe Emory University Department o...  "
      ]
     },
     "execution_count": 14,
     "metadata": {},
     "output_type": "execute_result"
    }
   ],
   "source": [
    "alldata.head()"
   ]
  },
  {
   "cell_type": "code",
   "execution_count": 15,
   "metadata": {},
   "outputs": [],
   "source": [
    "# Convert columns to strings\n",
    "\n",
    "alldata = alldata.applymap(str)"
   ]
  },
  {
   "cell_type": "code",
   "execution_count": 16,
   "metadata": {},
   "outputs": [
    {
     "data": {
      "text/plain": [
       "position       object\n",
       "description    object\n",
       "dtype: object"
      ]
     },
     "execution_count": 16,
     "metadata": {},
     "output_type": "execute_result"
    }
   ],
   "source": [
    "alldata.dtypes"
   ]
  },
  {
   "cell_type": "code",
   "execution_count": 17,
   "metadata": {},
   "outputs": [],
   "source": [
    "# Replace certain strings\n",
    "\n",
    "alldata[\"description\"] = alldata[\"description\"].replace(to_replace='Apply', value=\"\",regex=True)\n",
    "alldata[\"description\"] = alldata[\"description\"].replace(to_replace='apply', value=\"\",regex=True)\n",
    "alldata[\"description\"] = alldata[\"description\"].replace(to_replace='now', value=\"\",regex=True)\n",
    "alldata[\"description\"] = alldata[\"description\"].replace(to_replace='apply now', value=\"\",regex=True)\n",
    "alldata[\"description\"] = alldata[\"description\"].replace(to_replace='Apply Now', value=\"\",regex=True)\n",
    "alldata[\"description\"] = alldata[\"description\"].replace(to_replace='Job Description', value=\"\",regex=True)\n",
    "alldata[\"description\"] = alldata[\"description\"].replace(to_replace='job description', value=\"\",regex=True)\n",
    "alldata[\"description\"] = alldata[\"description\"].replace(to_replace='changes everything', value=\"\",regex=True)\n",
    "alldata[\"description\"] = alldata[\"description\"].replace(to_replace='everything', value=\"\",regex=True)\n",
    "alldata[\"description\"] = alldata[\"description\"].replace(to_replace='data scientist', value=\"Data Scientist\",regex=True)\n"
   ]
  },
  {
   "cell_type": "code",
   "execution_count": 18,
   "metadata": {},
   "outputs": [
    {
     "data": {
      "text/html": [
       "<div>\n",
       "<style scoped>\n",
       "    .dataframe tbody tr th:only-of-type {\n",
       "        vertical-align: middle;\n",
       "    }\n",
       "\n",
       "    .dataframe tbody tr th {\n",
       "        vertical-align: top;\n",
       "    }\n",
       "\n",
       "    .dataframe thead th {\n",
       "        text-align: right;\n",
       "    }\n",
       "</style>\n",
       "<table border=\"1\" class=\"dataframe\">\n",
       "  <thead>\n",
       "    <tr style=\"text-align: right;\">\n",
       "      <th></th>\n",
       "      <th>position</th>\n",
       "      <th>description</th>\n",
       "    </tr>\n",
       "  </thead>\n",
       "  <tbody>\n",
       "    <tr>\n",
       "      <th>0</th>\n",
       "      <td>Development Director</td>\n",
       "      <td>Development Director\\nALS Therapy Development ...</td>\n",
       "    </tr>\n",
       "    <tr>\n",
       "      <th>1</th>\n",
       "      <td>An Ostentatiously-Excitable Principal Research...</td>\n",
       "      <td>\\n\\n\"The road that leads to accomplishment is ...</td>\n",
       "    </tr>\n",
       "    <tr>\n",
       "      <th>2</th>\n",
       "      <td>Data Scientist</td>\n",
       "      <td>Growing company located in the Atlanta, GA are...</td>\n",
       "    </tr>\n",
       "    <tr>\n",
       "      <th>3</th>\n",
       "      <td>Data Analyst</td>\n",
       "      <td>DEPARTMENT: Program OperationsPOSITION LOCATIO...</td>\n",
       "    </tr>\n",
       "    <tr>\n",
       "      <th>4</th>\n",
       "      <td>Assistant Professor -TT - Signal Processing &amp; ...</td>\n",
       "      <td>DESCRIPTION\\nThe Emory University Department o...</td>\n",
       "    </tr>\n",
       "  </tbody>\n",
       "</table>\n",
       "</div>"
      ],
      "text/plain": [
       "                                            position  \\\n",
       "0                               Development Director   \n",
       "1  An Ostentatiously-Excitable Principal Research...   \n",
       "2                                     Data Scientist   \n",
       "3                                       Data Analyst   \n",
       "4  Assistant Professor -TT - Signal Processing & ...   \n",
       "\n",
       "                                         description  \n",
       "0  Development Director\\nALS Therapy Development ...  \n",
       "1  \\n\\n\"The road that leads to accomplishment is ...  \n",
       "2  Growing company located in the Atlanta, GA are...  \n",
       "3  DEPARTMENT: Program OperationsPOSITION LOCATIO...  \n",
       "4  DESCRIPTION\\nThe Emory University Department o...  "
      ]
     },
     "execution_count": 18,
     "metadata": {},
     "output_type": "execute_result"
    }
   ],
   "source": [
    "alldata.head()"
   ]
  },
  {
   "cell_type": "code",
   "execution_count": 19,
   "metadata": {},
   "outputs": [
    {
     "data": {
      "text/plain": [
       "(6953, 2)"
      ]
     },
     "execution_count": 19,
     "metadata": {},
     "output_type": "execute_result"
    }
   ],
   "source": [
    "alldata.shape"
   ]
  },
  {
   "cell_type": "code",
   "execution_count": 29,
   "metadata": {},
   "outputs": [
    {
     "data": {
      "text/html": [
       "<div>\n",
       "<style scoped>\n",
       "    .dataframe tbody tr th:only-of-type {\n",
       "        vertical-align: middle;\n",
       "    }\n",
       "\n",
       "    .dataframe tbody tr th {\n",
       "        vertical-align: top;\n",
       "    }\n",
       "\n",
       "    .dataframe thead th {\n",
       "        text-align: right;\n",
       "    }\n",
       "</style>\n",
       "<table border=\"1\" class=\"dataframe\">\n",
       "  <thead>\n",
       "    <tr style=\"text-align: right;\">\n",
       "      <th></th>\n",
       "      <th>position</th>\n",
       "      <th>description</th>\n",
       "    </tr>\n",
       "  </thead>\n",
       "  <tbody>\n",
       "    <tr>\n",
       "      <th>3</th>\n",
       "      <td>Data Analyst</td>\n",
       "      <td>DEPARTMENT: Program OperationsPOSITION LOCATIO...</td>\n",
       "    </tr>\n",
       "    <tr>\n",
       "      <th>8</th>\n",
       "      <td>Analyst - CIB Credit Research</td>\n",
       "      <td>Works closely with senior CIB professionals. P...</td>\n",
       "    </tr>\n",
       "    <tr>\n",
       "      <th>14</th>\n",
       "      <td>Business Intelligence Data Science Analyst - S...</td>\n",
       "      <td>Data Science Analyst– Business Intelligence\\nL...</td>\n",
       "    </tr>\n",
       "    <tr>\n",
       "      <th>53</th>\n",
       "      <td>Statistical Analyst</td>\n",
       "      <td>\\n\\nParticipates in all aspects of business in...</td>\n",
       "    </tr>\n",
       "    <tr>\n",
       "      <th>64</th>\n",
       "      <td>Statistical Quantitative Analyst</td>\n",
       "      <td>Reviews and validates models.\\nWorks with more...</td>\n",
       "    </tr>\n",
       "  </tbody>\n",
       "</table>\n",
       "</div>"
      ],
      "text/plain": [
       "                                             position  \\\n",
       "3                                        Data Analyst   \n",
       "8                       Analyst - CIB Credit Research   \n",
       "14  Business Intelligence Data Science Analyst - S...   \n",
       "53                                Statistical Analyst   \n",
       "64                   Statistical Quantitative Analyst   \n",
       "\n",
       "                                          description  \n",
       "3   DEPARTMENT: Program OperationsPOSITION LOCATIO...  \n",
       "8   Works closely with senior CIB professionals. P...  \n",
       "14  Data Science Analyst– Business Intelligence\\nL...  \n",
       "53  \\n\\nParticipates in all aspects of business in...  \n",
       "64  Reviews and validates models.\\nWorks with more...  "
      ]
     },
     "execution_count": 29,
     "metadata": {},
     "output_type": "execute_result"
    }
   ],
   "source": [
    "#Select Data Analyst postings from the listings\n",
    "\n",
    "data_analyst = alldata[alldata['position'].str.contains(\"Data Analyst|Data analyst|data analyst|Analyst|analyst]\")] \n",
    "\n",
    "#View the slice\n",
    "\n",
    "Analyst.head()\n"
   ]
  },
  {
   "cell_type": "code",
   "execution_count": 31,
   "metadata": {},
   "outputs": [
    {
     "data": {
      "text/html": [
       "<div>\n",
       "<style scoped>\n",
       "    .dataframe tbody tr th:only-of-type {\n",
       "        vertical-align: middle;\n",
       "    }\n",
       "\n",
       "    .dataframe tbody tr th {\n",
       "        vertical-align: top;\n",
       "    }\n",
       "\n",
       "    .dataframe thead th {\n",
       "        text-align: right;\n",
       "    }\n",
       "</style>\n",
       "<table border=\"1\" class=\"dataframe\">\n",
       "  <thead>\n",
       "    <tr style=\"text-align: right;\">\n",
       "      <th></th>\n",
       "      <th>position</th>\n",
       "      <th>description</th>\n",
       "    </tr>\n",
       "  </thead>\n",
       "  <tbody>\n",
       "    <tr>\n",
       "      <th>1</th>\n",
       "      <td>An Ostentatiously-Excitable Principal Research...</td>\n",
       "      <td>\\n\\n\"The road that leads to accomplishment is ...</td>\n",
       "    </tr>\n",
       "    <tr>\n",
       "      <th>2</th>\n",
       "      <td>Data Scientist</td>\n",
       "      <td>Growing company located in the Atlanta, GA are...</td>\n",
       "    </tr>\n",
       "    <tr>\n",
       "      <th>7</th>\n",
       "      <td>Junior to Mid-level Engineer, Geologist or Env...</td>\n",
       "      <td>Overview / Responsibilities\\nWood Environment ...</td>\n",
       "    </tr>\n",
       "    <tr>\n",
       "      <th>9</th>\n",
       "      <td>Senior Associate - Cognitive Data Scientist Na...</td>\n",
       "      <td>Kn for being a great place to work and build a...</td>\n",
       "    </tr>\n",
       "    <tr>\n",
       "      <th>11</th>\n",
       "      <td>Health Scientist III-CPTS</td>\n",
       "      <td>Chenega Professional &amp;amp; Technical Services,...</td>\n",
       "    </tr>\n",
       "  </tbody>\n",
       "</table>\n",
       "</div>"
      ],
      "text/plain": [
       "                                             position  \\\n",
       "1   An Ostentatiously-Excitable Principal Research...   \n",
       "2                                      Data Scientist   \n",
       "7   Junior to Mid-level Engineer, Geologist or Env...   \n",
       "9   Senior Associate - Cognitive Data Scientist Na...   \n",
       "11                          Health Scientist III-CPTS   \n",
       "\n",
       "                                          description  \n",
       "1   \\n\\n\"The road that leads to accomplishment is ...  \n",
       "2   Growing company located in the Atlanta, GA are...  \n",
       "7   Overview / Responsibilities\\nWood Environment ...  \n",
       "9   Kn for being a great place to work and build a...  \n",
       "11  Chenega Professional &amp; Technical Services,...  "
      ]
     },
     "execution_count": 31,
     "metadata": {},
     "output_type": "execute_result"
    }
   ],
   "source": [
    "#Select Data Scientist postings from the listings\n",
    "\n",
    "data_scientist = alldata[alldata['position'].str.contains(\"Data Scientist|Data scientist|data scientist|Scientist|scientist\")] \n",
    "\n",
    "#View the slice\n",
    "\n",
    "data_scientist.head()"
   ]
  },
  {
   "cell_type": "code",
   "execution_count": 33,
   "metadata": {},
   "outputs": [
    {
     "data": {
      "text/html": [
       "<div>\n",
       "<style scoped>\n",
       "    .dataframe tbody tr th:only-of-type {\n",
       "        vertical-align: middle;\n",
       "    }\n",
       "\n",
       "    .dataframe tbody tr th {\n",
       "        vertical-align: top;\n",
       "    }\n",
       "\n",
       "    .dataframe thead th {\n",
       "        text-align: right;\n",
       "    }\n",
       "</style>\n",
       "<table border=\"1\" class=\"dataframe\">\n",
       "  <thead>\n",
       "    <tr style=\"text-align: right;\">\n",
       "      <th></th>\n",
       "      <th>position</th>\n",
       "      <th>description</th>\n",
       "    </tr>\n",
       "  </thead>\n",
       "  <tbody>\n",
       "    <tr>\n",
       "      <th>5</th>\n",
       "      <td>Manager of Data Engineering</td>\n",
       "      <td>Qualifications\\nBachelor’s degree in Computer ...</td>\n",
       "    </tr>\n",
       "    <tr>\n",
       "      <th>7</th>\n",
       "      <td>Junior to Mid-level Engineer, Geologist or Env...</td>\n",
       "      <td>Overview / Responsibilities\\nWood Environment ...</td>\n",
       "    </tr>\n",
       "    <tr>\n",
       "      <th>16</th>\n",
       "      <td>Senior Structural Engineer-Transmission &amp; Dist...</td>\n",
       "      <td>Description\\nExecutes complex assignments requ...</td>\n",
       "    </tr>\n",
       "    <tr>\n",
       "      <th>17</th>\n",
       "      <td>Senior Mobile Developer (iOS/Android)</td>\n",
       "      <td>Overview\\n\\n\\n\\nAt Perficient you’ll deliver m...</td>\n",
       "    </tr>\n",
       "    <tr>\n",
       "      <th>20</th>\n",
       "      <td>Senior Electrical Engineer</td>\n",
       "      <td>Description\\nBurns &amp;amp; McDonnell is consider...</td>\n",
       "    </tr>\n",
       "  </tbody>\n",
       "</table>\n",
       "</div>"
      ],
      "text/plain": [
       "                                             position  \\\n",
       "5                         Manager of Data Engineering   \n",
       "7   Junior to Mid-level Engineer, Geologist or Env...   \n",
       "16  Senior Structural Engineer-Transmission & Dist...   \n",
       "17              Senior Mobile Developer (iOS/Android)   \n",
       "20                         Senior Electrical Engineer   \n",
       "\n",
       "                                          description  \n",
       "5   Qualifications\\nBachelor’s degree in Computer ...  \n",
       "7   Overview / Responsibilities\\nWood Environment ...  \n",
       "16  Description\\nExecutes complex assignments requ...  \n",
       "17  Overview\\n\\n\\n\\nAt Perficient you’ll deliver m...  \n",
       "20  Description\\nBurns &amp; McDonnell is consider...  "
      ]
     },
     "execution_count": 33,
     "metadata": {},
     "output_type": "execute_result"
    }
   ],
   "source": [
    "#Select Machine learning postings from the listings\n",
    "\n",
    "engineer = alldata[alldata['position'].str.contains(\"Engineer|engineer|Programmer|programmer|Developer|developer\")] \n",
    "\n",
    "#View the slice\n",
    "\n",
    "engineer.head()"
   ]
  },
  {
   "cell_type": "code",
   "execution_count": 34,
   "metadata": {},
   "outputs": [
    {
     "data": {
      "text/html": [
       "<div>\n",
       "<style scoped>\n",
       "    .dataframe tbody tr th:only-of-type {\n",
       "        vertical-align: middle;\n",
       "    }\n",
       "\n",
       "    .dataframe tbody tr th {\n",
       "        vertical-align: top;\n",
       "    }\n",
       "\n",
       "    .dataframe thead th {\n",
       "        text-align: right;\n",
       "    }\n",
       "</style>\n",
       "<table border=\"1\" class=\"dataframe\">\n",
       "  <thead>\n",
       "    <tr style=\"text-align: right;\">\n",
       "      <th></th>\n",
       "      <th>position</th>\n",
       "      <th>description</th>\n",
       "    </tr>\n",
       "  </thead>\n",
       "  <tbody>\n",
       "    <tr>\n",
       "      <th>5</th>\n",
       "      <td>Manager of Data Engineering</td>\n",
       "      <td>Qualifications\\nBachelor’s degree in Computer ...</td>\n",
       "    </tr>\n",
       "    <tr>\n",
       "      <th>21</th>\n",
       "      <td>Sr. Manager, Full Stack Development, KPMG Tax ...</td>\n",
       "      <td>Kn for being a great place to work and build a...</td>\n",
       "    </tr>\n",
       "    <tr>\n",
       "      <th>42</th>\n",
       "      <td>Manager - Data Scientist ! Orlando!</td>\n",
       "      <td>Manager – Orlando location\\n\\nOverview:\\nThe D...</td>\n",
       "    </tr>\n",
       "    <tr>\n",
       "      <th>50</th>\n",
       "      <td>Manager - Cognitive Data Scientist Natural Lan...</td>\n",
       "      <td>Kn for being a great place to work and build a...</td>\n",
       "    </tr>\n",
       "    <tr>\n",
       "      <th>62</th>\n",
       "      <td>Manager, Data Scientist</td>\n",
       "      <td>Innovate. Collaborate. Shine. Lighthouse — KPM...</td>\n",
       "    </tr>\n",
       "  </tbody>\n",
       "</table>\n",
       "</div>"
      ],
      "text/plain": [
       "                                             position  \\\n",
       "5                         Manager of Data Engineering   \n",
       "21  Sr. Manager, Full Stack Development, KPMG Tax ...   \n",
       "42                Manager - Data Scientist ! Orlando!   \n",
       "50  Manager - Cognitive Data Scientist Natural Lan...   \n",
       "62                            Manager, Data Scientist   \n",
       "\n",
       "                                          description  \n",
       "5   Qualifications\\nBachelor’s degree in Computer ...  \n",
       "21  Kn for being a great place to work and build a...  \n",
       "42  Manager – Orlando location\\n\\nOverview:\\nThe D...  \n",
       "50  Kn for being a great place to work and build a...  \n",
       "62  Innovate. Collaborate. Shine. Lighthouse — KPM...  "
      ]
     },
     "execution_count": 34,
     "metadata": {},
     "output_type": "execute_result"
    }
   ],
   "source": [
    "#Select Big Data postings from the listings\n",
    "\n",
    "manager = alldata[alldata['position'].str.contains(\"Manager|manager\")] \n",
    "\n",
    "#View the slice\n",
    "\n",
    "manager.head()"
   ]
  },
  {
   "cell_type": "code",
   "execution_count": null,
   "metadata": {},
   "outputs": [],
   "source": [
    "# Install the wordcloud library\n",
    "\n",
    "pip install wordcloud"
   ]
  },
  {
   "cell_type": "code",
   "execution_count": null,
   "metadata": {},
   "outputs": [],
   "source": [
    "# Code for wordcloud\n",
    "\n",
    "#import the wordcloud package\n",
    "\n",
    "from wordcloud import WordCloud, STOPWORDS\n",
    "import matplotlib.pyplot as plt"
   ]
  },
  {
   "cell_type": "code",
   "execution_count": null,
   "metadata": {},
   "outputs": [],
   "source": [
    "#Define the word cloud function with a max of 200 words\n",
    "\n",
    "def plot_wordcloud(text, mask=None, max_words=200, max_font_size=100, figure_size=(10,10), \n",
    "                   title = None, title_size=20, image_color=False):\n",
    "    stopwords = set(STOPWORDS)\n",
    "    more_stopwords = {'one', 'br', 'Po', 'th', 're', 'welcome', 'sayi', 'fo', 'Unknown', 'data','experience','work','team','will','skill','year','skills', 'location', 'role', 'overview', 'every', 'applie', 'description', 'name'}          # define additional stop words that are not contained in the dictionary\n",
    "    stopwords = stopwords.union(more_stopwords)\n",
    "    wordcloud = WordCloud(background_color='white',\n",
    "                    stopwords = stopwords,\n",
    "                    max_words = max_words,\n",
    "                    max_font_size = max_font_size, \n",
    "                    random_state = 52,\n",
    "                    width=800, \n",
    "                    height=400,\n",
    "                    mask = mask)\n",
    "    wordcloud.generate(str(text))\n",
    "    #set the plot parameters\n",
    "    plt.figure(figsize=figure_size)\n",
    "    if image_color:\n",
    "        image_colors = ImageColorGenerator(mask);\n",
    "        plt.imshow(wordcloud.recolor(color_func=image_colors), interpolation=\"bilinear\");\n",
    "        plt.title(title, fontdict={'size': title_size,  \n",
    "                                  'verticalalignment': 'bottom'})\n",
    "    else:\n",
    "        plt.imshow(wordcloud);\n",
    "        plt.title(title, fontdict={'size': title_size, 'color': 'black', \n",
    "                                  'verticalalignment': 'bottom'})\n",
    "    plt.axis('off');\n",
    "    plt.tight_layout()  \n",
    "\n"
   ]
  },
  {
   "cell_type": "code",
   "execution_count": null,
   "metadata": {},
   "outputs": [],
   "source": [
    "#ngram function\n",
    "\n",
    "def ngram_extractor(text, n_gram):\n",
    "    token = [token for token in text.lower().split(\" \") if token != \"\" if token not in STOPWORDS]\n",
    "    ngrams = zip(*[token[i:] for i in range(n_gram)])\n",
    "    return [\" \".join(ngram) for ngram in ngrams]"
   ]
  },
  {
   "cell_type": "code",
   "execution_count": null,
   "metadata": {},
   "outputs": [],
   "source": [
    "# Function to generate a dataframe with n_gram and top max_row frequencies\n",
    "\n",
    "def generate_ngrams(df, n_gram, max_row):\n",
    "    temp_dict = defaultdict(int)\n",
    "    for question in df:\n",
    "        for word in ngram_extractor(question, n_gram):\n",
    "            temp_dict[word] += 1\n",
    "    temp_df = pd.DataFrame(sorted(temp_dict.items(), key=lambda x: x[1])[::-1]).head(max_row)\n",
    "    temp_df.columns = [\"word\", \"wordcount\"]\n",
    "    return temp_df"
   ]
  },
  {
   "cell_type": "code",
   "execution_count": null,
   "metadata": {},
   "outputs": [],
   "source": [
    "#Function to construct side by side comparison plots\n",
    "\n",
    "def comparison_plot(df_1,df_2,col_1,col_2, space):\n",
    "    fig, ax = plt.subplots(1, 2, figsize=(20,10))\n",
    "    \n",
    "    sns.barplot(x=col_2, y=col_1, data=df_1, ax=ax[0], color=\"royalblue\")\n",
    "    sns.barplot(x=col_2, y=col_1, data=df_2, ax=ax[1], color=\"royalblue\")\n",
    "\n",
    "    ax[0].set_xlabel('Word count', size=14)\n",
    "    ax[0].set_ylabel('Words', size=14)\n",
    "    ax[0].set_title('Top 20 Bi-grams in Descriptions', size=18)\n",
    "\n",
    "    ax[1].set_xlabel('Word count', size=14)\n",
    "    ax[1].set_ylabel('Words', size=14)\n",
    "    ax[1].set_title('Top 20 Tri-grams in Descriptions', size=18)\n",
    "\n",
    "    fig.subplots_adjust(wspace=space)\n",
    "    \n",
    "    plt.show()\n"
   ]
  },
  {
   "cell_type": "code",
   "execution_count": null,
   "metadata": {},
   "outputs": [],
   "source": [
    "#Select descriptions from Analyst\n",
    "\n",
    "Analyst_desc = Analyst[\"description\"]\n",
    "Analyst_desc.replace('--', np.nan, inplace=True) \n",
    "Analyst_desc_na = Analyst_desc.dropna()\n"
   ]
  },
  {
   "cell_type": "code",
   "execution_count": null,
   "metadata": {},
   "outputs": [],
   "source": [
    "#convert list elements to lower case\n",
    "\n",
    "Analyst_desc_na_cleaned = [item.lower() for item in Analyst_desc_na]"
   ]
  },
  {
   "cell_type": "code",
   "execution_count": null,
   "metadata": {},
   "outputs": [],
   "source": [
    "#remove html links from list \n",
    "\n",
    "Analyst_desc_na_cleaned =  [re.sub(r\"http\\S+\", \"\", item) for item in Analyst_desc_na_cleaned]"
   ]
  },
  {
   "cell_type": "code",
   "execution_count": null,
   "metadata": {},
   "outputs": [],
   "source": [
    "#remove special characters left\n",
    "\n",
    "Analyst_desc_na_cleaned = [re.sub(r\"[-()\\\"#/@;:<>{}`+=~|.!?,]\", \"\", item) for item in Analyst_desc_na_cleaned]"
   ]
  },
  {
   "cell_type": "code",
   "execution_count": null,
   "metadata": {},
   "outputs": [],
   "source": [
    "#convert to dataframe\n",
    "\n",
    "Analyst_desc_na_cleaned = pd.DataFrame(np.array(Analyst_desc_na_cleaned).reshape(-1))"
   ]
  },
  {
   "cell_type": "code",
   "execution_count": null,
   "metadata": {},
   "outputs": [],
   "source": [
    "#Squeeze dataframe to obtain series\n",
    "\n",
    "Analyst_cleaned = Analyst_desc_na_cleaned.squeeze()"
   ]
  },
  {
   "cell_type": "code",
   "execution_count": null,
   "metadata": {},
   "outputs": [],
   "source": [
    "#run the function on the Data Analyst headlines and Remove NA values for clarity of visualisation\n",
    "\n",
    "plot_wordcloud(Analyst_cleaned, title=\"Word Cloud of Data Analyst Descriptions\")"
   ]
  },
  {
   "cell_type": "code",
   "execution_count": null,
   "metadata": {},
   "outputs": [],
   "source": []
  },
  {
   "cell_type": "code",
   "execution_count": null,
   "metadata": {},
   "outputs": [],
   "source": [
    "#Generate unigram for data analyst\n",
    "\n",
    "Analyst_1gram = generate_ngrams(Analyst_cleaned, 1, 20)\n",
    "\n",
    "#generate barplot for unigram\n",
    "\n",
    "plt.figure(figsize=(12,8))\n",
    "sns.barplot(Analyst_1gram[\"wordcount\"],Analyst_1gram[\"word\"])\n",
    "plt.xlabel(\"Word Count\", fontsize=15)\n",
    "plt.ylabel(\"Unigrams\", fontsize=15)\n",
    "plt.title(\"Top 20 Unigrams for Data Analyst Descriptions\")\n",
    "plt.show()"
   ]
  },
  {
   "cell_type": "code",
   "execution_count": null,
   "metadata": {},
   "outputs": [],
   "source": []
  }
 ],
 "metadata": {
  "kernelspec": {
   "display_name": "Python 3",
   "language": "python",
   "name": "python3"
  },
  "language_info": {
   "codemirror_mode": {
    "name": "ipython",
    "version": 3
   },
   "file_extension": ".py",
   "mimetype": "text/x-python",
   "name": "python",
   "nbconvert_exporter": "python",
   "pygments_lexer": "ipython3",
   "version": "3.7.6"
  }
 },
 "nbformat": 4,
 "nbformat_minor": 4
}
