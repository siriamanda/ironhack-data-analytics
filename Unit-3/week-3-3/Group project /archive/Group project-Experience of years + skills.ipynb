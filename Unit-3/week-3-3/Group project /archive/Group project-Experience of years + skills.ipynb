{
 "cells": [
  {
   "cell_type": "code",
   "execution_count": 2,
   "metadata": {},
   "outputs": [],
   "source": [
    "import pandas as pd\n",
    "import numpy as np\n",
    "import re\n",
    "from matplotlib import pyplot as plt\n",
    "import itertools\n",
    "plt.style.use('ggplot')"
   ]
  },
  {
   "cell_type": "code",
   "execution_count": 3,
   "metadata": {},
   "outputs": [],
   "source": [
    "alldata = pd.read_csv('alldata.csv')"
   ]
  },
  {
   "cell_type": "code",
   "execution_count": 4,
   "metadata": {},
   "outputs": [
    {
     "data": {
      "text/html": [
       "<div>\n",
       "<style scoped>\n",
       "    .dataframe tbody tr th:only-of-type {\n",
       "        vertical-align: middle;\n",
       "    }\n",
       "\n",
       "    .dataframe tbody tr th {\n",
       "        vertical-align: top;\n",
       "    }\n",
       "\n",
       "    .dataframe thead th {\n",
       "        text-align: right;\n",
       "    }\n",
       "</style>\n",
       "<table border=\"1\" class=\"dataframe\">\n",
       "  <thead>\n",
       "    <tr style=\"text-align: right;\">\n",
       "      <th></th>\n",
       "      <th>position</th>\n",
       "      <th>company</th>\n",
       "      <th>description</th>\n",
       "      <th>reviews</th>\n",
       "      <th>location</th>\n",
       "    </tr>\n",
       "  </thead>\n",
       "  <tbody>\n",
       "    <tr>\n",
       "      <th>0</th>\n",
       "      <td>Development Director</td>\n",
       "      <td>ALS TDI</td>\n",
       "      <td>Development Director\\nALS Therapy Development ...</td>\n",
       "      <td>NaN</td>\n",
       "      <td>Atlanta, GA 30301</td>\n",
       "    </tr>\n",
       "    <tr>\n",
       "      <th>1</th>\n",
       "      <td>An Ostentatiously-Excitable Principal Research...</td>\n",
       "      <td>The Hexagon Lavish</td>\n",
       "      <td>Job Description\\n\\n\"The road that leads to acc...</td>\n",
       "      <td>NaN</td>\n",
       "      <td>Atlanta, GA</td>\n",
       "    </tr>\n",
       "    <tr>\n",
       "      <th>2</th>\n",
       "      <td>Data Scientist</td>\n",
       "      <td>Xpert Staffing</td>\n",
       "      <td>Growing company located in the Atlanta, GA are...</td>\n",
       "      <td>NaN</td>\n",
       "      <td>Atlanta, GA</td>\n",
       "    </tr>\n",
       "    <tr>\n",
       "      <th>3</th>\n",
       "      <td>Data Analyst</td>\n",
       "      <td>Operation HOPE</td>\n",
       "      <td>DEPARTMENT: Program OperationsPOSITION LOCATIO...</td>\n",
       "      <td>44.0</td>\n",
       "      <td>Atlanta, GA 30303</td>\n",
       "    </tr>\n",
       "    <tr>\n",
       "      <th>4</th>\n",
       "      <td>Assistant Professor -TT - Signal Processing &amp; ...</td>\n",
       "      <td>Emory University</td>\n",
       "      <td>DESCRIPTION\\nThe Emory University Department o...</td>\n",
       "      <td>550.0</td>\n",
       "      <td>Atlanta, GA</td>\n",
       "    </tr>\n",
       "    <tr>\n",
       "      <th>5</th>\n",
       "      <td>Manager of Data Engineering</td>\n",
       "      <td>McKinsey &amp; Company</td>\n",
       "      <td>Qualifications\\nBachelor’s degree in Computer ...</td>\n",
       "      <td>385.0</td>\n",
       "      <td>Atlanta, GA 30318</td>\n",
       "    </tr>\n",
       "    <tr>\n",
       "      <th>6</th>\n",
       "      <td>Product Specialist - Periscope, New Ventures</td>\n",
       "      <td>McKinsey &amp; Company</td>\n",
       "      <td>Qualifications\\nBachelor’s degree\\n5-7 years o...</td>\n",
       "      <td>385.0</td>\n",
       "      <td>Atlanta, GA 30318</td>\n",
       "    </tr>\n",
       "    <tr>\n",
       "      <th>7</th>\n",
       "      <td>Junior to Mid-level Engineer, Geologist or Env...</td>\n",
       "      <td>Wood</td>\n",
       "      <td>Overview / Responsibilities\\nWood Environment ...</td>\n",
       "      <td>899.0</td>\n",
       "      <td>Atlanta, GA</td>\n",
       "    </tr>\n",
       "    <tr>\n",
       "      <th>8</th>\n",
       "      <td>Analyst - CIB Credit Research</td>\n",
       "      <td>SunTrust</td>\n",
       "      <td>Works closely with senior CIB professionals. P...</td>\n",
       "      <td>3343.0</td>\n",
       "      <td>Atlanta, GA</td>\n",
       "    </tr>\n",
       "    <tr>\n",
       "      <th>9</th>\n",
       "      <td>Senior Associate - Cognitive Data Scientist Na...</td>\n",
       "      <td>KPMG</td>\n",
       "      <td>Known for being a great place to work and buil...</td>\n",
       "      <td>4494.0</td>\n",
       "      <td>Atlanta, GA 30338</td>\n",
       "    </tr>\n",
       "  </tbody>\n",
       "</table>\n",
       "</div>"
      ],
      "text/plain": [
       "                                            position             company  \\\n",
       "0                               Development Director             ALS TDI   \n",
       "1  An Ostentatiously-Excitable Principal Research...  The Hexagon Lavish   \n",
       "2                                     Data Scientist      Xpert Staffing   \n",
       "3                                       Data Analyst      Operation HOPE   \n",
       "4  Assistant Professor -TT - Signal Processing & ...    Emory University   \n",
       "5                        Manager of Data Engineering  McKinsey & Company   \n",
       "6       Product Specialist - Periscope, New Ventures  McKinsey & Company   \n",
       "7  Junior to Mid-level Engineer, Geologist or Env...                Wood   \n",
       "8                      Analyst - CIB Credit Research            SunTrust   \n",
       "9  Senior Associate - Cognitive Data Scientist Na...                KPMG   \n",
       "\n",
       "                                         description  reviews  \\\n",
       "0  Development Director\\nALS Therapy Development ...      NaN   \n",
       "1  Job Description\\n\\n\"The road that leads to acc...      NaN   \n",
       "2  Growing company located in the Atlanta, GA are...      NaN   \n",
       "3  DEPARTMENT: Program OperationsPOSITION LOCATIO...     44.0   \n",
       "4  DESCRIPTION\\nThe Emory University Department o...    550.0   \n",
       "5  Qualifications\\nBachelor’s degree in Computer ...    385.0   \n",
       "6  Qualifications\\nBachelor’s degree\\n5-7 years o...    385.0   \n",
       "7  Overview / Responsibilities\\nWood Environment ...    899.0   \n",
       "8  Works closely with senior CIB professionals. P...   3343.0   \n",
       "9  Known for being a great place to work and buil...   4494.0   \n",
       "\n",
       "             location  \n",
       "0  Atlanta, GA 30301   \n",
       "1         Atlanta, GA  \n",
       "2         Atlanta, GA  \n",
       "3  Atlanta, GA 30303   \n",
       "4         Atlanta, GA  \n",
       "5  Atlanta, GA 30318   \n",
       "6  Atlanta, GA 30318   \n",
       "7         Atlanta, GA  \n",
       "8         Atlanta, GA  \n",
       "9   Atlanta, GA 30338  "
      ]
     },
     "execution_count": 4,
     "metadata": {},
     "output_type": "execute_result"
    }
   ],
   "source": [
    "alldata.head(10)"
   ]
  },
  {
   "cell_type": "code",
   "execution_count": 5,
   "metadata": {},
   "outputs": [],
   "source": [
    "# Null values\n",
    "\n",
    "alldata['reviews'] = alldata['reviews'].fillna(0) #replace null values with 0.\n",
    "alldata = alldata.dropna(axis=0, how = 'any') #remove rows with all null values\n"
   ]
  },
  {
   "cell_type": "code",
   "execution_count": 6,
   "metadata": {},
   "outputs": [
    {
     "data": {
      "text/plain": [
       "0"
      ]
     },
     "execution_count": 6,
     "metadata": {},
     "output_type": "execute_result"
    }
   ],
   "source": [
    "sum(alldata.isnull().any(axis=1)) # check if the removal of null's is successful"
   ]
  },
  {
   "cell_type": "code",
   "execution_count": 7,
   "metadata": {},
   "outputs": [
    {
     "data": {
      "text/html": [
       "<div>\n",
       "<style scoped>\n",
       "    .dataframe tbody tr th:only-of-type {\n",
       "        vertical-align: middle;\n",
       "    }\n",
       "\n",
       "    .dataframe tbody tr th {\n",
       "        vertical-align: top;\n",
       "    }\n",
       "\n",
       "    .dataframe thead th {\n",
       "        text-align: right;\n",
       "    }\n",
       "</style>\n",
       "<table border=\"1\" class=\"dataframe\">\n",
       "  <thead>\n",
       "    <tr style=\"text-align: right;\">\n",
       "      <th></th>\n",
       "      <th>reviews</th>\n",
       "    </tr>\n",
       "  </thead>\n",
       "  <tbody>\n",
       "    <tr>\n",
       "      <th>count</th>\n",
       "      <td>6953.000000</td>\n",
       "    </tr>\n",
       "    <tr>\n",
       "      <th>mean</th>\n",
       "      <td>2435.183230</td>\n",
       "    </tr>\n",
       "    <tr>\n",
       "      <th>std</th>\n",
       "      <td>7515.618364</td>\n",
       "    </tr>\n",
       "    <tr>\n",
       "      <th>min</th>\n",
       "      <td>0.000000</td>\n",
       "    </tr>\n",
       "    <tr>\n",
       "      <th>25%</th>\n",
       "      <td>2.000000</td>\n",
       "    </tr>\n",
       "    <tr>\n",
       "      <th>50%</th>\n",
       "      <td>82.000000</td>\n",
       "    </tr>\n",
       "    <tr>\n",
       "      <th>75%</th>\n",
       "      <td>705.000000</td>\n",
       "    </tr>\n",
       "    <tr>\n",
       "      <th>max</th>\n",
       "      <td>148114.000000</td>\n",
       "    </tr>\n",
       "  </tbody>\n",
       "</table>\n",
       "</div>"
      ],
      "text/plain": [
       "             reviews\n",
       "count    6953.000000\n",
       "mean     2435.183230\n",
       "std      7515.618364\n",
       "min         0.000000\n",
       "25%         2.000000\n",
       "50%        82.000000\n",
       "75%       705.000000\n",
       "max    148114.000000"
      ]
     },
     "execution_count": 7,
     "metadata": {},
     "output_type": "execute_result"
    }
   ],
   "source": [
    "alldata.describe()"
   ]
  },
  {
   "cell_type": "code",
   "execution_count": 8,
   "metadata": {},
   "outputs": [
    {
     "data": {
      "text/plain": [
       "position        object\n",
       "company         object\n",
       "description     object\n",
       "reviews        float64\n",
       "location        object\n",
       "dtype: object"
      ]
     },
     "execution_count": 8,
     "metadata": {},
     "output_type": "execute_result"
    }
   ],
   "source": [
    "alldata.dtypes"
   ]
  },
  {
   "cell_type": "code",
   "execution_count": 9,
   "metadata": {},
   "outputs": [
    {
     "data": {
      "text/plain": [
       "count               6953\n",
       "unique              5242\n",
       "top       Data Scientist\n",
       "freq                 351\n",
       "Name: position, dtype: object"
      ]
     },
     "execution_count": 9,
     "metadata": {},
     "output_type": "execute_result"
    }
   ],
   "source": [
    "alldata['position'].describe()"
   ]
  },
  {
   "cell_type": "code",
   "execution_count": 10,
   "metadata": {},
   "outputs": [
    {
     "data": {
      "text/plain": [
       "count                                                  6953\n",
       "unique                                                 6708\n",
       "top       Note: By applying to this position your applic...\n",
       "freq                                                      9\n",
       "Name: description, dtype: object"
      ]
     },
     "execution_count": 10,
     "metadata": {},
     "output_type": "execute_result"
    }
   ],
   "source": [
    "alldata['description'].describe()"
   ]
  },
  {
   "cell_type": "code",
   "execution_count": 11,
   "metadata": {},
   "outputs": [
    {
     "data": {
      "text/plain": [
       "Data Scientist                                        351\n",
       "Senior Data Scientist                                  96\n",
       "Research Analyst                                       64\n",
       "Data Engineer                                          60\n",
       "Machine Learning Engineer                              56\n",
       "                                                     ... \n",
       "Stem Cell Scientist                                     1\n",
       "Molecular Research and Development Scientist            1\n",
       "Technical Program Manager, AR Platform                  1\n",
       "Systems Assurance Reliability Engineer II (661099)      1\n",
       "MTC Technical Architect - Data & AI                     1\n",
       "Name: position, Length: 5242, dtype: int64"
      ]
     },
     "execution_count": 11,
     "metadata": {},
     "output_type": "execute_result"
    }
   ],
   "source": [
    "alldata['position'].value_counts()"
   ]
  },
  {
   "cell_type": "code",
   "execution_count": 12,
   "metadata": {},
   "outputs": [
    {
     "data": {
      "text/plain": [
       "Amazon.com                                      358\n",
       "Ball Aerospace                                  187\n",
       "Microsoft                                       137\n",
       "Google                                          134\n",
       "NYU Langone Health                               77\n",
       "                                               ... \n",
       "Centene Corporation                               1\n",
       "Le CultureClub                                    1\n",
       "LearnVest                                         1\n",
       "Level Education from Northeastern University      1\n",
       "GeoVax, Inc.                                      1\n",
       "Name: company, Length: 2213, dtype: int64"
      ]
     },
     "execution_count": 12,
     "metadata": {},
     "output_type": "execute_result"
    }
   ],
   "source": [
    "alldata['company'].value_counts()"
   ]
  },
  {
   "cell_type": "code",
   "execution_count": 13,
   "metadata": {},
   "outputs": [
    {
     "data": {
      "text/plain": [
       "array([\"Development Director\\nALS Therapy Development Institute has an immediate opening for Development Directors. Reporting directly to the Senior Development Director, the Development Director at ALS TDI is a senior fundraising position working to identifying potential prospects and cultivating solicitation strategies and in closing asks with donors including individuals and corporations by building networks via events, generating awareness of ALS TDI; outreach including attending and speaking at events as well as personally cultivates relationships with patients, prospects and donors. This position will be responsible for generating and managing a portfolio of at least two million to five million dollars per year. This position will be located in Atlanta, GA.\\n\\nRequirements:\\nBachelor's Degree requiredMinimum 6-8 years' experience in fundraising and business developmentSuccessful track recording in fundraising with major donors or scientific sales preferredDemonstrated ability to work independently and make progress on several prospects/projects at the same time.Excellent English oral, written and presentation skillsStrong leadership and management skills, as well as the ability to forge strong interpersonal relationshipsAbility to travelExcellent computer skills including use of word processing, spreadsheet, database, presentation and prospect management software operating off a PC-based system including Salesforce.\\nAbout ALS Therapy Development Institute (ALS.net)\\n\\nThe ALS Therapy Development Institute (ALS.net) and its scientists actively discover and develop treatments for ALS. ALS.net is the world's first and largest nonprofit biotech focused 100% on ALS research. Led by ALS patients and their families, the charity understands the urgent need to slow and stop this horrible disease. ALS.net, based in Cambridge, MA, has served as one of the leaders in sharing data and information with academic and ALS research organizations, patients and their families. For more information, visit www.als.net.\\n\\nTo Apply\\nPlease apply at https://als.applicantpro.com. Please include a cover letter, salary requirements and resume. No phone calls please.\\nALS TDI is an equal opportunity employer.\",\n",
       "       'Job Description\\n\\n\"The road that leads to accomplishment is narrow.\" -Desmond\\nOstentatious is a strong adjective that fits the description of an individual that inhibits the natural and innate spirit of vivaciousness, vigor and the eager characteristics that comprise the disposition of one who\\'s willing to learn; to take on the attitude of \"the eternal student\".\\nWith that said, Atlanta, Georgia-based scientific R&amp;D outfit, Hexagon Lavish®, has an open position for an excitable principal research assistant that will be mentored and guided by our Chief Science Officer.\\nThis position includes computational and statistical analysis of sequencing studies, technical and logistical collaboration with international consortia. As well, the Excitable Principal Research Assistant will be responsible for setting the schedule for entry-level scientists whom will also be guided by our Chief Scientist. The Excitable Principal Research Assistant will also be in charge of delegating reports and responsibilities to the Project Leads on behalf of the Chief Science Officer and the Chief Technology Officer.\\nThe Excitable Principal Research Assistant will engage entry-level scientists and researchers, setting-up work schedules for entry-level scientists and researchers and also be heavily-involved in workshops and internal team seminars as well as perform clerical and/or administrative duties such as reports that are directly to be addressed to the Chief Science Officer.\\n*** A solid background in constructive optics algorithms combined with expansive computer vision and image inferential is the most preferable candidacy. *** Qualifications\\n\\nIntegrating data across formats and sources by robust synchronization with existing datasets and databases\\n\\nUnder general direction, developing innovative analytical methods to enable collaborators to interpret and design follow-up research\\n\\nProviding support to internal team members across all interdisciplinary backgrounds\\n\\nLead and contribute to manuscript preparation as well as internal and external project-team reports\\n\\nActively participating in project team and group meetings\\nAdditional Information\\n\\nEssential Job Functions\\nPh.D. in Computer Science, Mathematics, Statistics, Chemistry, or other quantitative discipline required\\n\\n5+ years experience, with varying datasets and experience with Computational Biology/Statistics/Physics, Mathematics, Computer Science, Algorithms/Incorporate Learning, etc.\\n\\nRelevant experience or formal training in laboratorial and/or clinical research\\n\\nMust have demonstrable proficiency with several standard computational languages and also some form of \"esoteric programming\"\\n\\nFamiliarity with image inferential analysis tools\\n\\nFamiliarity with a range of optics algorithm tools\\n\\nThorough understanding of statistics preferred\\n\\nApplication of modeling and software expertise for analysis of complex R&amp;D efforts\\n\\nConduct feasibility studies to provide technical assessment of proposed research\\n\\nPreparation of briefing materials, research announcements, and technical reports\\n\\nTechnical monitoring of R&amp;D efforts for adherence to statement of work (SOW) tasks, program milestones, and deliverables\\n\\nParticipation in program reviews/site visits/field tests and coordination of scientific workshops as required\\n\\nSummarize and communicate the intellectual content of scientific and technological information to both scientific and non-scientific audiences\\n\\nInteract with stakeholders from multiple disciplines including engineering, biology, neuroscience, clinical, regulatory and policy teams\\n\\nDemonstrable mastery of high-performance computing of the low-level, high-performance development skills needed to perform research on distributed, highly scalable architectures conducive to the evolving nature of PIR\\n\\nOther Essential Job Functions\\nSound decision-maker\\n\\nEstablish effectiveness as a mentor\\n\\nBe contributory to the scientific endeavors of the company\\n\\nOther Skills/Abilities\\nExcellent communication skills, both verbally and in written form\\n\\nFluent in English\\n\\nStrong interpersonal skills\\n\\nMust demonstrate a high degree of integrity, trustworthiness, respect for others and the ability to deal appropriately with confidential and sensitive information\\n\\n Must demonstrate an understanding and acceptance of Hexagon Lavish®’s mission, vision and values\\n\\nHexagon Lavish® is an equal opportunity employer',\n",
       "       'Growing company located in the Atlanta, GA area is currently looking to add a Data Scientist to their team. The Data Scientist will analyze business level data to produce actionable insights utilizing analytics tools and languages, etc. R, Python and/or C++: The Data Scientist will serve as the organization’s leader, helping to grow their data science initiative from a green state. The Data Scientist will also be responsible for advancement of analytical projects from inception to delivery and beyond.\\nRESPONSIBLITIES;\\n 1. Leverage Big Data to discover patterns and solve strategic and tactical business problems using massive structured and unstructured data sets across multiple environments\\n 2. Develop analytical capabilities (modeling and processes) that drive better outcomes for both customers and the company\\n 3. Drive the collection, cleansing, processing and analysis of new and existing data sources.\\n 4. Research industry topics impacting opportunities relevant for data analysis projects\\n 5. Execute complex analyses to aid in reporting and interpretation of analytical findings to build a comprehensive solution.\\n 6. Demonstrates good judgment and analytical skills to conduct option analysis and present recommendations\\n 7. Support and resolve issues related to analyses or deliverable in production\\n 8. Works with internal and external clients to understand, clarify, and analyze requirements to understand the business, and potential, impactful solutions\\n 9. Mapping of processes to understand opportunities for advanced analytics and product enhancement\\n\\n\\nRequirements:\\n5. 1. BA/BS Degree in Business Analysis, Computer Science, Economics, Data Science. Masters degree preferred\\n 2. 5+ years of Predictive Analytics, Statistical Modeling, Machine Learning a plus\\n 3. Expect level understanding of analytics tools and language (R, Python, or C++ etc.)\\n 4. Experienced in Business Analysis, requirement definition\\n 5. Proven and recent experience working with Sales, Marketing, Supply Chain, and/or Manufacturing Data\\n 6. Able to navigate and access structured and unstructured data environments (i.e. Hadoop, Oracle, SQL etc)\\n 7. Experience utilizing internal and external data sources to identify otherwise hidden industry trends to impact product development\\n 8. Exposure to visualization tools, Tableau/QlikSense\\n 9. Must be solution-oriented and focused on innovation.\\n 10. Familiar with scripting language: e.g. Perl, Python or a programming language: e.g. Java\\n \\n\\nTo express interest in this position, please Email Resume in MS-Word or .pdf format and attach cover letter with Salary requirements and contact information. Please be sure to reference Job #2093.\\n NO SPONSORSHIP AVAILABLE!\\n\\n\\nLocation: Atlanta, GA\\n\\nType: Permanent\\n\\nSalary: $$,$$$ / DOE',\n",
       "       ...,\n",
       "       \"Oath, a subsidiary of Verizon, is a values-led company committed to building brands people love. We reach over one billion people around the world with a dynamic house of 50+ media and technology brands. A global leader in digital and mobile, Oath is shaping the future of media.\\n\\n\\nA little about Oath\\nOath, a subsidiary of Verizon, is a values-led company committed to building brands people love. We reach over one billion people around the world with a dynamic house of 50+ media and technology brands. A global leader in digital and mobile, Oath is shaping the future of media.\\n\\nOur mission\\nBuild brands consumers love\\nBuild platforms customers love\\nBuild a company talent loves\\n\\nA Little About Us\\nOur engineering teams are focused on delivering the best products across Search, Mail, Mobile, Homepage, Sports, Daily Fantasy and Finance just to name a few, and we have fun while we do it. Our team structure encourages trust, learning from one another, having fun, and attracting people who are passionate about what they do.\\n\\nThe advertising science team at Yahoo Research is looking for summer interns with great machine learning skills to help in solving the next generation of problems in advertising and understanding user behavior. You'll be working with some of the world's most recognizable brands (like Yahoo.com, Yahoo News, Tumblr, Yahoo Mail) and with humongous amounts of data. The candidates should be in a PhD program (preferably second year and above); prior experience in deep learning models, reinforcement learning, and sequence prediction, especially at scale, is a big plus. We also encourage publishing at top tier conferences.\\n\\nYour Day\\nDesign, develop, code and test software systems or applications for software enhancements and new products; revise and refine as required\\nParticipate in agile development of project timelines, implementation design specifications, system flow diagrams, documentation, testing and ongoing support of systems\\nRecommend modifications to processes and procedures, and contribute to best practices, architecture, and implementations\\nPromote and solicit ideas within project teams\\n\\nYou Must Have\\nActively pursuing a BS, MS, or PhD in Computer Science or related major, and strong record of academic achievement\\nKnowledge of software engineering processes, tools (e.g.: programming proficiency in a language, preferably Java, C/C++, methods, test development, support, algorithms and data structure\\nFamiliarity with object-oriented programming concepts, large-scale software architecture, networking and distributed systems, and UNIX/Linux environments\\n\\nExperience in one or many of the following is a plus:\\nFront-end language: HTML, CSS, JavaScript, Node.JS, JS Framework (React and Ember)\\nBack-end experience (Grid, Hadoop, etc.)\\nFamiliarity with Perl, PHP, Python, Ruby, LAMP\\nExperience building or maintaining databases (Oracle, mySQL, Hive, etc.)\\nCross-browser, cross-platform coding\\nSecurity\\nLarge-scale, large-user base website development experience\\nData mining, machine learning, AI, statistics, information retrieval, linguistic analysis\\nStrong mathematical background\\nInternship experience at a tech company\\n\\n\\nOath is proud to be an equal opportunity workplace. All qualified applicants will receive consideration for employment without regard to, and will not be discriminated against based on, age, race, gender, color, religion, national origin, sexual orientation, gender identity, veteran status, disability or any other protected category. Oath is dedicated to providing an accessible environment for all candidates during the application process and for employees during their employment. Please let us know if you need a reasonable accommodation to apply for a job or participate in the application process.\\n\\n\\nCurrently work for Oath? Please apply on our internal career site.\",\n",
       "       \"We are the Bing Core Relevance team responsible for retrieving and ranking organic results for given search queries from hundreds of billions of indexed web documents. On top of that, we are also aggressively evolving Bing search engine from key word search centric system to a set of more general intelligence (AGI) capabilities that can help solve broader intent fulfillment, knowledge retrieval and task completion problems.\\n\\nWe are hiring extremely talented, highly motivated and productive developers with expertise in information retrieval, AI, machine learning, natural language processing, data mining and large scale distributed computation.\\n\\nBing core relevance team have offices in multiple worldwide locations, including Bellevue Washington, Silicon Valley, Germany, China and India, also closely collaborate with Microsoft Research on many joint innovations.\\nResponsibilities\\nOur core drivers are large scale machine learning, including DNN and RNN based technologies, along with analyzing, inferring and experimenting with truly big data. As part of the team, you would be driving relevance projects through their entire life-cycle from idea creation through implementation, experimentation and finally to shipping. We're looking for invidivual who has the following attributes:\\nStrong ability and effectiveness working in a significant technical problem domain, in the term of plan, design, execution, continuous release and service operation\\nStrong software engineering fundamentals, including coding, problem solving and data analysis skills\\nPassionate and self-motivated\\nAbility to effectively work in collaborative multiple project team environment and ship production features in a fast-paced startup environment\\nGood communication skills, both verbal and written\\nCustomer/end result/Metrics driven in design and development\\nStrong ability in self-learning, entering new domain, managing through uncertainty in an innovative team environment.\\nQualifications\\nMS/Ph.D. in CS/EE or related areas is required\\n3+ years’ experience with machine learning and information retrieval technologies\\n4+ years’ software design and development experience with C++/C#/Java, or similar programing languages in commercial software services\\nExperience in areas such as massive database applications, parallel or distributed processing, high performance computing, large scale data mining are desired.\\nExperience with Hadoop, Dryad, or similar distributed systems.\\nExperiences in the areas of online services such as search, online advertisement, recommendation systems, are strong pluses.\\n\\nMicrosoft is an equal opportunity employer. All qualified applicants will receive consideration for employment without regard to age, ancestry, color, family or medical care leave, gender identity or expression, genetic information, marital status, medical condition, national origin, physical or mental disability, political affiliation, protected veteran status, race, religion, sex (including pregnancy), sexual orientation, or any other characteristic protected by applicable laws, regulations and ordinances. We also consider qualified applicants regardless of criminal histories, consistent with legal requirements. If you need assistance and/or a reasonable accommodation due to a disability during the application or the recruiting process, please send a request via the Accommodation request form.\\n\\nBenefits/perks listed below may vary depending on the nature of your employment with Microsoft and the country where you work.\",\n",
       "       \"Comcast’s Technology &amp; Product organization works at the intersection of media and technology. Our innovative teams are continually developing and delivering products that transform the customer experience. From creating apps like TVGo to new features such as the Talking Guide on the X1 platform, we work every day to make a positive impact through innovation in the pursuit of building amazing products that are enjoyable, easy to use and accessible across all platforms. The team also develops and supports our evolving network architecture, including next-generation consumer systems and technologies, infrastructure and engineering, network integration and management tools, and technical standards.\\nAt Comcast Innovation Labs, you'll experience the benefits of working in a dynamic, entrepreneurial environment, while leveraging the resources of one of the world's leading media and internet companies. We provide a highly customer-centric, team-oriented environment in our offices located in Sunnyvale, CaliforniaTo succeed in this role you should be part Research Scientist, Futurist, Maker, and Entrepreneur. You should have a passion for technology and a desire to help shape the futureYou are going to love this job because you will:\\n\\nBe immersed in a team of innovative and high caliber computer scientists, engineers and machine intelligence experts in a collegial and fun environment.\\nWork on solving unique and hard problems with data science, machine learning and Artificial Intelligence that are of value in the real world.\\nCreate world-class products, solutions and cutting edge concepts.\\nBuild on Comcast's tools, platforms and vast technical resources.\\nWork in a highly visible, dynamic team that provides continuous opportunities for learning and growth.\\nHave access to a wide range of data, exciting projects and technologies\\nJoin a company with a strong commitment to our teams maintaining a healthy work life balance and providing a top tier benefits program\\nResearch, analyses, architect and develop emerging concepts related to AI/ML and HMI\\nEngage and partner with top tier universities, companies, research labs and start-ups across the technology landscape to explore new concepts and theories\\nDevelop research paper, following technology trends and report key finding / insights to the company\\n\\nAs a Principal Data Scientist in Comcast Labs you will:\\n\\nDesign and develop, and analyze data, systems, methods, tools and technologies\\nApply machine learning, deep learning, and NLP methods to massive data sets and complex systems.\\nBe a respected SME acting as an internal technology consultant to the Senior leadership of Comcast.\\nDesign, implement, and deploy full-stack solutions for millions of Comcast customers.\\nInvestigate and solve exciting and difficult challenges in data science, machine learning, classification, content analysis, and deep learning.\\nResearch and develop innovative, scalable and dynamic solutions to hard problems.\\nReview analyze and report on technologies, methods, research and trends\\nBe a valued contributor in shaping the future of our products and services.\\nCollaborate witha cross functional agile team of software engineers, data engineers, ML experts, and others to address challenges head on.\\nHelp to drive thought, strategy and process across out Technology, Products and Experiences.\\nBring your experience designing, developing and implementing data pipelines, systems and solutions at scale.\\nCare aboutagile software processes, data-driven development, reliability, responsible experimentation, deep technical / scientific research.\\n\\nSkills &amp; Qualifications:\\n\\nA Bachelor's or Master Degree in Computer Science or related field, with a focus on data science / machine learning is preferred.\\nA minimum of 5 years of hands on experience in data science or machine learning\\n3+ years' experience in data engineering, analytics and /or business intelligence\\nAt least 3 years of experience in C++, C# or Java\\nAt least 2 years of current experience in Deep Learning.\\nHands-on experience with deep learning and neural networks\\nHighly proficient in Python and SQL\\nProficient in Tensor Flow, Keras, Theano\\nExperience with Jupyter notebooks and docker containers\\nStrong mathematics, statistics, and data analytics abilities\\nHave solid understanding of both relational and NoSQL database technologies. Skilled working with stream &amp; batch data, extremely large data sets\\nExperience developing and presenting highly technical concepts to executives\\n\\nPreferred Qualifications:\\n\\nExperience leading small technical teams (2-5 people) and project management\\nTrack record of successful projects in data engineering, and machine learning product\\nExperience with advanced data analytics and visualization techniques.\\nExperience with advanced machine learning techniques, complex data pipelines, ingest and configurations systems.\\nExperience developing for and leveraging distributed computing or GPU systems / frameworks\\nExperience developing / implementing predictive solutions and anomaly detection in large scale systems.\\nPrior experience in a research or labs environments, exploring and evaluating new technologies or products, publishing research, creating white papers etc.\\nExperience in complex networks, big data, mobile, media and /or wireless environments\\nExperience with data processing and storage frameworks like Hadoop, Scala, Spark, Storm, Cassandra, Kafka, etc.\\nExcellent communication skills, solid work ethic, and a strong desire to write production-quality code.\\n\\nComcast is an EOE/Veterans/Disabled/LGBT employer\"],\n",
       "      dtype=object)"
      ]
     },
     "execution_count": 13,
     "metadata": {},
     "output_type": "execute_result"
    }
   ],
   "source": [
    "# From https://www.kaggle.com/ryanvu/data-science-job-market-eda-and-text-analysis\n",
    "\n",
    "text = alldata.description.values\n",
    "\n",
    "text"
   ]
  },
  {
   "cell_type": "code",
   "execution_count": 16,
   "metadata": {},
   "outputs": [
    {
     "name": "stdout",
     "output_type": "stream",
     "text": [
      "8 year\n",
      "Bachelor's Degree requiredMinimum 6-8 years' experience in fundraising and business developmentSuccessful track recording in fundraising with major donors or scientific sales preferredDemonstrated ability to work independently and make progress on several prospects/projects at the same time.Excellent English oral, written and presentation skillsStrong leadership and management skills, as well as the ability to forge strong interpersonal relationshipsAbility to travelExcellent computer skills including use of word processing, spreadsheet, database, presentation and prospect management software operating off a PC-based system including Salesforce.\n",
      "********************\n",
      "5+ year\n",
      "5+ years experience, with varying datasets and experience with Computational Biology/Statistics/Physics, Mathematics, Computer Science, Algorithms/Incorporate Learning, etc.\n",
      "********************\n",
      "10+ year\n",
      "10+ years of experience in Data Architecture in a professional services environment is highly preferred\n",
      "********************\n",
      "7 year\n",
      "5-7 years of experience in hands-on software design and deployment in either a professional services or in-house systems administration role\n",
      "********************\n",
      "1 year\n",
      " 1 year of related work experience since graduation from an undergraduate program\n",
      "********************\n"
     ]
    }
   ],
   "source": [
    "# Print out the first 5 examples of matches\n",
    "\n",
    "limit = 0\n",
    "for t in text:\n",
    "    for sentance in t.split('\\n'):\n",
    "        if 'experience' in sentance:\n",
    "            year = re.findall(\"\\d{1,2}\\+? year\", sentance)\n",
    "            if len(year)==1:\n",
    "                print(year[0])\n",
    "                print(sentance)\n",
    "                print(\"*\"*20)\n",
    "                limit +=1\n",
    "    if limit >= 5:\n",
    "        break"
   ]
  },
  {
   "cell_type": "code",
   "execution_count": 17,
   "metadata": {},
   "outputs": [],
   "source": [
    "# Compile the year value found into a list\n",
    "\n",
    "experience_req = []\n",
    "for t in text:\n",
    "    for sentance in t.split('\\n'):\n",
    "        if 'experience' in sentance:\n",
    "            year = re.findall(\"\\d{1,2}\\+? year\", sentance)\n",
    "            if len(year)==1:\n",
    "                num = year[0].split(' ')\n",
    "                experience_req.append(num[0])"
   ]
  },
  {
   "cell_type": "code",
   "execution_count": 19,
   "metadata": {},
   "outputs": [],
   "source": [
    "# Remove the '+' sign after year value\n",
    "\n",
    "for n,i in enumerate(experience_req):\n",
    "    if \"+\" in i:\n",
    "        experience_req[n] = re.sub(r'\\+','',i)\n",
    "experience_req = [int(item) for item in experience_req]"
   ]
  },
  {
   "cell_type": "code",
   "execution_count": 21,
   "metadata": {},
   "outputs": [],
   "source": [
    "# Remove outliers\n",
    "\n",
    "for n,i in enumerate(experience_req):\n",
    "    if i >= 20:\n",
    "        experience_req.pop(n)"
   ]
  },
  {
   "cell_type": "code",
   "execution_count": 22,
   "metadata": {},
   "outputs": [
    {
     "data": {
      "image/png": "[encoded data removed]",
      "text/plain": [
       "<Figure size 720x360 with 1 Axes>"
      ]
     },
     "metadata": {},
     "output_type": "display_data"
    },
    {
     "name": "stdout",
     "output_type": "stream",
     "text": [
      "The average year of experience required is 4.66 years\n"
     ]
    }
   ],
   "source": [
    "plt.figure(figsize = (10,5))\n",
    "plt.hist(experience_req,bins = list(range(0,21,2)), align = 'left')\n",
    "plt.title('Experience Required Distribution', size = 15)\n",
    "plt.ylabel('Bin Count')\n",
    "plt.xlabel('Year of Expereience', size = 12)\n",
    "plt.show()\n",
    "print(f'The average year of experience required is {round(np.mean(experience_req),2)} years')"
   ]
  },
  {
   "cell_type": "code",
   "execution_count": 23,
   "metadata": {},
   "outputs": [],
   "source": [
    "# Technical skills requirement\n",
    "\n",
    "# Create a regex search function\n",
    "\n",
    "def count_text(patt,text):\n",
    "    pattern = re.compile(patt)\n",
    "    count = 0\n",
    "    for t in text:\n",
    "        if pattern.search(t):\n",
    "            count+=1\n",
    "    return count"
   ]
  },
  {
   "cell_type": "code",
   "execution_count": 26,
   "metadata": {},
   "outputs": [],
   "source": [
    "# Create a data frame with skills name and regex pattern to search with\n",
    "\n",
    "skills = ['R','Python','Hadoop','SQL','Tableau','TensorFlow','Agile','Power BI','SSaS','Algorithm','Java','Visualization']\n",
    "\n",
    "skill_patt = ['\\WR\\W+\\s*','(?i)\\WPython\\W','(?i)\\WHadoop\\W?','(?i)SQL\\w*','(?i)\\WTableau\\W?',\n",
    "              \"(?i)\\WTensorFlow\\W?\",\"(?i)\\WAgile\\W?\",\"(?i)\\WPower\\s?BI\\W?\",\n",
    "             \"(?i)\\WSSAS\\W?\",\"(?i)\\WAlgorithms?\\W?\",'(?i)Java\\w*','(?i)\\WVisualization\\W?']\n",
    "\n",
    "skill_df =pd.DataFrame(\n",
    "    {\"skill\": skills,\n",
    "     \"regex_pattern\":skill_patt})"
   ]
  },
  {
   "cell_type": "code",
   "execution_count": 27,
   "metadata": {},
   "outputs": [
    {
     "data": {
      "text/html": [
       "<div>\n",
       "<style scoped>\n",
       "    .dataframe tbody tr th:only-of-type {\n",
       "        vertical-align: middle;\n",
       "    }\n",
       "\n",
       "    .dataframe tbody tr th {\n",
       "        vertical-align: top;\n",
       "    }\n",
       "\n",
       "    .dataframe thead th {\n",
       "        text-align: right;\n",
       "    }\n",
       "</style>\n",
       "<table border=\"1\" class=\"dataframe\">\n",
       "  <thead>\n",
       "    <tr style=\"text-align: right;\">\n",
       "      <th></th>\n",
       "      <th>skill</th>\n",
       "      <th>regex_pattern</th>\n",
       "      <th>count</th>\n",
       "      <th>ptg</th>\n",
       "    </tr>\n",
       "  </thead>\n",
       "  <tbody>\n",
       "    <tr>\n",
       "      <th>0</th>\n",
       "      <td>R</td>\n",
       "      <td>\\WR\\W+\\s*</td>\n",
       "      <td>2187</td>\n",
       "      <td>0.31</td>\n",
       "    </tr>\n",
       "    <tr>\n",
       "      <th>1</th>\n",
       "      <td>Python</td>\n",
       "      <td>(?i)\\WPython\\W</td>\n",
       "      <td>2822</td>\n",
       "      <td>0.41</td>\n",
       "    </tr>\n",
       "    <tr>\n",
       "      <th>2</th>\n",
       "      <td>Hadoop</td>\n",
       "      <td>(?i)\\WHadoop\\W?</td>\n",
       "      <td>923</td>\n",
       "      <td>0.13</td>\n",
       "    </tr>\n",
       "    <tr>\n",
       "      <th>3</th>\n",
       "      <td>SQL</td>\n",
       "      <td>(?i)SQL\\w*</td>\n",
       "      <td>1924</td>\n",
       "      <td>0.28</td>\n",
       "    </tr>\n",
       "    <tr>\n",
       "      <th>4</th>\n",
       "      <td>Tableau</td>\n",
       "      <td>(?i)\\WTableau\\W?</td>\n",
       "      <td>492</td>\n",
       "      <td>0.07</td>\n",
       "    </tr>\n",
       "    <tr>\n",
       "      <th>5</th>\n",
       "      <td>TensorFlow</td>\n",
       "      <td>(?i)\\WTensorFlow\\W?</td>\n",
       "      <td>406</td>\n",
       "      <td>0.06</td>\n",
       "    </tr>\n",
       "    <tr>\n",
       "      <th>6</th>\n",
       "      <td>Agile</td>\n",
       "      <td>(?i)\\WAgile\\W?</td>\n",
       "      <td>698</td>\n",
       "      <td>0.10</td>\n",
       "    </tr>\n",
       "    <tr>\n",
       "      <th>7</th>\n",
       "      <td>Power BI</td>\n",
       "      <td>(?i)\\WPower\\s?BI\\W?</td>\n",
       "      <td>66</td>\n",
       "      <td>0.01</td>\n",
       "    </tr>\n",
       "    <tr>\n",
       "      <th>8</th>\n",
       "      <td>SSaS</td>\n",
       "      <td>(?i)\\WSSAS\\W?</td>\n",
       "      <td>9</td>\n",
       "      <td>0.00</td>\n",
       "    </tr>\n",
       "    <tr>\n",
       "      <th>9</th>\n",
       "      <td>Algorithm</td>\n",
       "      <td>(?i)\\WAlgorithms?\\W?</td>\n",
       "      <td>1703</td>\n",
       "      <td>0.24</td>\n",
       "    </tr>\n",
       "    <tr>\n",
       "      <th>10</th>\n",
       "      <td>Java</td>\n",
       "      <td>(?i)Java\\w*</td>\n",
       "      <td>1397</td>\n",
       "      <td>0.20</td>\n",
       "    </tr>\n",
       "    <tr>\n",
       "      <th>11</th>\n",
       "      <td>Visualization</td>\n",
       "      <td>(?i)\\WVisualization\\W?</td>\n",
       "      <td>1015</td>\n",
       "      <td>0.15</td>\n",
       "    </tr>\n",
       "  </tbody>\n",
       "</table>\n",
       "</div>"
      ],
      "text/plain": [
       "            skill           regex_pattern  count   ptg\n",
       "0               R               \\WR\\W+\\s*   2187  0.31\n",
       "1          Python          (?i)\\WPython\\W   2822  0.41\n",
       "2          Hadoop         (?i)\\WHadoop\\W?    923  0.13\n",
       "3             SQL              (?i)SQL\\w*   1924  0.28\n",
       "4         Tableau        (?i)\\WTableau\\W?    492  0.07\n",
       "5      TensorFlow     (?i)\\WTensorFlow\\W?    406  0.06\n",
       "6           Agile          (?i)\\WAgile\\W?    698  0.10\n",
       "7        Power BI     (?i)\\WPower\\s?BI\\W?     66  0.01\n",
       "8            SSaS           (?i)\\WSSAS\\W?      9  0.00\n",
       "9       Algorithm    (?i)\\WAlgorithms?\\W?   1703  0.24\n",
       "10           Java             (?i)Java\\w*   1397  0.20\n",
       "11  Visualization  (?i)\\WVisualization\\W?   1015  0.15"
      ]
     },
     "execution_count": 27,
     "metadata": {},
     "output_type": "execute_result"
    }
   ],
   "source": [
    "# Iterate through the list of skill using the search function created\n",
    "\n",
    "i = []\n",
    "for x in skill_df['regex_pattern']:\n",
    "    i.append(count_text(x,text))\n",
    "skill_df['count'] = i\n",
    "skill_df['ptg'] = round(skill_df['count']/len(text),2)\n",
    "skill_df"
   ]
  },
  {
   "cell_type": "code",
   "execution_count": 28,
   "metadata": {},
   "outputs": [
    {
     "data": {
      "image/png": "[encoded data removed]",
      "text/plain": [
       "<Figure size 720x360 with 1 Axes>"
      ]
     },
     "metadata": {},
     "output_type": "display_data"
    }
   ],
   "source": [
    "x = skill_df.sort_values(by = 'ptg')\n",
    "ax =x['ptg'].plot(kind = \"barh\",figsize = (10,5))\n",
    "ax.set_title('Skills as Percentage of Total Job Description', size = 15)\n",
    "ax.set_yticklabels(x['skill'], size = 12)\n",
    "ax.set_xticklabels(['{:.0%}'.format(x) for x in ax.get_xticks()])\n",
    "plt.show()"
   ]
  },
  {
   "cell_type": "code",
   "execution_count": 47,
   "metadata": {},
   "outputs": [],
   "source": [
    "# Create a data frame with skills name and regex pattern to search with\n",
    "\n",
    "skills = ['Communication','Teamwork','Research', 'Attention for detail', 'Problem solving', 'Independent', 'Presentation']\n",
    "\n",
    "skill_patt = ['(?i)\\WCommunication\\W','(?i)\\WTeamwork\\W','(?i)\\WResearch\\W', '(?i)\\WAttention for detail\\W', '(?i)\\WProblem solving\\W', '(?i)\\WIndependent\\W', '(?i)\\WPresentation\\W']\n",
    "\n",
    "skill_df = pd.DataFrame(\n",
    "    {\"skill\": skills,\n",
    "     \"regex_pattern\": skill_patt})"
   ]
  },
  {
   "cell_type": "code",
   "execution_count": 48,
   "metadata": {},
   "outputs": [
    {
     "data": {
      "text/html": [
       "<div>\n",
       "<style scoped>\n",
       "    .dataframe tbody tr th:only-of-type {\n",
       "        vertical-align: middle;\n",
       "    }\n",
       "\n",
       "    .dataframe tbody tr th {\n",
       "        vertical-align: top;\n",
       "    }\n",
       "\n",
       "    .dataframe thead th {\n",
       "        text-align: right;\n",
       "    }\n",
       "</style>\n",
       "<table border=\"1\" class=\"dataframe\">\n",
       "  <thead>\n",
       "    <tr style=\"text-align: right;\">\n",
       "      <th></th>\n",
       "      <th>skill</th>\n",
       "      <th>regex_pattern</th>\n",
       "      <th>count</th>\n",
       "      <th>ptg</th>\n",
       "    </tr>\n",
       "  </thead>\n",
       "  <tbody>\n",
       "    <tr>\n",
       "      <th>0</th>\n",
       "      <td>Communication</td>\n",
       "      <td>(?i)\\WCommunication\\W</td>\n",
       "      <td>3789</td>\n",
       "      <td>0.54</td>\n",
       "    </tr>\n",
       "    <tr>\n",
       "      <th>1</th>\n",
       "      <td>Teamwork</td>\n",
       "      <td>(?i)\\WTeamwork\\W</td>\n",
       "      <td>272</td>\n",
       "      <td>0.04</td>\n",
       "    </tr>\n",
       "    <tr>\n",
       "      <th>2</th>\n",
       "      <td>Research</td>\n",
       "      <td>(?i)\\WResearch\\W</td>\n",
       "      <td>3998</td>\n",
       "      <td>0.58</td>\n",
       "    </tr>\n",
       "    <tr>\n",
       "      <th>3</th>\n",
       "      <td>Attention for detail</td>\n",
       "      <td>(?i)\\WAttention for detail\\W</td>\n",
       "      <td>1</td>\n",
       "      <td>0.00</td>\n",
       "    </tr>\n",
       "    <tr>\n",
       "      <th>4</th>\n",
       "      <td>Problem solving</td>\n",
       "      <td>(?i)\\WProblem solving\\W</td>\n",
       "      <td>842</td>\n",
       "      <td>0.12</td>\n",
       "    </tr>\n",
       "    <tr>\n",
       "      <th>5</th>\n",
       "      <td>Independent</td>\n",
       "      <td>(?i)\\WIndependent\\W</td>\n",
       "      <td>613</td>\n",
       "      <td>0.09</td>\n",
       "    </tr>\n",
       "    <tr>\n",
       "      <th>6</th>\n",
       "      <td>Presentation</td>\n",
       "      <td>(?i)\\WPresentation\\W</td>\n",
       "      <td>938</td>\n",
       "      <td>0.13</td>\n",
       "    </tr>\n",
       "  </tbody>\n",
       "</table>\n",
       "</div>"
      ],
      "text/plain": [
       "                  skill                 regex_pattern  count   ptg\n",
       "0         Communication         (?i)\\WCommunication\\W   3789  0.54\n",
       "1              Teamwork              (?i)\\WTeamwork\\W    272  0.04\n",
       "2              Research              (?i)\\WResearch\\W   3998  0.58\n",
       "3  Attention for detail  (?i)\\WAttention for detail\\W      1  0.00\n",
       "4       Problem solving       (?i)\\WProblem solving\\W    842  0.12\n",
       "5           Independent           (?i)\\WIndependent\\W    613  0.09\n",
       "6          Presentation          (?i)\\WPresentation\\W    938  0.13"
      ]
     },
     "execution_count": 48,
     "metadata": {},
     "output_type": "execute_result"
    }
   ],
   "source": [
    "i = []\n",
    "for x in skill_df['regex_pattern']:\n",
    "    i.append(count_text(x,text))\n",
    "skill_df['count'] = i\n",
    "skill_df['ptg'] = round(skill_df['count']/len(text),2)\n",
    "skill_df"
   ]
  },
  {
   "cell_type": "code",
   "execution_count": 49,
   "metadata": {},
   "outputs": [
    {
     "data": {
      "image/png": "[encoded data removed]",
      "text/plain": [
       "<Figure size 720x360 with 1 Axes>"
      ]
     },
     "metadata": {},
     "output_type": "display_data"
    }
   ],
   "source": [
    "x = skill_df.sort_values(by = 'ptg')\n",
    "ax =x['ptg'].plot(kind = \"barh\",figsize = (10,5))\n",
    "ax.set_title('Skills as Percentage of Total Job Description', size = 15)\n",
    "ax.set_yticklabels(x['skill'], size = 12)\n",
    "ax.set_xticklabels(['{:.0%}'.format(x) for x in ax.get_xticks()])\n",
    "plt.show()"
   ]
  },
  {
   "cell_type": "code",
   "execution_count": 50,
   "metadata": {},
   "outputs": [],
   "source": [
    "degree = ['Bachelor','Masters', 'PHD']\n",
    "\n",
    "degree_patt = ['(?i)\\WBachelor|BD|Bachelors degree\\W','(?i)\\WMaster|MD|Masters degree\\W','(?i)\\WPHD|Doctor\\W']\n",
    "\n",
    "degree_df = pd.DataFrame(\n",
    "    {\"degree\": degree,\n",
    "     \"regex_pattern\": degree_patt})"
   ]
  },
  {
   "cell_type": "code",
   "execution_count": 51,
   "metadata": {},
   "outputs": [
    {
     "data": {
      "text/html": [
       "<div>\n",
       "<style scoped>\n",
       "    .dataframe tbody tr th:only-of-type {\n",
       "        vertical-align: middle;\n",
       "    }\n",
       "\n",
       "    .dataframe tbody tr th {\n",
       "        vertical-align: top;\n",
       "    }\n",
       "\n",
       "    .dataframe thead th {\n",
       "        text-align: right;\n",
       "    }\n",
       "</style>\n",
       "<table border=\"1\" class=\"dataframe\">\n",
       "  <thead>\n",
       "    <tr style=\"text-align: right;\">\n",
       "      <th></th>\n",
       "      <th>degree</th>\n",
       "      <th>regex_pattern</th>\n",
       "      <th>count</th>\n",
       "      <th>ptg</th>\n",
       "    </tr>\n",
       "  </thead>\n",
       "  <tbody>\n",
       "    <tr>\n",
       "      <th>0</th>\n",
       "      <td>Bachelor</td>\n",
       "      <td>(?i)\\WBachelor|BD|Bachelors degree\\W</td>\n",
       "      <td>2189</td>\n",
       "      <td>0.31</td>\n",
       "    </tr>\n",
       "    <tr>\n",
       "      <th>1</th>\n",
       "      <td>Masters</td>\n",
       "      <td>(?i)\\WMaster|MD|Masters degree\\W</td>\n",
       "      <td>2248</td>\n",
       "      <td>0.32</td>\n",
       "    </tr>\n",
       "    <tr>\n",
       "      <th>2</th>\n",
       "      <td>PHD</td>\n",
       "      <td>(?i)\\WPHD|Doctor\\W</td>\n",
       "      <td>1724</td>\n",
       "      <td>0.25</td>\n",
       "    </tr>\n",
       "  </tbody>\n",
       "</table>\n",
       "</div>"
      ],
      "text/plain": [
       "     degree                         regex_pattern  count   ptg\n",
       "0  Bachelor  (?i)\\WBachelor|BD|Bachelors degree\\W   2189  0.31\n",
       "1   Masters      (?i)\\WMaster|MD|Masters degree\\W   2248  0.32\n",
       "2       PHD                    (?i)\\WPHD|Doctor\\W   1724  0.25"
      ]
     },
     "execution_count": 51,
     "metadata": {},
     "output_type": "execute_result"
    }
   ],
   "source": [
    "j = []\n",
    "for x in degree_df['regex_pattern']:\n",
    "    j.append(count_text(x,text))\n",
    "degree_df['count'] = j\n",
    "degree_df['ptg'] = round(degree_df['count']/len(text),2)\n",
    "degree_df"
   ]
  },
  {
   "cell_type": "code",
   "execution_count": 53,
   "metadata": {},
   "outputs": [
    {
     "data": {
      "image/png": "[encoded data removed]",
      "text/plain": [
       "<Figure size 720x360 with 1 Axes>"
      ]
     },
     "metadata": {},
     "output_type": "display_data"
    }
   ],
   "source": [
    "x = degree_df.sort_values(by = 'ptg')\n",
    "ax =x['ptg'].plot(kind = \"barh\",figsize = (10,5))\n",
    "ax.set_title('Degree as a percentage of job descripton', size = 15)\n",
    "ax.set_yticklabels(x['degree'], size = 12)\n",
    "ax.set_xticklabels(['{:.0%}'.format(x) for x in ax.get_xticks()])\n",
    "plt.show()"
   ]
  },
  {
   "cell_type": "code",
   "execution_count": null,
   "metadata": {},
   "outputs": [],
   "source": []
  }
 ],
 "metadata": {
  "kernelspec": {
   "display_name": "Python 3",
   "language": "python",
   "name": "python3"
  },
  "language_info": {
   "codemirror_mode": {
    "name": "ipython",
    "version": 3
   },
   "file_extension": ".py",
   "mimetype": "text/x-python",
   "name": "python",
   "nbconvert_exporter": "python",
   "pygments_lexer": "ipython3",
   "version": "3.7.6"
  }
 },
 "nbformat": 4,
 "nbformat_minor": 4
}
